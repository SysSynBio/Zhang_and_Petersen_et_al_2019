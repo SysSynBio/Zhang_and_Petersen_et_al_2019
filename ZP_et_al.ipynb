{
 "cells": [
  {
   "cell_type": "markdown",
   "metadata": {},
   "source": [
    "Data analysis for Zhang and Petersen et al 2019"
   ]
  },
  {
   "cell_type": "markdown",
   "metadata": {
    "toc-hr-collapsed": true
   },
   "source": [
    "# Data & preprocessing"
   ]
  },
  {
   "cell_type": "markdown",
   "metadata": {
    "toc-hr-collapsed": false
   },
   "source": [
    "## Imports"
   ]
  },
  {
   "cell_type": "code",
   "execution_count": 1,
   "metadata": {},
   "outputs": [
    {
     "name": "stderr",
     "output_type": "stream",
     "text": [
      "/usr/local/share/jupyteruser/.pyenv/versions/ART_3.6/lib/python3.6/site-packages/tqdm/autonotebook/__init__.py:14: TqdmExperimentalWarning: Using `tqdm.autonotebook.tqdm` in notebook mode. Use `tqdm.tqdm` instead to force console mode (e.g. in jupyter console)\n",
      "  \" (e.g. in jupyter console)\", TqdmExperimentalWarning)\n"
     ]
    }
   ],
   "source": [
    "import sys\n",
    "import os\n",
    "import numpy as np\n",
    "import pandas as pd\n",
    "import matplotlib.pyplot as plt\n",
    "%matplotlib inline\n",
    "import seaborn as sns\n",
    "from scipy.interpolate import UnivariateSpline\n",
    "from scipy import stats\n",
    "import pickle\n",
    "import utility_ZP as utils_p\n",
    "\n",
    "#import art\n",
    "sys.path.append('./AutomatedRecommendationTool')\n",
    "\n",
    "from AutomaticRecommendationTool.art import *\n",
    "import AutomaticRecommendationTool.plot as plot"
   ]
  },
  {
   "cell_type": "code",
   "execution_count": 2,
   "metadata": {},
   "outputs": [],
   "source": [
    "sns.set_context(\"talk\")\n",
    "sns.set_style(\"white\")"
   ]
  },
  {
   "cell_type": "markdown",
   "metadata": {
    "toc-hr-collapsed": true
   },
   "source": [
    "## Import data and reformat"
   ]
  },
  {
   "cell_type": "markdown",
   "metadata": {},
   "source": [
    "### from ICE "
   ]
  },
  {
   "cell_type": "code",
   "execution_count": 3,
   "metadata": {},
   "outputs": [],
   "source": [
    "#import requests\n",
    "\n",
    "#ICE_user = \"XXXX\"\n",
    "#ICE_pass = \"YYYY\"\n",
    "\n",
    "#headers = {'Content-Type': 'application/json'}\n",
    "#data = f'{{email:{ICE_user}, password:{ICE_pass}}}'\n",
    "#sessionId = requests.post('https://public-registry.jbei.org/rest/accesstokens', headers=headers, data=data).json()['sessionId']\n",
    "\n",
    "#headers = {'Content-Type': 'application/json','X-ICE-Authentication-SessionId': sessionId,'Cache-Control': 'no-cache'}\n",
    "#parts_list = [requests.get('https://public-registry.jbei.org/rest/parts/' + str(query), headers=headers).json() for query in range(12607,13183)]\n",
    "\n",
    "#ice = pd.DataFrame(parts_list, columns = ['name','shortDescription','alias','strainData'])\n",
    "#ice['strainData'] = [dictionary['genotypePhenotype'] for dictionary in ice.strainData]\n",
    "#ice.to_csv('./ice.csv',index=False)"
   ]
  },
  {
   "cell_type": "code",
   "execution_count": 4,
   "metadata": {},
   "outputs": [
    {
     "data": {
      "text/html": [
       "<div>\n",
       "<style scoped>\n",
       "    .dataframe tbody tr th:only-of-type {\n",
       "        vertical-align: middle;\n",
       "    }\n",
       "\n",
       "    .dataframe tbody tr th {\n",
       "        vertical-align: top;\n",
       "    }\n",
       "\n",
       "    .dataframe thead th {\n",
       "        text-align: right;\n",
       "    }\n",
       "</style>\n",
       "<table border=\"1\" class=\"dataframe\">\n",
       "  <thead>\n",
       "    <tr style=\"text-align: right;\">\n",
       "      <th></th>\n",
       "      <th>name</th>\n",
       "      <th>shortDescription</th>\n",
       "      <th>alias</th>\n",
       "      <th>strainData</th>\n",
       "    </tr>\n",
       "  </thead>\n",
       "  <tbody>\n",
       "    <tr>\n",
       "      <th>0</th>\n",
       "      <td>SP001</td>\n",
       "      <td>Cured: y; Single_population: y</td>\n",
       "      <td>yp23_A01</td>\n",
       "      <td>04_08_17_20_NI</td>\n",
       "    </tr>\n",
       "    <tr>\n",
       "      <th>1</th>\n",
       "      <td>SP002</td>\n",
       "      <td>Cured: y; Single_population: y</td>\n",
       "      <td>yp23_A02</td>\n",
       "      <td>04_NI_13_19_26</td>\n",
       "    </tr>\n",
       "    <tr>\n",
       "      <th>2</th>\n",
       "      <td>SP003</td>\n",
       "      <td>Cured: y; Single_population: y</td>\n",
       "      <td>yp23_A03</td>\n",
       "      <td>02_11_13_24_29</td>\n",
       "    </tr>\n",
       "    <tr>\n",
       "      <th>3</th>\n",
       "      <td>SP004</td>\n",
       "      <td>Cured: y; Single_population: y</td>\n",
       "      <td>yp23_A04</td>\n",
       "      <td>02_11_13_19_25</td>\n",
       "    </tr>\n",
       "    <tr>\n",
       "      <th>4</th>\n",
       "      <td>SP005</td>\n",
       "      <td>Cured: y; Single_population: y</td>\n",
       "      <td>yp23_A05</td>\n",
       "      <td>05_07_16_22_NI</td>\n",
       "    </tr>\n",
       "  </tbody>\n",
       "</table>\n",
       "</div>"
      ],
      "text/plain": [
       "    name                shortDescription     alias      strainData\n",
       "0  SP001  Cured: y; Single_population: y  yp23_A01  04_08_17_20_NI\n",
       "1  SP002  Cured: y; Single_population: y  yp23_A02  04_NI_13_19_26\n",
       "2  SP003  Cured: y; Single_population: y  yp23_A03  02_11_13_24_29\n",
       "3  SP004  Cured: y; Single_population: y  yp23_A04  02_11_13_19_25\n",
       "4  SP005  Cured: y; Single_population: y  yp23_A05  05_07_16_22_NI"
      ]
     },
     "execution_count": 4,
     "metadata": {},
     "output_type": "execute_result"
    }
   ],
   "source": [
    "ice = pd.read_csv('ice.csv')\n",
    "ice.head()"
   ]
  },
  {
   "cell_type": "markdown",
   "metadata": {},
   "source": [
    "Is there one line for each strain? (96 wells_p_plate * 6 plates = 576 wells)"
   ]
  },
  {
   "cell_type": "code",
   "execution_count": 5,
   "metadata": {},
   "outputs": [],
   "source": [
    "assert len(ice) == 576"
   ]
  },
  {
   "cell_type": "markdown",
   "metadata": {},
   "source": [
    "Split information in 'shortDescription' into seperate columns"
   ]
  },
  {
   "cell_type": "code",
   "execution_count": 6,
   "metadata": {},
   "outputs": [
    {
     "data": {
      "text/html": [
       "<div>\n",
       "<style scoped>\n",
       "    .dataframe tbody tr th:only-of-type {\n",
       "        vertical-align: middle;\n",
       "    }\n",
       "\n",
       "    .dataframe tbody tr th {\n",
       "        vertical-align: top;\n",
       "    }\n",
       "\n",
       "    .dataframe thead th {\n",
       "        text-align: right;\n",
       "    }\n",
       "</style>\n",
       "<table border=\"1\" class=\"dataframe\">\n",
       "  <thead>\n",
       "    <tr style=\"text-align: right;\">\n",
       "      <th></th>\n",
       "      <th>name</th>\n",
       "      <th>shortDescription</th>\n",
       "      <th>alias</th>\n",
       "      <th>strainData</th>\n",
       "      <th>cured</th>\n",
       "      <th>single_population</th>\n",
       "    </tr>\n",
       "  </thead>\n",
       "  <tbody>\n",
       "    <tr>\n",
       "      <th>0</th>\n",
       "      <td>SP001</td>\n",
       "      <td>Cured: y; Single_population: y</td>\n",
       "      <td>yp23_A01</td>\n",
       "      <td>04_08_17_20_NI</td>\n",
       "      <td>y</td>\n",
       "      <td>y</td>\n",
       "    </tr>\n",
       "    <tr>\n",
       "      <th>1</th>\n",
       "      <td>SP002</td>\n",
       "      <td>Cured: y; Single_population: y</td>\n",
       "      <td>yp23_A02</td>\n",
       "      <td>04_NI_13_19_26</td>\n",
       "      <td>y</td>\n",
       "      <td>y</td>\n",
       "    </tr>\n",
       "    <tr>\n",
       "      <th>2</th>\n",
       "      <td>SP003</td>\n",
       "      <td>Cured: y; Single_population: y</td>\n",
       "      <td>yp23_A03</td>\n",
       "      <td>02_11_13_24_29</td>\n",
       "      <td>y</td>\n",
       "      <td>y</td>\n",
       "    </tr>\n",
       "    <tr>\n",
       "      <th>3</th>\n",
       "      <td>SP004</td>\n",
       "      <td>Cured: y; Single_population: y</td>\n",
       "      <td>yp23_A04</td>\n",
       "      <td>02_11_13_19_25</td>\n",
       "      <td>y</td>\n",
       "      <td>y</td>\n",
       "    </tr>\n",
       "    <tr>\n",
       "      <th>4</th>\n",
       "      <td>SP005</td>\n",
       "      <td>Cured: y; Single_population: y</td>\n",
       "      <td>yp23_A05</td>\n",
       "      <td>05_07_16_22_NI</td>\n",
       "      <td>y</td>\n",
       "      <td>y</td>\n",
       "    </tr>\n",
       "  </tbody>\n",
       "</table>\n",
       "</div>"
      ],
      "text/plain": [
       "    name                shortDescription     alias      strainData cured  \\\n",
       "0  SP001  Cured: y; Single_population: y  yp23_A01  04_08_17_20_NI     y   \n",
       "1  SP002  Cured: y; Single_population: y  yp23_A02  04_NI_13_19_26     y   \n",
       "2  SP003  Cured: y; Single_population: y  yp23_A03  02_11_13_24_29     y   \n",
       "3  SP004  Cured: y; Single_population: y  yp23_A04  02_11_13_19_25     y   \n",
       "4  SP005  Cured: y; Single_population: y  yp23_A05  05_07_16_22_NI     y   \n",
       "\n",
       "  single_population  \n",
       "0                 y  \n",
       "1                 y  \n",
       "2                 y  \n",
       "3                 y  \n",
       "4                 y  "
      ]
     },
     "execution_count": 6,
     "metadata": {},
     "output_type": "execute_result"
    }
   ],
   "source": [
    "ice['cured'], ice['single_population'] = ice['shortDescription'].str.split(';', 1).str\n",
    "ice['cured'] = [ele.split(\": \", 1)[1].replace(\"'\",\"\") for ele in ice.cured]\n",
    "ice['single_population'] = [ele.split(\": \", 1)[1] for ele in ice.single_population]\n",
    "ice.head()"
   ]
  },
  {
   "cell_type": "markdown",
   "metadata": {},
   "source": [
    "Split information in 'alias' into seperate columns"
   ]
  },
  {
   "cell_type": "code",
   "execution_count": 7,
   "metadata": {},
   "outputs": [
    {
     "data": {
      "text/html": [
       "<div>\n",
       "<style scoped>\n",
       "    .dataframe tbody tr th:only-of-type {\n",
       "        vertical-align: middle;\n",
       "    }\n",
       "\n",
       "    .dataframe tbody tr th {\n",
       "        vertical-align: top;\n",
       "    }\n",
       "\n",
       "    .dataframe thead th {\n",
       "        text-align: right;\n",
       "    }\n",
       "</style>\n",
       "<table border=\"1\" class=\"dataframe\">\n",
       "  <thead>\n",
       "    <tr style=\"text-align: right;\">\n",
       "      <th></th>\n",
       "      <th>name</th>\n",
       "      <th>shortDescription</th>\n",
       "      <th>alias</th>\n",
       "      <th>strainData</th>\n",
       "      <th>cured</th>\n",
       "      <th>single_population</th>\n",
       "      <th>plate</th>\n",
       "      <th>well</th>\n",
       "      <th>row</th>\n",
       "      <th>col</th>\n",
       "    </tr>\n",
       "  </thead>\n",
       "  <tbody>\n",
       "    <tr>\n",
       "      <th>0</th>\n",
       "      <td>SP001</td>\n",
       "      <td>Cured: y; Single_population: y</td>\n",
       "      <td>yp23_A01</td>\n",
       "      <td>04_08_17_20_NI</td>\n",
       "      <td>y</td>\n",
       "      <td>y</td>\n",
       "      <td>yp23</td>\n",
       "      <td>A01</td>\n",
       "      <td>A</td>\n",
       "      <td>01</td>\n",
       "    </tr>\n",
       "    <tr>\n",
       "      <th>1</th>\n",
       "      <td>SP002</td>\n",
       "      <td>Cured: y; Single_population: y</td>\n",
       "      <td>yp23_A02</td>\n",
       "      <td>04_NI_13_19_26</td>\n",
       "      <td>y</td>\n",
       "      <td>y</td>\n",
       "      <td>yp23</td>\n",
       "      <td>A02</td>\n",
       "      <td>A</td>\n",
       "      <td>02</td>\n",
       "    </tr>\n",
       "    <tr>\n",
       "      <th>2</th>\n",
       "      <td>SP003</td>\n",
       "      <td>Cured: y; Single_population: y</td>\n",
       "      <td>yp23_A03</td>\n",
       "      <td>02_11_13_24_29</td>\n",
       "      <td>y</td>\n",
       "      <td>y</td>\n",
       "      <td>yp23</td>\n",
       "      <td>A03</td>\n",
       "      <td>A</td>\n",
       "      <td>03</td>\n",
       "    </tr>\n",
       "    <tr>\n",
       "      <th>3</th>\n",
       "      <td>SP004</td>\n",
       "      <td>Cured: y; Single_population: y</td>\n",
       "      <td>yp23_A04</td>\n",
       "      <td>02_11_13_19_25</td>\n",
       "      <td>y</td>\n",
       "      <td>y</td>\n",
       "      <td>yp23</td>\n",
       "      <td>A04</td>\n",
       "      <td>A</td>\n",
       "      <td>04</td>\n",
       "    </tr>\n",
       "    <tr>\n",
       "      <th>4</th>\n",
       "      <td>SP005</td>\n",
       "      <td>Cured: y; Single_population: y</td>\n",
       "      <td>yp23_A05</td>\n",
       "      <td>05_07_16_22_NI</td>\n",
       "      <td>y</td>\n",
       "      <td>y</td>\n",
       "      <td>yp23</td>\n",
       "      <td>A05</td>\n",
       "      <td>A</td>\n",
       "      <td>05</td>\n",
       "    </tr>\n",
       "  </tbody>\n",
       "</table>\n",
       "</div>"
      ],
      "text/plain": [
       "    name                shortDescription     alias      strainData cured  \\\n",
       "0  SP001  Cured: y; Single_population: y  yp23_A01  04_08_17_20_NI     y   \n",
       "1  SP002  Cured: y; Single_population: y  yp23_A02  04_NI_13_19_26     y   \n",
       "2  SP003  Cured: y; Single_population: y  yp23_A03  02_11_13_24_29     y   \n",
       "3  SP004  Cured: y; Single_population: y  yp23_A04  02_11_13_19_25     y   \n",
       "4  SP005  Cured: y; Single_population: y  yp23_A05  05_07_16_22_NI     y   \n",
       "\n",
       "  single_population plate well row col  \n",
       "0                 y  yp23  A01   A  01  \n",
       "1                 y  yp23  A02   A  02  \n",
       "2                 y  yp23  A03   A  03  \n",
       "3                 y  yp23  A04   A  04  \n",
       "4                 y  yp23  A05   A  05  "
      ]
     },
     "execution_count": 7,
     "metadata": {},
     "output_type": "execute_result"
    }
   ],
   "source": [
    "ice['plate'], ice['well'] = ice['alias'].str.split('_', 1).str\n",
    "ice['row'] = ice['well'].str[0]\n",
    "ice['col'] = ice['well'].str[1:3]\n",
    "ice.head()"
   ]
  },
  {
   "cell_type": "markdown",
   "metadata": {},
   "source": [
    "Rename columns according to EDD"
   ]
  },
  {
   "cell_type": "code",
   "execution_count": 8,
   "metadata": {},
   "outputs": [],
   "source": [
    "ice = ice.drop(columns = ['shortDescription', 'alias'])"
   ]
  },
  {
   "cell_type": "code",
   "execution_count": 9,
   "metadata": {},
   "outputs": [
    {
     "data": {
      "text/html": [
       "<div>\n",
       "<style scoped>\n",
       "    .dataframe tbody tr th:only-of-type {\n",
       "        vertical-align: middle;\n",
       "    }\n",
       "\n",
       "    .dataframe tbody tr th {\n",
       "        vertical-align: top;\n",
       "    }\n",
       "\n",
       "    .dataframe thead th {\n",
       "        text-align: right;\n",
       "    }\n",
       "</style>\n",
       "<table border=\"1\" class=\"dataframe\">\n",
       "  <thead>\n",
       "    <tr style=\"text-align: right;\">\n",
       "      <th></th>\n",
       "      <th>Line Name</th>\n",
       "      <th>Line Description</th>\n",
       "      <th>cured</th>\n",
       "      <th>single_population</th>\n",
       "      <th>plate</th>\n",
       "      <th>well</th>\n",
       "      <th>row</th>\n",
       "      <th>col</th>\n",
       "    </tr>\n",
       "  </thead>\n",
       "  <tbody>\n",
       "    <tr>\n",
       "      <th>0</th>\n",
       "      <td>SP001</td>\n",
       "      <td>04_08_17_20_NI</td>\n",
       "      <td>y</td>\n",
       "      <td>y</td>\n",
       "      <td>yp23</td>\n",
       "      <td>A01</td>\n",
       "      <td>A</td>\n",
       "      <td>01</td>\n",
       "    </tr>\n",
       "    <tr>\n",
       "      <th>1</th>\n",
       "      <td>SP002</td>\n",
       "      <td>04_NI_13_19_26</td>\n",
       "      <td>y</td>\n",
       "      <td>y</td>\n",
       "      <td>yp23</td>\n",
       "      <td>A02</td>\n",
       "      <td>A</td>\n",
       "      <td>02</td>\n",
       "    </tr>\n",
       "    <tr>\n",
       "      <th>2</th>\n",
       "      <td>SP003</td>\n",
       "      <td>02_11_13_24_29</td>\n",
       "      <td>y</td>\n",
       "      <td>y</td>\n",
       "      <td>yp23</td>\n",
       "      <td>A03</td>\n",
       "      <td>A</td>\n",
       "      <td>03</td>\n",
       "    </tr>\n",
       "    <tr>\n",
       "      <th>3</th>\n",
       "      <td>SP004</td>\n",
       "      <td>02_11_13_19_25</td>\n",
       "      <td>y</td>\n",
       "      <td>y</td>\n",
       "      <td>yp23</td>\n",
       "      <td>A04</td>\n",
       "      <td>A</td>\n",
       "      <td>04</td>\n",
       "    </tr>\n",
       "    <tr>\n",
       "      <th>4</th>\n",
       "      <td>SP005</td>\n",
       "      <td>05_07_16_22_NI</td>\n",
       "      <td>y</td>\n",
       "      <td>y</td>\n",
       "      <td>yp23</td>\n",
       "      <td>A05</td>\n",
       "      <td>A</td>\n",
       "      <td>05</td>\n",
       "    </tr>\n",
       "  </tbody>\n",
       "</table>\n",
       "</div>"
      ],
      "text/plain": [
       "  Line Name Line Description cured single_population plate well row col\n",
       "0     SP001   04_08_17_20_NI     y                 y  yp23  A01   A  01\n",
       "1     SP002   04_NI_13_19_26     y                 y  yp23  A02   A  02\n",
       "2     SP003   02_11_13_24_29     y                 y  yp23  A03   A  03\n",
       "3     SP004   02_11_13_19_25     y                 y  yp23  A04   A  04\n",
       "4     SP005   05_07_16_22_NI     y                 y  yp23  A05   A  05"
      ]
     },
     "execution_count": 9,
     "metadata": {},
     "output_type": "execute_result"
    }
   ],
   "source": [
    "ice.columns = ['Line Name','Line Description', 'cured', 'single_population','plate','well','row','col']\n",
    "ice.head()"
   ]
  },
  {
   "cell_type": "markdown",
   "metadata": {},
   "source": [
    "### from EDD"
   ]
  },
  {
   "cell_type": "code",
   "execution_count": 10,
   "metadata": {},
   "outputs": [],
   "source": [
    "#edd_study_slug = 'petersen-et-al-2019'\n",
    "#edd_server = 'edd-test.jbei.org'\n",
    "#edd = utils.load_EDD_study(edd_study_slug=edd_study_slug, edd_server=edd_server)\n",
    "#edd.to_csv('./edd.csv',index=False)"
   ]
  },
  {
   "cell_type": "code",
   "execution_count": 11,
   "metadata": {},
   "outputs": [
    {
     "data": {
      "text/html": [
       "<div>\n",
       "<style scoped>\n",
       "    .dataframe tbody tr th:only-of-type {\n",
       "        vertical-align: middle;\n",
       "    }\n",
       "\n",
       "    .dataframe tbody tr th {\n",
       "        vertical-align: top;\n",
       "    }\n",
       "\n",
       "    .dataframe thead th {\n",
       "        text-align: right;\n",
       "    }\n",
       "</style>\n",
       "<table border=\"1\" class=\"dataframe\">\n",
       "  <thead>\n",
       "    <tr style=\"text-align: right;\">\n",
       "      <th></th>\n",
       "      <th>Line Name</th>\n",
       "      <th>Line Description</th>\n",
       "      <th>Measurement Type</th>\n",
       "      <th>Value</th>\n",
       "      <th>Hours</th>\n",
       "    </tr>\n",
       "  </thead>\n",
       "  <tbody>\n",
       "    <tr>\n",
       "      <th>0</th>\n",
       "      <td>SP001-r1</td>\n",
       "      <td>Background: n</td>\n",
       "      <td>Optical Density</td>\n",
       "      <td>0.117</td>\n",
       "      <td>13.0</td>\n",
       "    </tr>\n",
       "    <tr>\n",
       "      <th>1</th>\n",
       "      <td>SP001-r1</td>\n",
       "      <td>Background: n</td>\n",
       "      <td>Optical Density</td>\n",
       "      <td>0.116</td>\n",
       "      <td>28.0</td>\n",
       "    </tr>\n",
       "    <tr>\n",
       "      <th>2</th>\n",
       "      <td>SP001-r1</td>\n",
       "      <td>Background: n</td>\n",
       "      <td>Optical Density</td>\n",
       "      <td>0.116</td>\n",
       "      <td>43.0</td>\n",
       "    </tr>\n",
       "    <tr>\n",
       "      <th>3</th>\n",
       "      <td>SP001-r1</td>\n",
       "      <td>Background: n</td>\n",
       "      <td>Optical Density</td>\n",
       "      <td>0.116</td>\n",
       "      <td>58.0</td>\n",
       "    </tr>\n",
       "    <tr>\n",
       "      <th>4</th>\n",
       "      <td>SP001-r1</td>\n",
       "      <td>Background: n</td>\n",
       "      <td>Optical Density</td>\n",
       "      <td>0.116</td>\n",
       "      <td>73.0</td>\n",
       "    </tr>\n",
       "  </tbody>\n",
       "</table>\n",
       "</div>"
      ],
      "text/plain": [
       "  Line Name Line Description Measurement Type  Value  Hours\n",
       "0  SP001-r1    Background: n  Optical Density  0.117   13.0\n",
       "1  SP001-r1    Background: n  Optical Density  0.116   28.0\n",
       "2  SP001-r1    Background: n  Optical Density  0.116   43.0\n",
       "3  SP001-r1    Background: n  Optical Density  0.116   58.0\n",
       "4  SP001-r1    Background: n  Optical Density  0.116   73.0"
      ]
     },
     "execution_count": 11,
     "metadata": {},
     "output_type": "execute_result"
    }
   ],
   "source": [
    "edd = pd.read_csv('edd.csv',usecols = ['Line Name', 'Line Description', 'Measurement Type', 'Value', 'Hours'])\n",
    "edd.head()"
   ]
  },
  {
   "cell_type": "markdown",
   "metadata": {},
   "source": [
    "Did all OD and gfp measurements get imported? (2 x 144576 = 289152 lines)"
   ]
  },
  {
   "cell_type": "code",
   "execution_count": 12,
   "metadata": {},
   "outputs": [],
   "source": [
    "assert len(edd) == 289152"
   ]
  },
  {
   "cell_type": "markdown",
   "metadata": {},
   "source": [
    "remove 'Background: ' from column Line_description"
   ]
  },
  {
   "cell_type": "code",
   "execution_count": 13,
   "metadata": {},
   "outputs": [
    {
     "data": {
      "text/html": [
       "<div>\n",
       "<style scoped>\n",
       "    .dataframe tbody tr th:only-of-type {\n",
       "        vertical-align: middle;\n",
       "    }\n",
       "\n",
       "    .dataframe tbody tr th {\n",
       "        vertical-align: top;\n",
       "    }\n",
       "\n",
       "    .dataframe thead th {\n",
       "        text-align: right;\n",
       "    }\n",
       "</style>\n",
       "<table border=\"1\" class=\"dataframe\">\n",
       "  <thead>\n",
       "    <tr style=\"text-align: right;\">\n",
       "      <th></th>\n",
       "      <th>Line Name</th>\n",
       "      <th>Line Description</th>\n",
       "      <th>Measurement Type</th>\n",
       "      <th>Value</th>\n",
       "      <th>Hours</th>\n",
       "    </tr>\n",
       "  </thead>\n",
       "  <tbody>\n",
       "    <tr>\n",
       "      <th>0</th>\n",
       "      <td>SP001-r1</td>\n",
       "      <td>n</td>\n",
       "      <td>Optical Density</td>\n",
       "      <td>0.117</td>\n",
       "      <td>13.0</td>\n",
       "    </tr>\n",
       "    <tr>\n",
       "      <th>1</th>\n",
       "      <td>SP001-r1</td>\n",
       "      <td>n</td>\n",
       "      <td>Optical Density</td>\n",
       "      <td>0.116</td>\n",
       "      <td>28.0</td>\n",
       "    </tr>\n",
       "    <tr>\n",
       "      <th>2</th>\n",
       "      <td>SP001-r1</td>\n",
       "      <td>n</td>\n",
       "      <td>Optical Density</td>\n",
       "      <td>0.116</td>\n",
       "      <td>43.0</td>\n",
       "    </tr>\n",
       "    <tr>\n",
       "      <th>3</th>\n",
       "      <td>SP001-r1</td>\n",
       "      <td>n</td>\n",
       "      <td>Optical Density</td>\n",
       "      <td>0.116</td>\n",
       "      <td>58.0</td>\n",
       "    </tr>\n",
       "    <tr>\n",
       "      <th>4</th>\n",
       "      <td>SP001-r1</td>\n",
       "      <td>n</td>\n",
       "      <td>Optical Density</td>\n",
       "      <td>0.116</td>\n",
       "      <td>73.0</td>\n",
       "    </tr>\n",
       "  </tbody>\n",
       "</table>\n",
       "</div>"
      ],
      "text/plain": [
       "  Line Name Line Description Measurement Type  Value  Hours\n",
       "0  SP001-r1                n  Optical Density  0.117   13.0\n",
       "1  SP001-r1                n  Optical Density  0.116   28.0\n",
       "2  SP001-r1                n  Optical Density  0.116   43.0\n",
       "3  SP001-r1                n  Optical Density  0.116   58.0\n",
       "4  SP001-r1                n  Optical Density  0.116   73.0"
      ]
     },
     "execution_count": 13,
     "metadata": {},
     "output_type": "execute_result"
    }
   ],
   "source": [
    "edd['Line Description'] = [x[12:] for x in edd['Line Description']]\n",
    "edd.head()"
   ]
  },
  {
   "cell_type": "markdown",
   "metadata": {},
   "source": [
    "What measurement types did we import?"
   ]
  },
  {
   "cell_type": "code",
   "execution_count": 14,
   "metadata": {},
   "outputs": [
    {
     "data": {
      "text/plain": [
       "Enhanced Green Fluorescent Protein    144576\n",
       "Optical Density                       144576\n",
       "Name: Measurement Type, dtype: int64"
      ]
     },
     "execution_count": 14,
     "metadata": {},
     "output_type": "execute_result"
    }
   ],
   "source": [
    "edd['Measurement Type'].value_counts()"
   ]
  },
  {
   "cell_type": "markdown",
   "metadata": {},
   "source": [
    "Move measurements of 'Optical Density' and 'Enhanced Green Fluorescent Protein' into seperate columns"
   ]
  },
  {
   "cell_type": "code",
   "execution_count": 15,
   "metadata": {},
   "outputs": [
    {
     "data": {
      "text/html": [
       "<div>\n",
       "<style scoped>\n",
       "    .dataframe tbody tr th:only-of-type {\n",
       "        vertical-align: middle;\n",
       "    }\n",
       "\n",
       "    .dataframe tbody tr th {\n",
       "        vertical-align: top;\n",
       "    }\n",
       "\n",
       "    .dataframe thead tr th {\n",
       "        text-align: left;\n",
       "    }\n",
       "</style>\n",
       "<table border=\"1\" class=\"dataframe\">\n",
       "  <thead>\n",
       "    <tr>\n",
       "      <th></th>\n",
       "      <th>Line Name</th>\n",
       "      <th>Line Description</th>\n",
       "      <th>Hours</th>\n",
       "      <th colspan=\"2\" halign=\"left\">Value</th>\n",
       "    </tr>\n",
       "    <tr>\n",
       "      <th>Measurement Type</th>\n",
       "      <th></th>\n",
       "      <th></th>\n",
       "      <th></th>\n",
       "      <th>Enhanced Green Fluorescent Protein</th>\n",
       "      <th>Optical Density</th>\n",
       "    </tr>\n",
       "  </thead>\n",
       "  <tbody>\n",
       "    <tr>\n",
       "      <th>0</th>\n",
       "      <td>SP001-r1</td>\n",
       "      <td>n</td>\n",
       "      <td>13.0</td>\n",
       "      <td>502.0</td>\n",
       "      <td>0.117</td>\n",
       "    </tr>\n",
       "    <tr>\n",
       "      <th>1</th>\n",
       "      <td>SP001-r1</td>\n",
       "      <td>n</td>\n",
       "      <td>28.0</td>\n",
       "      <td>509.0</td>\n",
       "      <td>0.116</td>\n",
       "    </tr>\n",
       "    <tr>\n",
       "      <th>2</th>\n",
       "      <td>SP001-r1</td>\n",
       "      <td>n</td>\n",
       "      <td>43.0</td>\n",
       "      <td>464.0</td>\n",
       "      <td>0.116</td>\n",
       "    </tr>\n",
       "    <tr>\n",
       "      <th>3</th>\n",
       "      <td>SP001-r1</td>\n",
       "      <td>n</td>\n",
       "      <td>58.0</td>\n",
       "      <td>476.0</td>\n",
       "      <td>0.116</td>\n",
       "    </tr>\n",
       "    <tr>\n",
       "      <th>4</th>\n",
       "      <td>SP001-r1</td>\n",
       "      <td>n</td>\n",
       "      <td>73.0</td>\n",
       "      <td>461.0</td>\n",
       "      <td>0.116</td>\n",
       "    </tr>\n",
       "  </tbody>\n",
       "</table>\n",
       "</div>"
      ],
      "text/plain": [
       "                 Line Name Line Description Hours  \\\n",
       "Measurement Type                                    \n",
       "0                 SP001-r1                n  13.0   \n",
       "1                 SP001-r1                n  28.0   \n",
       "2                 SP001-r1                n  43.0   \n",
       "3                 SP001-r1                n  58.0   \n",
       "4                 SP001-r1                n  73.0   \n",
       "\n",
       "                                              Value                  \n",
       "Measurement Type Enhanced Green Fluorescent Protein Optical Density  \n",
       "0                                             502.0           0.117  \n",
       "1                                             509.0           0.116  \n",
       "2                                             464.0           0.116  \n",
       "3                                             476.0           0.116  \n",
       "4                                             461.0           0.116  "
      ]
     },
     "execution_count": 15,
     "metadata": {},
     "output_type": "execute_result"
    }
   ],
   "source": [
    "edd = edd.set_index(['Line Name','Line Description', 'Hours', 'Measurement Type'])\n",
    "edd = edd.unstack().reset_index()\n",
    "edd.head()"
   ]
  },
  {
   "cell_type": "markdown",
   "metadata": {},
   "source": [
    "Collapse multiindex of columns"
   ]
  },
  {
   "cell_type": "code",
   "execution_count": 16,
   "metadata": {},
   "outputs": [
    {
     "data": {
      "text/html": [
       "<div>\n",
       "<style scoped>\n",
       "    .dataframe tbody tr th:only-of-type {\n",
       "        vertical-align: middle;\n",
       "    }\n",
       "\n",
       "    .dataframe tbody tr th {\n",
       "        vertical-align: top;\n",
       "    }\n",
       "\n",
       "    .dataframe thead th {\n",
       "        text-align: right;\n",
       "    }\n",
       "</style>\n",
       "<table border=\"1\" class=\"dataframe\">\n",
       "  <thead>\n",
       "    <tr style=\"text-align: right;\">\n",
       "      <th></th>\n",
       "      <th>Line Name</th>\n",
       "      <th>used_for_bg_subtraction</th>\n",
       "      <th>time</th>\n",
       "      <th>gfp</th>\n",
       "      <th>od</th>\n",
       "    </tr>\n",
       "  </thead>\n",
       "  <tbody>\n",
       "    <tr>\n",
       "      <th>0</th>\n",
       "      <td>SP001-r1</td>\n",
       "      <td>n</td>\n",
       "      <td>13.0</td>\n",
       "      <td>502.0</td>\n",
       "      <td>0.117</td>\n",
       "    </tr>\n",
       "    <tr>\n",
       "      <th>1</th>\n",
       "      <td>SP001-r1</td>\n",
       "      <td>n</td>\n",
       "      <td>28.0</td>\n",
       "      <td>509.0</td>\n",
       "      <td>0.116</td>\n",
       "    </tr>\n",
       "    <tr>\n",
       "      <th>2</th>\n",
       "      <td>SP001-r1</td>\n",
       "      <td>n</td>\n",
       "      <td>43.0</td>\n",
       "      <td>464.0</td>\n",
       "      <td>0.116</td>\n",
       "    </tr>\n",
       "    <tr>\n",
       "      <th>3</th>\n",
       "      <td>SP001-r1</td>\n",
       "      <td>n</td>\n",
       "      <td>58.0</td>\n",
       "      <td>476.0</td>\n",
       "      <td>0.116</td>\n",
       "    </tr>\n",
       "    <tr>\n",
       "      <th>4</th>\n",
       "      <td>SP001-r1</td>\n",
       "      <td>n</td>\n",
       "      <td>73.0</td>\n",
       "      <td>461.0</td>\n",
       "      <td>0.116</td>\n",
       "    </tr>\n",
       "  </tbody>\n",
       "</table>\n",
       "</div>"
      ],
      "text/plain": [
       "  Line Name used_for_bg_subtraction  time    gfp     od\n",
       "0  SP001-r1                       n  13.0  502.0  0.117\n",
       "1  SP001-r1                       n  28.0  509.0  0.116\n",
       "2  SP001-r1                       n  43.0  464.0  0.116\n",
       "3  SP001-r1                       n  58.0  476.0  0.116\n",
       "4  SP001-r1                       n  73.0  461.0  0.116"
      ]
     },
     "execution_count": 16,
     "metadata": {},
     "output_type": "execute_result"
    }
   ],
   "source": [
    "edd.columns = edd.columns.droplevel()\n",
    "edd.columns = ['Line Name', 'used_for_bg_subtraction', 'time', 'gfp', 'od']\n",
    "edd.head()"
   ]
  },
  {
   "cell_type": "markdown",
   "metadata": {},
   "source": [
    "Split information in 'Line Name' into seperate columns"
   ]
  },
  {
   "cell_type": "code",
   "execution_count": 17,
   "metadata": {},
   "outputs": [
    {
     "data": {
      "text/html": [
       "<div>\n",
       "<style scoped>\n",
       "    .dataframe tbody tr th:only-of-type {\n",
       "        vertical-align: middle;\n",
       "    }\n",
       "\n",
       "    .dataframe tbody tr th {\n",
       "        vertical-align: top;\n",
       "    }\n",
       "\n",
       "    .dataframe thead th {\n",
       "        text-align: right;\n",
       "    }\n",
       "</style>\n",
       "<table border=\"1\" class=\"dataframe\">\n",
       "  <thead>\n",
       "    <tr style=\"text-align: right;\">\n",
       "      <th></th>\n",
       "      <th>Line Name</th>\n",
       "      <th>used_for_bg_subtraction</th>\n",
       "      <th>time</th>\n",
       "      <th>gfp</th>\n",
       "      <th>od</th>\n",
       "      <th>replicate_count</th>\n",
       "    </tr>\n",
       "  </thead>\n",
       "  <tbody>\n",
       "    <tr>\n",
       "      <th>0</th>\n",
       "      <td>SP001</td>\n",
       "      <td>n</td>\n",
       "      <td>13.0</td>\n",
       "      <td>502.0</td>\n",
       "      <td>0.117</td>\n",
       "      <td>r1</td>\n",
       "    </tr>\n",
       "    <tr>\n",
       "      <th>1</th>\n",
       "      <td>SP001</td>\n",
       "      <td>n</td>\n",
       "      <td>28.0</td>\n",
       "      <td>509.0</td>\n",
       "      <td>0.116</td>\n",
       "      <td>r1</td>\n",
       "    </tr>\n",
       "    <tr>\n",
       "      <th>2</th>\n",
       "      <td>SP001</td>\n",
       "      <td>n</td>\n",
       "      <td>43.0</td>\n",
       "      <td>464.0</td>\n",
       "      <td>0.116</td>\n",
       "      <td>r1</td>\n",
       "    </tr>\n",
       "    <tr>\n",
       "      <th>3</th>\n",
       "      <td>SP001</td>\n",
       "      <td>n</td>\n",
       "      <td>58.0</td>\n",
       "      <td>476.0</td>\n",
       "      <td>0.116</td>\n",
       "      <td>r1</td>\n",
       "    </tr>\n",
       "    <tr>\n",
       "      <th>4</th>\n",
       "      <td>SP001</td>\n",
       "      <td>n</td>\n",
       "      <td>73.0</td>\n",
       "      <td>461.0</td>\n",
       "      <td>0.116</td>\n",
       "      <td>r1</td>\n",
       "    </tr>\n",
       "  </tbody>\n",
       "</table>\n",
       "</div>"
      ],
      "text/plain": [
       "  Line Name used_for_bg_subtraction  time    gfp     od replicate_count\n",
       "0     SP001                       n  13.0  502.0  0.117              r1\n",
       "1     SP001                       n  28.0  509.0  0.116              r1\n",
       "2     SP001                       n  43.0  464.0  0.116              r1\n",
       "3     SP001                       n  58.0  476.0  0.116              r1\n",
       "4     SP001                       n  73.0  461.0  0.116              r1"
      ]
     },
     "execution_count": 17,
     "metadata": {},
     "output_type": "execute_result"
    }
   ],
   "source": [
    "edd['Line Name'], edd['replicate_count'] = edd['Line Name'].str.split('-', 1).str\n",
    "edd.head()"
   ]
  },
  {
   "cell_type": "markdown",
   "metadata": {},
   "source": [
    "### Merge edd and ice"
   ]
  },
  {
   "cell_type": "code",
   "execution_count": 18,
   "metadata": {},
   "outputs": [
    {
     "data": {
      "text/html": [
       "<div>\n",
       "<style scoped>\n",
       "    .dataframe tbody tr th:only-of-type {\n",
       "        vertical-align: middle;\n",
       "    }\n",
       "\n",
       "    .dataframe tbody tr th {\n",
       "        vertical-align: top;\n",
       "    }\n",
       "\n",
       "    .dataframe thead th {\n",
       "        text-align: right;\n",
       "    }\n",
       "</style>\n",
       "<table border=\"1\" class=\"dataframe\">\n",
       "  <thead>\n",
       "    <tr style=\"text-align: right;\">\n",
       "      <th></th>\n",
       "      <th>Line Name</th>\n",
       "      <th>Line Description</th>\n",
       "      <th>cured</th>\n",
       "      <th>single_population</th>\n",
       "      <th>plate</th>\n",
       "      <th>well</th>\n",
       "      <th>row</th>\n",
       "      <th>col</th>\n",
       "      <th>used_for_bg_subtraction</th>\n",
       "      <th>time</th>\n",
       "      <th>gfp</th>\n",
       "      <th>od</th>\n",
       "      <th>replicate_count</th>\n",
       "    </tr>\n",
       "  </thead>\n",
       "  <tbody>\n",
       "    <tr>\n",
       "      <th>0</th>\n",
       "      <td>SP001</td>\n",
       "      <td>04_08_17_20_NI</td>\n",
       "      <td>y</td>\n",
       "      <td>y</td>\n",
       "      <td>yp23</td>\n",
       "      <td>A01</td>\n",
       "      <td>A</td>\n",
       "      <td>01</td>\n",
       "      <td>n</td>\n",
       "      <td>13.0</td>\n",
       "      <td>502.0</td>\n",
       "      <td>0.117</td>\n",
       "      <td>r1</td>\n",
       "    </tr>\n",
       "    <tr>\n",
       "      <th>1</th>\n",
       "      <td>SP001</td>\n",
       "      <td>04_08_17_20_NI</td>\n",
       "      <td>y</td>\n",
       "      <td>y</td>\n",
       "      <td>yp23</td>\n",
       "      <td>A01</td>\n",
       "      <td>A</td>\n",
       "      <td>01</td>\n",
       "      <td>n</td>\n",
       "      <td>28.0</td>\n",
       "      <td>509.0</td>\n",
       "      <td>0.116</td>\n",
       "      <td>r1</td>\n",
       "    </tr>\n",
       "    <tr>\n",
       "      <th>2</th>\n",
       "      <td>SP001</td>\n",
       "      <td>04_08_17_20_NI</td>\n",
       "      <td>y</td>\n",
       "      <td>y</td>\n",
       "      <td>yp23</td>\n",
       "      <td>A01</td>\n",
       "      <td>A</td>\n",
       "      <td>01</td>\n",
       "      <td>n</td>\n",
       "      <td>43.0</td>\n",
       "      <td>464.0</td>\n",
       "      <td>0.116</td>\n",
       "      <td>r1</td>\n",
       "    </tr>\n",
       "    <tr>\n",
       "      <th>3</th>\n",
       "      <td>SP001</td>\n",
       "      <td>04_08_17_20_NI</td>\n",
       "      <td>y</td>\n",
       "      <td>y</td>\n",
       "      <td>yp23</td>\n",
       "      <td>A01</td>\n",
       "      <td>A</td>\n",
       "      <td>01</td>\n",
       "      <td>n</td>\n",
       "      <td>58.0</td>\n",
       "      <td>476.0</td>\n",
       "      <td>0.116</td>\n",
       "      <td>r1</td>\n",
       "    </tr>\n",
       "    <tr>\n",
       "      <th>4</th>\n",
       "      <td>SP001</td>\n",
       "      <td>04_08_17_20_NI</td>\n",
       "      <td>y</td>\n",
       "      <td>y</td>\n",
       "      <td>yp23</td>\n",
       "      <td>A01</td>\n",
       "      <td>A</td>\n",
       "      <td>01</td>\n",
       "      <td>n</td>\n",
       "      <td>73.0</td>\n",
       "      <td>461.0</td>\n",
       "      <td>0.116</td>\n",
       "      <td>r1</td>\n",
       "    </tr>\n",
       "  </tbody>\n",
       "</table>\n",
       "</div>"
      ],
      "text/plain": [
       "  Line Name Line Description cured single_population plate well row col  \\\n",
       "0     SP001   04_08_17_20_NI     y                 y  yp23  A01   A  01   \n",
       "1     SP001   04_08_17_20_NI     y                 y  yp23  A01   A  01   \n",
       "2     SP001   04_08_17_20_NI     y                 y  yp23  A01   A  01   \n",
       "3     SP001   04_08_17_20_NI     y                 y  yp23  A01   A  01   \n",
       "4     SP001   04_08_17_20_NI     y                 y  yp23  A01   A  01   \n",
       "\n",
       "  used_for_bg_subtraction  time    gfp     od replicate_count  \n",
       "0                       n  13.0  502.0  0.117              r1  \n",
       "1                       n  28.0  509.0  0.116              r1  \n",
       "2                       n  43.0  464.0  0.116              r1  \n",
       "3                       n  58.0  476.0  0.116              r1  \n",
       "4                       n  73.0  461.0  0.116              r1  "
      ]
     },
     "execution_count": 18,
     "metadata": {},
     "output_type": "execute_result"
    }
   ],
   "source": [
    "strains_unnested = pd.merge(ice, edd, on = 'Line Name')\n",
    "strains_unnested.head()"
   ]
  },
  {
   "cell_type": "markdown",
   "metadata": {},
   "source": [
    "Merge lib and rec strains. This will not be necassary when recommendations are on ICE and EDD"
   ]
  },
  {
   "cell_type": "code",
   "execution_count": 19,
   "metadata": {},
   "outputs": [
    {
     "data": {
      "text/html": [
       "<div>\n",
       "<style scoped>\n",
       "    .dataframe tbody tr th:only-of-type {\n",
       "        vertical-align: middle;\n",
       "    }\n",
       "\n",
       "    .dataframe tbody tr th {\n",
       "        vertical-align: top;\n",
       "    }\n",
       "\n",
       "    .dataframe thead th {\n",
       "        text-align: right;\n",
       "    }\n",
       "</style>\n",
       "<table border=\"1\" class=\"dataframe\">\n",
       "  <thead>\n",
       "    <tr style=\"text-align: right;\">\n",
       "      <th></th>\n",
       "      <th>Line Name</th>\n",
       "      <th>Line Description</th>\n",
       "      <th>cured</th>\n",
       "      <th>single_population</th>\n",
       "      <th>plate</th>\n",
       "      <th>well</th>\n",
       "      <th>row</th>\n",
       "      <th>col</th>\n",
       "      <th>used_for_bg_subtraction</th>\n",
       "      <th>time</th>\n",
       "      <th>gfp</th>\n",
       "      <th>od</th>\n",
       "      <th>replicate_count</th>\n",
       "    </tr>\n",
       "  </thead>\n",
       "  <tbody>\n",
       "    <tr>\n",
       "      <th>0</th>\n",
       "      <td>SP590</td>\n",
       "      <td>02_08_16_20_29</td>\n",
       "      <td>y</td>\n",
       "      <td>y</td>\n",
       "      <td>yp36</td>\n",
       "      <td>A01</td>\n",
       "      <td>A</td>\n",
       "      <td>01</td>\n",
       "      <td>n</td>\n",
       "      <td>13.0</td>\n",
       "      <td>384.0</td>\n",
       "      <td>0.1402</td>\n",
       "      <td>r1</td>\n",
       "    </tr>\n",
       "    <tr>\n",
       "      <th>1</th>\n",
       "      <td>SP590</td>\n",
       "      <td>02_08_16_20_29</td>\n",
       "      <td>y</td>\n",
       "      <td>y</td>\n",
       "      <td>yp36</td>\n",
       "      <td>A01</td>\n",
       "      <td>A</td>\n",
       "      <td>01</td>\n",
       "      <td>n</td>\n",
       "      <td>28.0</td>\n",
       "      <td>341.0</td>\n",
       "      <td>0.1397</td>\n",
       "      <td>r1</td>\n",
       "    </tr>\n",
       "    <tr>\n",
       "      <th>2</th>\n",
       "      <td>SP590</td>\n",
       "      <td>02_08_16_20_29</td>\n",
       "      <td>y</td>\n",
       "      <td>y</td>\n",
       "      <td>yp36</td>\n",
       "      <td>A01</td>\n",
       "      <td>A</td>\n",
       "      <td>01</td>\n",
       "      <td>n</td>\n",
       "      <td>43.0</td>\n",
       "      <td>392.0</td>\n",
       "      <td>0.1369</td>\n",
       "      <td>r1</td>\n",
       "    </tr>\n",
       "    <tr>\n",
       "      <th>3</th>\n",
       "      <td>SP590</td>\n",
       "      <td>02_08_16_20_29</td>\n",
       "      <td>y</td>\n",
       "      <td>y</td>\n",
       "      <td>yp36</td>\n",
       "      <td>A01</td>\n",
       "      <td>A</td>\n",
       "      <td>01</td>\n",
       "      <td>n</td>\n",
       "      <td>58.0</td>\n",
       "      <td>319.0</td>\n",
       "      <td>0.1368</td>\n",
       "      <td>r1</td>\n",
       "    </tr>\n",
       "    <tr>\n",
       "      <th>4</th>\n",
       "      <td>SP590</td>\n",
       "      <td>02_08_16_20_29</td>\n",
       "      <td>y</td>\n",
       "      <td>y</td>\n",
       "      <td>yp36</td>\n",
       "      <td>A01</td>\n",
       "      <td>A</td>\n",
       "      <td>01</td>\n",
       "      <td>n</td>\n",
       "      <td>95.0</td>\n",
       "      <td>290.0</td>\n",
       "      <td>0.1354</td>\n",
       "      <td>r1</td>\n",
       "    </tr>\n",
       "  </tbody>\n",
       "</table>\n",
       "</div>"
      ],
      "text/plain": [
       "  Line Name Line Description cured single_population plate well row col  \\\n",
       "0     SP590   02_08_16_20_29     y                 y  yp36  A01   A  01   \n",
       "1     SP590   02_08_16_20_29     y                 y  yp36  A01   A  01   \n",
       "2     SP590   02_08_16_20_29     y                 y  yp36  A01   A  01   \n",
       "3     SP590   02_08_16_20_29     y                 y  yp36  A01   A  01   \n",
       "4     SP590   02_08_16_20_29     y                 y  yp36  A01   A  01   \n",
       "\n",
       "  used_for_bg_subtraction  time    gfp      od replicate_count  \n",
       "0                       n  13.0  384.0  0.1402              r1  \n",
       "1                       n  28.0  341.0  0.1397              r1  \n",
       "2                       n  43.0  392.0  0.1369              r1  \n",
       "3                       n  58.0  319.0  0.1368              r1  \n",
       "4                       n  95.0  290.0  0.1354              r1  "
      ]
     },
     "execution_count": 19,
     "metadata": {},
     "output_type": "execute_result"
    }
   ],
   "source": [
    "recommendations = pd.read_csv('recommendations.csv', dtype={'col': object,'time': float,'gfp': float})\n",
    "recommendations.head()"
   ]
  },
  {
   "cell_type": "code",
   "execution_count": 20,
   "metadata": {},
   "outputs": [
    {
     "data": {
      "text/plain": [
       "(144576, 13)"
      ]
     },
     "execution_count": 20,
     "metadata": {},
     "output_type": "execute_result"
    }
   ],
   "source": [
    "strains_unnested.shape"
   ]
  },
  {
   "cell_type": "code",
   "execution_count": 21,
   "metadata": {},
   "outputs": [
    {
     "data": {
      "text/plain": [
       "(16800, 13)"
      ]
     },
     "execution_count": 21,
     "metadata": {},
     "output_type": "execute_result"
    }
   ],
   "source": [
    "recommendations.shape"
   ]
  },
  {
   "cell_type": "code",
   "execution_count": 22,
   "metadata": {},
   "outputs": [],
   "source": [
    "strains_unnested = pd.concat([strains_unnested, recommendations],ignore_index=True)"
   ]
  },
  {
   "cell_type": "code",
   "execution_count": 23,
   "metadata": {},
   "outputs": [
    {
     "data": {
      "text/html": [
       "<div>\n",
       "<style scoped>\n",
       "    .dataframe tbody tr th:only-of-type {\n",
       "        vertical-align: middle;\n",
       "    }\n",
       "\n",
       "    .dataframe tbody tr th {\n",
       "        vertical-align: top;\n",
       "    }\n",
       "\n",
       "    .dataframe thead th {\n",
       "        text-align: right;\n",
       "    }\n",
       "</style>\n",
       "<table border=\"1\" class=\"dataframe\">\n",
       "  <thead>\n",
       "    <tr style=\"text-align: right;\">\n",
       "      <th></th>\n",
       "      <th>Line Name</th>\n",
       "      <th>Line Description</th>\n",
       "      <th>cured</th>\n",
       "      <th>single_population</th>\n",
       "      <th>plate</th>\n",
       "      <th>well</th>\n",
       "      <th>row</th>\n",
       "      <th>col</th>\n",
       "      <th>used_for_bg_subtraction</th>\n",
       "      <th>time</th>\n",
       "      <th>gfp</th>\n",
       "      <th>od</th>\n",
       "      <th>replicate_count</th>\n",
       "    </tr>\n",
       "  </thead>\n",
       "  <tbody>\n",
       "    <tr>\n",
       "      <th>0</th>\n",
       "      <td>SP001</td>\n",
       "      <td>04_08_17_20_NI</td>\n",
       "      <td>y</td>\n",
       "      <td>y</td>\n",
       "      <td>yp23</td>\n",
       "      <td>A01</td>\n",
       "      <td>A</td>\n",
       "      <td>01</td>\n",
       "      <td>n</td>\n",
       "      <td>13.0</td>\n",
       "      <td>502.0</td>\n",
       "      <td>0.117</td>\n",
       "      <td>r1</td>\n",
       "    </tr>\n",
       "    <tr>\n",
       "      <th>1</th>\n",
       "      <td>SP001</td>\n",
       "      <td>04_08_17_20_NI</td>\n",
       "      <td>y</td>\n",
       "      <td>y</td>\n",
       "      <td>yp23</td>\n",
       "      <td>A01</td>\n",
       "      <td>A</td>\n",
       "      <td>01</td>\n",
       "      <td>n</td>\n",
       "      <td>28.0</td>\n",
       "      <td>509.0</td>\n",
       "      <td>0.116</td>\n",
       "      <td>r1</td>\n",
       "    </tr>\n",
       "    <tr>\n",
       "      <th>2</th>\n",
       "      <td>SP001</td>\n",
       "      <td>04_08_17_20_NI</td>\n",
       "      <td>y</td>\n",
       "      <td>y</td>\n",
       "      <td>yp23</td>\n",
       "      <td>A01</td>\n",
       "      <td>A</td>\n",
       "      <td>01</td>\n",
       "      <td>n</td>\n",
       "      <td>43.0</td>\n",
       "      <td>464.0</td>\n",
       "      <td>0.116</td>\n",
       "      <td>r1</td>\n",
       "    </tr>\n",
       "    <tr>\n",
       "      <th>3</th>\n",
       "      <td>SP001</td>\n",
       "      <td>04_08_17_20_NI</td>\n",
       "      <td>y</td>\n",
       "      <td>y</td>\n",
       "      <td>yp23</td>\n",
       "      <td>A01</td>\n",
       "      <td>A</td>\n",
       "      <td>01</td>\n",
       "      <td>n</td>\n",
       "      <td>58.0</td>\n",
       "      <td>476.0</td>\n",
       "      <td>0.116</td>\n",
       "      <td>r1</td>\n",
       "    </tr>\n",
       "    <tr>\n",
       "      <th>4</th>\n",
       "      <td>SP001</td>\n",
       "      <td>04_08_17_20_NI</td>\n",
       "      <td>y</td>\n",
       "      <td>y</td>\n",
       "      <td>yp23</td>\n",
       "      <td>A01</td>\n",
       "      <td>A</td>\n",
       "      <td>01</td>\n",
       "      <td>n</td>\n",
       "      <td>73.0</td>\n",
       "      <td>461.0</td>\n",
       "      <td>0.116</td>\n",
       "      <td>r1</td>\n",
       "    </tr>\n",
       "  </tbody>\n",
       "</table>\n",
       "</div>"
      ],
      "text/plain": [
       "  Line Name Line Description cured single_population plate well row col  \\\n",
       "0     SP001   04_08_17_20_NI     y                 y  yp23  A01   A  01   \n",
       "1     SP001   04_08_17_20_NI     y                 y  yp23  A01   A  01   \n",
       "2     SP001   04_08_17_20_NI     y                 y  yp23  A01   A  01   \n",
       "3     SP001   04_08_17_20_NI     y                 y  yp23  A01   A  01   \n",
       "4     SP001   04_08_17_20_NI     y                 y  yp23  A01   A  01   \n",
       "\n",
       "  used_for_bg_subtraction  time    gfp     od replicate_count  \n",
       "0                       n  13.0  502.0  0.117              r1  \n",
       "1                       n  28.0  509.0  0.116              r1  \n",
       "2                       n  43.0  464.0  0.116              r1  \n",
       "3                       n  58.0  476.0  0.116              r1  \n",
       "4                       n  73.0  461.0  0.116              r1  "
      ]
     },
     "execution_count": 23,
     "metadata": {},
     "output_type": "execute_result"
    }
   ],
   "source": [
    "strains_unnested.head()"
   ]
  },
  {
   "cell_type": "markdown",
   "metadata": {},
   "source": [
    "Keep track of strain origin"
   ]
  },
  {
   "cell_type": "code",
   "execution_count": 24,
   "metadata": {},
   "outputs": [],
   "source": [
    "strains_unnested['origin'] = np.where(strains_unnested['plate'] == \"yp29\",'ctr','lib')"
   ]
  },
  {
   "cell_type": "code",
   "execution_count": 25,
   "metadata": {},
   "outputs": [],
   "source": [
    "recommendation_line_names = pd.Series(recommendations['Line Name'].unique())"
   ]
  },
  {
   "cell_type": "code",
   "execution_count": 26,
   "metadata": {},
   "outputs": [],
   "source": [
    "rec_lookup = pd.read_csv('./rec_lookup.csv')\n",
    "rec_lookup = rec_lookup[rec_lookup['Line Name'].isin(recommendations['Line Name'].unique())].reset_index()\n",
    "JBEI_line_names = rec_lookup[rec_lookup['From'] == 'JBEI']['Line Name']\n",
    "Tes_line_names  = rec_lookup[rec_lookup['From'] == 'Tes']['Line Name']\n",
    "both_line_names = rec_lookup[rec_lookup['From'] == 'both']['Line Name']\n",
    "media_line_names = recommendation_line_names[~recommendation_line_names.isin(rec_lookup['Line Name'])]"
   ]
  },
  {
   "cell_type": "code",
   "execution_count": 27,
   "metadata": {},
   "outputs": [],
   "source": [
    "strains_unnested.loc[strains_unnested['Line Name'].isin(JBEI_line_names), ['origin']] = 'JBEI'\n",
    "strains_unnested.loc[strains_unnested['Line Name'].isin(Tes_line_names), ['origin']] = 'Tes'\n",
    "strains_unnested.loc[strains_unnested['Line Name'].isin(both_line_names), ['origin']] = 'both'\n",
    "strains_unnested.loc[strains_unnested['Line Name'].isin(media_line_names), ['origin']] = 'media'"
   ]
  },
  {
   "cell_type": "code",
   "execution_count": 28,
   "metadata": {},
   "outputs": [
    {
     "data": {
      "text/plain": [
       "lib      119904\n",
       "ctr       24672\n",
       "JBEI       7972\n",
       "Tes        5895\n",
       "media      2366\n",
       "both        567\n",
       "Name: origin, dtype: int64"
      ]
     },
     "execution_count": 28,
     "metadata": {},
     "output_type": "execute_result"
    }
   ],
   "source": [
    "strains_unnested['origin'].value_counts()"
   ]
  },
  {
   "cell_type": "code",
   "execution_count": 29,
   "metadata": {},
   "outputs": [
    {
     "data": {
      "text/plain": [
       "lib      480\n",
       "ctr       96\n",
       "JBEI      22\n",
       "Tes       17\n",
       "media      7\n",
       "both       2\n",
       "Name: origin, dtype: int64"
      ]
     },
     "execution_count": 29,
     "metadata": {},
     "output_type": "execute_result"
    }
   ],
   "source": [
    "strains_unnested[['Line Name','origin']].groupby(['Line Name']).first()['origin'].value_counts()"
   ]
  },
  {
   "cell_type": "markdown",
   "metadata": {
    "toc-hr-collapsed": true
   },
   "source": [
    "## Transform data"
   ]
  },
  {
   "cell_type": "markdown",
   "metadata": {},
   "source": [
    "Change time values from minutes to hours. This is for convenience when plotting and when calculating growth rates"
   ]
  },
  {
   "cell_type": "code",
   "execution_count": 30,
   "metadata": {},
   "outputs": [],
   "source": [
    "strains_unnested['time'] = strains_unnested.time / 60"
   ]
  },
  {
   "cell_type": "markdown",
   "metadata": {},
   "source": [
    "### Subtract background od and gfp by plate"
   ]
  },
  {
   "cell_type": "markdown",
   "metadata": {},
   "source": [
    "Here a small error is made when subtracting background od and gfp for the library strains. The error however is insignificant as we use relative and not absolute od and gfp values when calculating titers and rates (see extraction of titer and rates section). We have not corrected this error for the purpose of exactly replicating the modeling results including recommendations."
   ]
  },
  {
   "cell_type": "code",
   "execution_count": 31,
   "metadata": {},
   "outputs": [],
   "source": [
    "strains_unnested_lib = strains_unnested.loc[np.logical_or(strains_unnested['origin'] == 'lib',\n",
    "                                                          strains_unnested['origin'] == 'ctr')]\n",
    "strains_unnested_rec = strains_unnested.loc[~np.logical_or(strains_unnested['origin'] == 'lib',\n",
    "                                                          strains_unnested['origin'] == 'ctr')]"
   ]
  },
  {
   "cell_type": "code",
   "execution_count": 32,
   "metadata": {},
   "outputs": [
    {
     "data": {
      "text/plain": [
       "(144576, 14)"
      ]
     },
     "execution_count": 32,
     "metadata": {},
     "output_type": "execute_result"
    }
   ],
   "source": [
    "strains_unnested_lib.shape"
   ]
  },
  {
   "cell_type": "code",
   "execution_count": 33,
   "metadata": {},
   "outputs": [
    {
     "data": {
      "text/plain": [
       "(16800, 14)"
      ]
     },
     "execution_count": 33,
     "metadata": {},
     "output_type": "execute_result"
    }
   ],
   "source": [
    "strains_unnested_rec.shape"
   ]
  },
  {
   "cell_type": "markdown",
   "metadata": {},
   "source": [
    "Library strains"
   ]
  },
  {
   "cell_type": "code",
   "execution_count": 34,
   "metadata": {},
   "outputs": [
    {
     "name": "stderr",
     "output_type": "stream",
     "text": [
      "/usr/local/share/jupyteruser/.pyenv/versions/ART_3.6/lib/python3.6/site-packages/ipykernel_launcher.py:3: SettingWithCopyWarning: \n",
      "A value is trying to be set on a copy of a slice from a DataFrame.\n",
      "Try using .loc[row_indexer,col_indexer] = value instead\n",
      "\n",
      "See the caveats in the documentation: http://pandas.pydata.org/pandas-docs/stable/indexing.html#indexing-view-versus-copy\n",
      "  This is separate from the ipykernel package so we can avoid doing imports until\n"
     ]
    }
   ],
   "source": [
    "strains_unnested_lib['od_minus_bg'] = (strains_unnested_lib\n",
    "                                   .groupby(['plate','replicate_count'], group_keys=False)\n",
    "                                   .apply(lambda g: g.od - g.od[g.used_for_bg_subtraction == \"y\"]\n",
    "                                   .mean()))"
   ]
  },
  {
   "cell_type": "code",
   "execution_count": 35,
   "metadata": {},
   "outputs": [
    {
     "name": "stderr",
     "output_type": "stream",
     "text": [
      "/usr/local/share/jupyteruser/.pyenv/versions/ART_3.6/lib/python3.6/site-packages/ipykernel_launcher.py:3: SettingWithCopyWarning: \n",
      "A value is trying to be set on a copy of a slice from a DataFrame.\n",
      "Try using .loc[row_indexer,col_indexer] = value instead\n",
      "\n",
      "See the caveats in the documentation: http://pandas.pydata.org/pandas-docs/stable/indexing.html#indexing-view-versus-copy\n",
      "  This is separate from the ipykernel package so we can avoid doing imports until\n"
     ]
    }
   ],
   "source": [
    "strains_unnested_lib['gfp_minus_bg'] = (strains_unnested_lib\n",
    "                                   .groupby(['plate','replicate_count'], group_keys=False)\n",
    "                                   .apply(lambda g: g.gfp - g.gfp[g.used_for_bg_subtraction == \"y\"]\n",
    "                                   .mean()))"
   ]
  },
  {
   "cell_type": "markdown",
   "metadata": {},
   "source": [
    "Recommended strains"
   ]
  },
  {
   "cell_type": "code",
   "execution_count": 36,
   "metadata": {},
   "outputs": [
    {
     "data": {
      "text/html": [
       "<div>\n",
       "<style scoped>\n",
       "    .dataframe tbody tr th:only-of-type {\n",
       "        vertical-align: middle;\n",
       "    }\n",
       "\n",
       "    .dataframe tbody tr th {\n",
       "        vertical-align: top;\n",
       "    }\n",
       "\n",
       "    .dataframe thead th {\n",
       "        text-align: right;\n",
       "    }\n",
       "</style>\n",
       "<table border=\"1\" class=\"dataframe\">\n",
       "  <thead>\n",
       "    <tr style=\"text-align: right;\">\n",
       "      <th></th>\n",
       "      <th>gfp mean</th>\n",
       "      <th>od mean</th>\n",
       "    </tr>\n",
       "    <tr>\n",
       "      <th>plate</th>\n",
       "      <th></th>\n",
       "      <th></th>\n",
       "    </tr>\n",
       "  </thead>\n",
       "  <tbody>\n",
       "    <tr>\n",
       "      <th>yp36</th>\n",
       "      <td>168.389362</td>\n",
       "      <td>0.089460</td>\n",
       "    </tr>\n",
       "    <tr>\n",
       "      <th>yp40</th>\n",
       "      <td>184.855967</td>\n",
       "      <td>0.088069</td>\n",
       "    </tr>\n",
       "  </tbody>\n",
       "</table>\n",
       "</div>"
      ],
      "text/plain": [
       "         gfp mean   od mean\n",
       "plate                      \n",
       "yp36   168.389362  0.089460\n",
       "yp40   184.855967  0.088069"
      ]
     },
     "execution_count": 36,
     "metadata": {},
     "output_type": "execute_result"
    }
   ],
   "source": [
    "bg_levels = strains_unnested_rec[strains_unnested_rec['used_for_bg_subtraction'] == \"y\"].groupby(['plate'], group_keys=False)['gfp','od'].agg(['mean'])\n",
    "bg_levels.columns = [' '.join(col).strip() for col in bg_levels.columns.values]\n",
    "bg_levels"
   ]
  },
  {
   "cell_type": "code",
   "execution_count": 37,
   "metadata": {},
   "outputs": [],
   "source": [
    "strains_unnested_rec = pd.merge(strains_unnested_rec, bg_levels,  how='left', left_on=['plate'], right_on = ['plate'])\n"
   ]
  },
  {
   "cell_type": "code",
   "execution_count": 38,
   "metadata": {},
   "outputs": [],
   "source": [
    "strains_unnested_rec['od_minus_bg']  = strains_unnested_rec['od']  - strains_unnested_rec['od mean']\n",
    "strains_unnested_rec['gfp_minus_bg'] = strains_unnested_rec['gfp'] - strains_unnested_rec['gfp mean']"
   ]
  },
  {
   "cell_type": "code",
   "execution_count": 39,
   "metadata": {},
   "outputs": [],
   "source": [
    "strains_unnested_rec = strains_unnested_rec.drop(columns = ['od mean', 'gfp mean'])"
   ]
  },
  {
   "cell_type": "code",
   "execution_count": 40,
   "metadata": {},
   "outputs": [],
   "source": [
    "strains_unnested = pd.concat([strains_unnested_lib, strains_unnested_rec],ignore_index=True)"
   ]
  },
  {
   "cell_type": "code",
   "execution_count": 41,
   "metadata": {},
   "outputs": [],
   "source": [
    "strains_unnested = strains_unnested.drop(columns = ['used_for_bg_subtraction'])"
   ]
  },
  {
   "cell_type": "code",
   "execution_count": 42,
   "metadata": {},
   "outputs": [
    {
     "data": {
      "text/html": [
       "<div>\n",
       "<style scoped>\n",
       "    .dataframe tbody tr th:only-of-type {\n",
       "        vertical-align: middle;\n",
       "    }\n",
       "\n",
       "    .dataframe tbody tr th {\n",
       "        vertical-align: top;\n",
       "    }\n",
       "\n",
       "    .dataframe thead th {\n",
       "        text-align: right;\n",
       "    }\n",
       "</style>\n",
       "<table border=\"1\" class=\"dataframe\">\n",
       "  <thead>\n",
       "    <tr style=\"text-align: right;\">\n",
       "      <th></th>\n",
       "      <th>Line Name</th>\n",
       "      <th>Line Description</th>\n",
       "      <th>cured</th>\n",
       "      <th>single_population</th>\n",
       "      <th>plate</th>\n",
       "      <th>well</th>\n",
       "      <th>row</th>\n",
       "      <th>col</th>\n",
       "      <th>time</th>\n",
       "      <th>gfp</th>\n",
       "      <th>od</th>\n",
       "      <th>replicate_count</th>\n",
       "      <th>origin</th>\n",
       "      <th>od_minus_bg</th>\n",
       "      <th>gfp_minus_bg</th>\n",
       "    </tr>\n",
       "  </thead>\n",
       "  <tbody>\n",
       "    <tr>\n",
       "      <th>0</th>\n",
       "      <td>SP001</td>\n",
       "      <td>04_08_17_20_NI</td>\n",
       "      <td>y</td>\n",
       "      <td>y</td>\n",
       "      <td>yp23</td>\n",
       "      <td>A01</td>\n",
       "      <td>A</td>\n",
       "      <td>01</td>\n",
       "      <td>0.216667</td>\n",
       "      <td>502.0</td>\n",
       "      <td>0.117</td>\n",
       "      <td>r1</td>\n",
       "      <td>lib</td>\n",
       "      <td>0.018667</td>\n",
       "      <td>92.1893</td>\n",
       "    </tr>\n",
       "    <tr>\n",
       "      <th>1</th>\n",
       "      <td>SP001</td>\n",
       "      <td>04_08_17_20_NI</td>\n",
       "      <td>y</td>\n",
       "      <td>y</td>\n",
       "      <td>yp23</td>\n",
       "      <td>A01</td>\n",
       "      <td>A</td>\n",
       "      <td>01</td>\n",
       "      <td>0.466667</td>\n",
       "      <td>509.0</td>\n",
       "      <td>0.116</td>\n",
       "      <td>r1</td>\n",
       "      <td>lib</td>\n",
       "      <td>0.017667</td>\n",
       "      <td>99.1893</td>\n",
       "    </tr>\n",
       "    <tr>\n",
       "      <th>2</th>\n",
       "      <td>SP001</td>\n",
       "      <td>04_08_17_20_NI</td>\n",
       "      <td>y</td>\n",
       "      <td>y</td>\n",
       "      <td>yp23</td>\n",
       "      <td>A01</td>\n",
       "      <td>A</td>\n",
       "      <td>01</td>\n",
       "      <td>0.716667</td>\n",
       "      <td>464.0</td>\n",
       "      <td>0.116</td>\n",
       "      <td>r1</td>\n",
       "      <td>lib</td>\n",
       "      <td>0.017667</td>\n",
       "      <td>54.1893</td>\n",
       "    </tr>\n",
       "    <tr>\n",
       "      <th>3</th>\n",
       "      <td>SP001</td>\n",
       "      <td>04_08_17_20_NI</td>\n",
       "      <td>y</td>\n",
       "      <td>y</td>\n",
       "      <td>yp23</td>\n",
       "      <td>A01</td>\n",
       "      <td>A</td>\n",
       "      <td>01</td>\n",
       "      <td>0.966667</td>\n",
       "      <td>476.0</td>\n",
       "      <td>0.116</td>\n",
       "      <td>r1</td>\n",
       "      <td>lib</td>\n",
       "      <td>0.017667</td>\n",
       "      <td>66.1893</td>\n",
       "    </tr>\n",
       "    <tr>\n",
       "      <th>4</th>\n",
       "      <td>SP001</td>\n",
       "      <td>04_08_17_20_NI</td>\n",
       "      <td>y</td>\n",
       "      <td>y</td>\n",
       "      <td>yp23</td>\n",
       "      <td>A01</td>\n",
       "      <td>A</td>\n",
       "      <td>01</td>\n",
       "      <td>1.216667</td>\n",
       "      <td>461.0</td>\n",
       "      <td>0.116</td>\n",
       "      <td>r1</td>\n",
       "      <td>lib</td>\n",
       "      <td>0.017667</td>\n",
       "      <td>51.1893</td>\n",
       "    </tr>\n",
       "  </tbody>\n",
       "</table>\n",
       "</div>"
      ],
      "text/plain": [
       "  Line Name Line Description cured single_population plate well row col  \\\n",
       "0     SP001   04_08_17_20_NI     y                 y  yp23  A01   A  01   \n",
       "1     SP001   04_08_17_20_NI     y                 y  yp23  A01   A  01   \n",
       "2     SP001   04_08_17_20_NI     y                 y  yp23  A01   A  01   \n",
       "3     SP001   04_08_17_20_NI     y                 y  yp23  A01   A  01   \n",
       "4     SP001   04_08_17_20_NI     y                 y  yp23  A01   A  01   \n",
       "\n",
       "       time    gfp     od replicate_count origin  od_minus_bg  gfp_minus_bg  \n",
       "0  0.216667  502.0  0.117              r1    lib     0.018667       92.1893  \n",
       "1  0.466667  509.0  0.116              r1    lib     0.017667       99.1893  \n",
       "2  0.716667  464.0  0.116              r1    lib     0.017667       54.1893  \n",
       "3  0.966667  476.0  0.116              r1    lib     0.017667       66.1893  \n",
       "4  1.216667  461.0  0.116              r1    lib     0.017667       51.1893  "
      ]
     },
     "execution_count": 42,
     "metadata": {},
     "output_type": "execute_result"
    }
   ],
   "source": [
    "strains_unnested.head()"
   ]
  },
  {
   "cell_type": "code",
   "execution_count": 43,
   "metadata": {},
   "outputs": [
    {
     "data": {
      "text/plain": [
       "(161376, 15)"
      ]
     },
     "execution_count": 43,
     "metadata": {},
     "output_type": "execute_result"
    }
   ],
   "source": [
    "strains_unnested.shape"
   ]
  },
  {
   "cell_type": "markdown",
   "metadata": {},
   "source": [
    "### Define a growth threshold that strains need to pass"
   ]
  },
  {
   "cell_type": "code",
   "execution_count": 44,
   "metadata": {},
   "outputs": [],
   "source": [
    "strains_max_od = (strains_unnested\n",
    "          .groupby(['Line Name','replicate_count'])\n",
    "          .apply(lambda g: g.od_minus_bg.max()))\n",
    "growth_threshold = pd.Series(np.where(strains_max_od > 0.15,\"y\",\"n\"))"
   ]
  },
  {
   "cell_type": "code",
   "execution_count": 45,
   "metadata": {},
   "outputs": [
    {
     "data": {
      "text/plain": [
       "y    1538\n",
       "n     378\n",
       "dtype: int64"
      ]
     },
     "execution_count": 45,
     "metadata": {},
     "output_type": "execute_result"
    }
   ],
   "source": [
    "growth_threshold.value_counts()"
   ]
  },
  {
   "cell_type": "markdown",
   "metadata": {},
   "source": [
    "### Nest time series data"
   ]
  },
  {
   "cell_type": "markdown",
   "metadata": {},
   "source": [
    "Place the time series data corresponding to each well into a dataframe and place those dataframes in a column called `time_series`."
   ]
  },
  {
   "cell_type": "markdown",
   "metadata": {},
   "source": [
    "Group all data related to each strain."
   ]
  },
  {
   "cell_type": "code",
   "execution_count": 46,
   "metadata": {},
   "outputs": [
    {
     "data": {
      "text/plain": [
       "tuple"
      ]
     },
     "execution_count": 46,
     "metadata": {},
     "output_type": "execute_result"
    }
   ],
   "source": [
    "strains_grouped = strains_unnested.groupby(['Line Name','plate','row','col','well','replicate_count','Line Description','cured', 'single_population','origin'])\n",
    "strains_grouped = list(strains_grouped)\n",
    "type(strains_grouped[0])"
   ]
  },
  {
   "cell_type": "code",
   "execution_count": 47,
   "metadata": {},
   "outputs": [
    {
     "data": {
      "text/plain": [
       "('SP001', 'yp23', 'A', '01', 'A01', 'r1', '04_08_17_20_NI', 'y', 'y', 'lib')"
      ]
     },
     "execution_count": 47,
     "metadata": {},
     "output_type": "execute_result"
    }
   ],
   "source": [
    "strains_grouped[0][0]"
   ]
  },
  {
   "cell_type": "code",
   "execution_count": 48,
   "metadata": {},
   "outputs": [
    {
     "data": {
      "text/html": [
       "<div>\n",
       "<style scoped>\n",
       "    .dataframe tbody tr th:only-of-type {\n",
       "        vertical-align: middle;\n",
       "    }\n",
       "\n",
       "    .dataframe tbody tr th {\n",
       "        vertical-align: top;\n",
       "    }\n",
       "\n",
       "    .dataframe thead th {\n",
       "        text-align: right;\n",
       "    }\n",
       "</style>\n",
       "<table border=\"1\" class=\"dataframe\">\n",
       "  <thead>\n",
       "    <tr style=\"text-align: right;\">\n",
       "      <th></th>\n",
       "      <th>Line Name</th>\n",
       "      <th>Line Description</th>\n",
       "      <th>cured</th>\n",
       "      <th>single_population</th>\n",
       "      <th>plate</th>\n",
       "      <th>well</th>\n",
       "      <th>row</th>\n",
       "      <th>col</th>\n",
       "      <th>time</th>\n",
       "      <th>gfp</th>\n",
       "      <th>od</th>\n",
       "      <th>replicate_count</th>\n",
       "      <th>origin</th>\n",
       "      <th>od_minus_bg</th>\n",
       "      <th>gfp_minus_bg</th>\n",
       "    </tr>\n",
       "  </thead>\n",
       "  <tbody>\n",
       "    <tr>\n",
       "      <th>0</th>\n",
       "      <td>SP001</td>\n",
       "      <td>04_08_17_20_NI</td>\n",
       "      <td>y</td>\n",
       "      <td>y</td>\n",
       "      <td>yp23</td>\n",
       "      <td>A01</td>\n",
       "      <td>A</td>\n",
       "      <td>01</td>\n",
       "      <td>0.216667</td>\n",
       "      <td>502.0</td>\n",
       "      <td>0.117</td>\n",
       "      <td>r1</td>\n",
       "      <td>lib</td>\n",
       "      <td>0.018667</td>\n",
       "      <td>92.1893</td>\n",
       "    </tr>\n",
       "    <tr>\n",
       "      <th>1</th>\n",
       "      <td>SP001</td>\n",
       "      <td>04_08_17_20_NI</td>\n",
       "      <td>y</td>\n",
       "      <td>y</td>\n",
       "      <td>yp23</td>\n",
       "      <td>A01</td>\n",
       "      <td>A</td>\n",
       "      <td>01</td>\n",
       "      <td>0.466667</td>\n",
       "      <td>509.0</td>\n",
       "      <td>0.116</td>\n",
       "      <td>r1</td>\n",
       "      <td>lib</td>\n",
       "      <td>0.017667</td>\n",
       "      <td>99.1893</td>\n",
       "    </tr>\n",
       "    <tr>\n",
       "      <th>2</th>\n",
       "      <td>SP001</td>\n",
       "      <td>04_08_17_20_NI</td>\n",
       "      <td>y</td>\n",
       "      <td>y</td>\n",
       "      <td>yp23</td>\n",
       "      <td>A01</td>\n",
       "      <td>A</td>\n",
       "      <td>01</td>\n",
       "      <td>0.716667</td>\n",
       "      <td>464.0</td>\n",
       "      <td>0.116</td>\n",
       "      <td>r1</td>\n",
       "      <td>lib</td>\n",
       "      <td>0.017667</td>\n",
       "      <td>54.1893</td>\n",
       "    </tr>\n",
       "    <tr>\n",
       "      <th>3</th>\n",
       "      <td>SP001</td>\n",
       "      <td>04_08_17_20_NI</td>\n",
       "      <td>y</td>\n",
       "      <td>y</td>\n",
       "      <td>yp23</td>\n",
       "      <td>A01</td>\n",
       "      <td>A</td>\n",
       "      <td>01</td>\n",
       "      <td>0.966667</td>\n",
       "      <td>476.0</td>\n",
       "      <td>0.116</td>\n",
       "      <td>r1</td>\n",
       "      <td>lib</td>\n",
       "      <td>0.017667</td>\n",
       "      <td>66.1893</td>\n",
       "    </tr>\n",
       "    <tr>\n",
       "      <th>4</th>\n",
       "      <td>SP001</td>\n",
       "      <td>04_08_17_20_NI</td>\n",
       "      <td>y</td>\n",
       "      <td>y</td>\n",
       "      <td>yp23</td>\n",
       "      <td>A01</td>\n",
       "      <td>A</td>\n",
       "      <td>01</td>\n",
       "      <td>1.216667</td>\n",
       "      <td>461.0</td>\n",
       "      <td>0.116</td>\n",
       "      <td>r1</td>\n",
       "      <td>lib</td>\n",
       "      <td>0.017667</td>\n",
       "      <td>51.1893</td>\n",
       "    </tr>\n",
       "  </tbody>\n",
       "</table>\n",
       "</div>"
      ],
      "text/plain": [
       "  Line Name Line Description cured single_population plate well row col  \\\n",
       "0     SP001   04_08_17_20_NI     y                 y  yp23  A01   A  01   \n",
       "1     SP001   04_08_17_20_NI     y                 y  yp23  A01   A  01   \n",
       "2     SP001   04_08_17_20_NI     y                 y  yp23  A01   A  01   \n",
       "3     SP001   04_08_17_20_NI     y                 y  yp23  A01   A  01   \n",
       "4     SP001   04_08_17_20_NI     y                 y  yp23  A01   A  01   \n",
       "\n",
       "       time    gfp     od replicate_count origin  od_minus_bg  gfp_minus_bg  \n",
       "0  0.216667  502.0  0.117              r1    lib     0.018667       92.1893  \n",
       "1  0.466667  509.0  0.116              r1    lib     0.017667       99.1893  \n",
       "2  0.716667  464.0  0.116              r1    lib     0.017667       54.1893  \n",
       "3  0.966667  476.0  0.116              r1    lib     0.017667       66.1893  \n",
       "4  1.216667  461.0  0.116              r1    lib     0.017667       51.1893  "
      ]
     },
     "execution_count": 48,
     "metadata": {},
     "output_type": "execute_result"
    }
   ],
   "source": [
    "strains_grouped[0][1].head()"
   ]
  },
  {
   "cell_type": "markdown",
   "metadata": {},
   "source": [
    "Loop over list of tuples and make each tuple one row in the dataframe `strains`"
   ]
  },
  {
   "cell_type": "code",
   "execution_count": 49,
   "metadata": {},
   "outputs": [
    {
     "data": {
      "text/html": [
       "<div>\n",
       "<style scoped>\n",
       "    .dataframe tbody tr th:only-of-type {\n",
       "        vertical-align: middle;\n",
       "    }\n",
       "\n",
       "    .dataframe tbody tr th {\n",
       "        vertical-align: top;\n",
       "    }\n",
       "\n",
       "    .dataframe thead th {\n",
       "        text-align: right;\n",
       "    }\n",
       "</style>\n",
       "<table border=\"1\" class=\"dataframe\">\n",
       "  <thead>\n",
       "    <tr style=\"text-align: right;\">\n",
       "      <th></th>\n",
       "      <th>Line Name</th>\n",
       "      <th>plate</th>\n",
       "      <th>row</th>\n",
       "      <th>col</th>\n",
       "      <th>well</th>\n",
       "      <th>replicate_count</th>\n",
       "      <th>Line Description</th>\n",
       "      <th>cured</th>\n",
       "      <th>single_population</th>\n",
       "      <th>origin</th>\n",
       "      <th>time_series</th>\n",
       "    </tr>\n",
       "  </thead>\n",
       "  <tbody>\n",
       "    <tr>\n",
       "      <th>0</th>\n",
       "      <td>SP001</td>\n",
       "      <td>yp23</td>\n",
       "      <td>A</td>\n",
       "      <td>01</td>\n",
       "      <td>A01</td>\n",
       "      <td>r1</td>\n",
       "      <td>04_08_17_20_NI</td>\n",
       "      <td>y</td>\n",
       "      <td>y</td>\n",
       "      <td>lib</td>\n",
       "      <td>time     gfp     od  od_minus_bg  gfp...</td>\n",
       "    </tr>\n",
       "    <tr>\n",
       "      <th>1</th>\n",
       "      <td>SP001</td>\n",
       "      <td>yp23</td>\n",
       "      <td>A</td>\n",
       "      <td>01</td>\n",
       "      <td>A01</td>\n",
       "      <td>r2</td>\n",
       "      <td>04_08_17_20_NI</td>\n",
       "      <td>y</td>\n",
       "      <td>y</td>\n",
       "      <td>lib</td>\n",
       "      <td>time     gfp     od  od_minus_bg  gfp...</td>\n",
       "    </tr>\n",
       "    <tr>\n",
       "      <th>2</th>\n",
       "      <td>SP001</td>\n",
       "      <td>yp23</td>\n",
       "      <td>A</td>\n",
       "      <td>01</td>\n",
       "      <td>A01</td>\n",
       "      <td>r3</td>\n",
       "      <td>04_08_17_20_NI</td>\n",
       "      <td>y</td>\n",
       "      <td>y</td>\n",
       "      <td>lib</td>\n",
       "      <td>time     gfp      od  od_minus_bg  gf...</td>\n",
       "    </tr>\n",
       "    <tr>\n",
       "      <th>3</th>\n",
       "      <td>SP002</td>\n",
       "      <td>yp23</td>\n",
       "      <td>A</td>\n",
       "      <td>02</td>\n",
       "      <td>A02</td>\n",
       "      <td>r1</td>\n",
       "      <td>04_NI_13_19_26</td>\n",
       "      <td>y</td>\n",
       "      <td>y</td>\n",
       "      <td>lib</td>\n",
       "      <td>time     gfp     od  od_minus_bg  gfp...</td>\n",
       "    </tr>\n",
       "    <tr>\n",
       "      <th>4</th>\n",
       "      <td>SP002</td>\n",
       "      <td>yp23</td>\n",
       "      <td>A</td>\n",
       "      <td>02</td>\n",
       "      <td>A02</td>\n",
       "      <td>r2</td>\n",
       "      <td>04_NI_13_19_26</td>\n",
       "      <td>y</td>\n",
       "      <td>y</td>\n",
       "      <td>lib</td>\n",
       "      <td>time     gfp     od  od_minus_bg  gfp...</td>\n",
       "    </tr>\n",
       "  </tbody>\n",
       "</table>\n",
       "</div>"
      ],
      "text/plain": [
       "  Line Name plate row col well replicate_count Line Description cured  \\\n",
       "0     SP001  yp23   A  01  A01              r1   04_08_17_20_NI     y   \n",
       "1     SP001  yp23   A  01  A01              r2   04_08_17_20_NI     y   \n",
       "2     SP001  yp23   A  01  A01              r3   04_08_17_20_NI     y   \n",
       "3     SP002  yp23   A  02  A02              r1   04_NI_13_19_26     y   \n",
       "4     SP002  yp23   A  02  A02              r2   04_NI_13_19_26     y   \n",
       "\n",
       "  single_population origin                                        time_series  \n",
       "0                 y    lib           time     gfp     od  od_minus_bg  gfp...  \n",
       "1                 y    lib           time     gfp     od  od_minus_bg  gfp...  \n",
       "2                 y    lib           time     gfp      od  od_minus_bg  gf...  \n",
       "3                 y    lib           time     gfp     od  od_minus_bg  gfp...  \n",
       "4                 y    lib           time     gfp     od  od_minus_bg  gfp...  "
      ]
     },
     "execution_count": 49,
     "metadata": {},
     "output_type": "execute_result"
    }
   ],
   "source": [
    "strains = pd.DataFrame(columns=['Line Name','plate','row','col','well','replicate_count','Line Description','cured', 'single_population','origin','time_series'])\n",
    "\n",
    "for i in range(len(strains_grouped)):\n",
    "    (strains.at[i,'Line Name'],\n",
    "    strains.at[i,'plate'],\n",
    "    strains.at[i,'row'],\n",
    "    strains.at[i,'col'],\n",
    "    strains.at[i,'well'],\n",
    "    strains.at[i,'replicate_count'],\n",
    "    strains.at[i,'Line Description'],\n",
    "    strains.at[i,'cured'],\n",
    "    strains.at[i,'single_population'],\n",
    "    strains.at[i,'origin']) = strains_grouped[i][0]\n",
    "    strains.at[i,'time_series'] = (strains_grouped[i][1].drop(columns = ['Line Name','plate','row','col','well','replicate_count','Line Description','cured', 'single_population','origin']).reset_index(drop = True))\n",
    "strains.head()"
   ]
  },
  {
   "cell_type": "code",
   "execution_count": 50,
   "metadata": {},
   "outputs": [
    {
     "data": {
      "text/plain": [
       "(1920, 11)"
      ]
     },
     "execution_count": 50,
     "metadata": {},
     "output_type": "execute_result"
    }
   ],
   "source": [
    "strains.shape"
   ]
  },
  {
   "cell_type": "code",
   "execution_count": 51,
   "metadata": {},
   "outputs": [
    {
     "data": {
      "text/plain": [
       "lib      1440\n",
       "ctr       288\n",
       "JBEI       92\n",
       "Tes        67\n",
       "media      26\n",
       "both        7\n",
       "Name: origin, dtype: int64"
      ]
     },
     "execution_count": 51,
     "metadata": {},
     "output_type": "execute_result"
    }
   ],
   "source": [
    "strains.origin.value_counts()"
   ]
  },
  {
   "cell_type": "markdown",
   "metadata": {},
   "source": [
    "And the `time_series` column contains `pd.DataFrames` with time series information"
   ]
  },
  {
   "cell_type": "code",
   "execution_count": 52,
   "metadata": {},
   "outputs": [
    {
     "data": {
      "text/html": [
       "<div>\n",
       "<style scoped>\n",
       "    .dataframe tbody tr th:only-of-type {\n",
       "        vertical-align: middle;\n",
       "    }\n",
       "\n",
       "    .dataframe tbody tr th {\n",
       "        vertical-align: top;\n",
       "    }\n",
       "\n",
       "    .dataframe thead th {\n",
       "        text-align: right;\n",
       "    }\n",
       "</style>\n",
       "<table border=\"1\" class=\"dataframe\">\n",
       "  <thead>\n",
       "    <tr style=\"text-align: right;\">\n",
       "      <th></th>\n",
       "      <th>time</th>\n",
       "      <th>gfp</th>\n",
       "      <th>od</th>\n",
       "      <th>od_minus_bg</th>\n",
       "      <th>gfp_minus_bg</th>\n",
       "    </tr>\n",
       "  </thead>\n",
       "  <tbody>\n",
       "    <tr>\n",
       "      <th>0</th>\n",
       "      <td>0.216667</td>\n",
       "      <td>502.0</td>\n",
       "      <td>0.117</td>\n",
       "      <td>0.018667</td>\n",
       "      <td>92.1893</td>\n",
       "    </tr>\n",
       "    <tr>\n",
       "      <th>1</th>\n",
       "      <td>0.466667</td>\n",
       "      <td>509.0</td>\n",
       "      <td>0.116</td>\n",
       "      <td>0.017667</td>\n",
       "      <td>99.1893</td>\n",
       "    </tr>\n",
       "    <tr>\n",
       "      <th>2</th>\n",
       "      <td>0.716667</td>\n",
       "      <td>464.0</td>\n",
       "      <td>0.116</td>\n",
       "      <td>0.017667</td>\n",
       "      <td>54.1893</td>\n",
       "    </tr>\n",
       "    <tr>\n",
       "      <th>3</th>\n",
       "      <td>0.966667</td>\n",
       "      <td>476.0</td>\n",
       "      <td>0.116</td>\n",
       "      <td>0.017667</td>\n",
       "      <td>66.1893</td>\n",
       "    </tr>\n",
       "    <tr>\n",
       "      <th>4</th>\n",
       "      <td>1.216667</td>\n",
       "      <td>461.0</td>\n",
       "      <td>0.116</td>\n",
       "      <td>0.017667</td>\n",
       "      <td>51.1893</td>\n",
       "    </tr>\n",
       "  </tbody>\n",
       "</table>\n",
       "</div>"
      ],
      "text/plain": [
       "       time    gfp     od  od_minus_bg  gfp_minus_bg\n",
       "0  0.216667  502.0  0.117     0.018667       92.1893\n",
       "1  0.466667  509.0  0.116     0.017667       99.1893\n",
       "2  0.716667  464.0  0.116     0.017667       54.1893\n",
       "3  0.966667  476.0  0.116     0.017667       66.1893\n",
       "4  1.216667  461.0  0.116     0.017667       51.1893"
      ]
     },
     "execution_count": 52,
     "metadata": {},
     "output_type": "execute_result"
    }
   ],
   "source": [
    "strains.time_series.values[0].head()"
   ]
  },
  {
   "cell_type": "markdown",
   "metadata": {},
   "source": [
    "Append the `growth_threshold` information"
   ]
  },
  {
   "cell_type": "code",
   "execution_count": 53,
   "metadata": {},
   "outputs": [
    {
     "data": {
      "text/html": [
       "<div>\n",
       "<style scoped>\n",
       "    .dataframe tbody tr th:only-of-type {\n",
       "        vertical-align: middle;\n",
       "    }\n",
       "\n",
       "    .dataframe tbody tr th {\n",
       "        vertical-align: top;\n",
       "    }\n",
       "\n",
       "    .dataframe thead th {\n",
       "        text-align: right;\n",
       "    }\n",
       "</style>\n",
       "<table border=\"1\" class=\"dataframe\">\n",
       "  <thead>\n",
       "    <tr style=\"text-align: right;\">\n",
       "      <th></th>\n",
       "      <th>Line Name</th>\n",
       "      <th>plate</th>\n",
       "      <th>row</th>\n",
       "      <th>col</th>\n",
       "      <th>well</th>\n",
       "      <th>replicate_count</th>\n",
       "      <th>Line Description</th>\n",
       "      <th>cured</th>\n",
       "      <th>single_population</th>\n",
       "      <th>origin</th>\n",
       "      <th>time_series</th>\n",
       "      <th>growth_threshold</th>\n",
       "    </tr>\n",
       "  </thead>\n",
       "  <tbody>\n",
       "    <tr>\n",
       "      <th>0</th>\n",
       "      <td>SP001</td>\n",
       "      <td>yp23</td>\n",
       "      <td>A</td>\n",
       "      <td>01</td>\n",
       "      <td>A01</td>\n",
       "      <td>r1</td>\n",
       "      <td>04_08_17_20_NI</td>\n",
       "      <td>y</td>\n",
       "      <td>y</td>\n",
       "      <td>lib</td>\n",
       "      <td>time     gfp     od  od_minus_bg  gfp...</td>\n",
       "      <td>y</td>\n",
       "    </tr>\n",
       "    <tr>\n",
       "      <th>1</th>\n",
       "      <td>SP001</td>\n",
       "      <td>yp23</td>\n",
       "      <td>A</td>\n",
       "      <td>01</td>\n",
       "      <td>A01</td>\n",
       "      <td>r2</td>\n",
       "      <td>04_08_17_20_NI</td>\n",
       "      <td>y</td>\n",
       "      <td>y</td>\n",
       "      <td>lib</td>\n",
       "      <td>time     gfp     od  od_minus_bg  gfp...</td>\n",
       "      <td>y</td>\n",
       "    </tr>\n",
       "    <tr>\n",
       "      <th>2</th>\n",
       "      <td>SP001</td>\n",
       "      <td>yp23</td>\n",
       "      <td>A</td>\n",
       "      <td>01</td>\n",
       "      <td>A01</td>\n",
       "      <td>r3</td>\n",
       "      <td>04_08_17_20_NI</td>\n",
       "      <td>y</td>\n",
       "      <td>y</td>\n",
       "      <td>lib</td>\n",
       "      <td>time     gfp      od  od_minus_bg  gf...</td>\n",
       "      <td>y</td>\n",
       "    </tr>\n",
       "    <tr>\n",
       "      <th>3</th>\n",
       "      <td>SP002</td>\n",
       "      <td>yp23</td>\n",
       "      <td>A</td>\n",
       "      <td>02</td>\n",
       "      <td>A02</td>\n",
       "      <td>r1</td>\n",
       "      <td>04_NI_13_19_26</td>\n",
       "      <td>y</td>\n",
       "      <td>y</td>\n",
       "      <td>lib</td>\n",
       "      <td>time     gfp     od  od_minus_bg  gfp...</td>\n",
       "      <td>y</td>\n",
       "    </tr>\n",
       "    <tr>\n",
       "      <th>4</th>\n",
       "      <td>SP002</td>\n",
       "      <td>yp23</td>\n",
       "      <td>A</td>\n",
       "      <td>02</td>\n",
       "      <td>A02</td>\n",
       "      <td>r2</td>\n",
       "      <td>04_NI_13_19_26</td>\n",
       "      <td>y</td>\n",
       "      <td>y</td>\n",
       "      <td>lib</td>\n",
       "      <td>time     gfp     od  od_minus_bg  gfp...</td>\n",
       "      <td>y</td>\n",
       "    </tr>\n",
       "  </tbody>\n",
       "</table>\n",
       "</div>"
      ],
      "text/plain": [
       "  Line Name plate row col well replicate_count Line Description cured  \\\n",
       "0     SP001  yp23   A  01  A01              r1   04_08_17_20_NI     y   \n",
       "1     SP001  yp23   A  01  A01              r2   04_08_17_20_NI     y   \n",
       "2     SP001  yp23   A  01  A01              r3   04_08_17_20_NI     y   \n",
       "3     SP002  yp23   A  02  A02              r1   04_NI_13_19_26     y   \n",
       "4     SP002  yp23   A  02  A02              r2   04_NI_13_19_26     y   \n",
       "\n",
       "  single_population origin                                        time_series  \\\n",
       "0                 y    lib           time     gfp     od  od_minus_bg  gfp...   \n",
       "1                 y    lib           time     gfp     od  od_minus_bg  gfp...   \n",
       "2                 y    lib           time     gfp      od  od_minus_bg  gf...   \n",
       "3                 y    lib           time     gfp     od  od_minus_bg  gfp...   \n",
       "4                 y    lib           time     gfp     od  od_minus_bg  gfp...   \n",
       "\n",
       "  growth_threshold  \n",
       "0                y  \n",
       "1                y  \n",
       "2                y  \n",
       "3                y  \n",
       "4                y  "
      ]
     },
     "execution_count": 53,
     "metadata": {},
     "output_type": "execute_result"
    }
   ],
   "source": [
    "strains['growth_threshold'] = growth_threshold\n",
    "strains.head()"
   ]
  },
  {
   "cell_type": "code",
   "execution_count": 54,
   "metadata": {},
   "outputs": [
    {
     "data": {
      "text/plain": [
       "(1920, 12)"
      ]
     },
     "execution_count": 54,
     "metadata": {},
     "output_type": "execute_result"
    }
   ],
   "source": [
    "strains.shape"
   ]
  },
  {
   "cell_type": "markdown",
   "metadata": {},
   "source": [
    "Split information in 'Line Description' into seperate columns"
   ]
  },
  {
   "cell_type": "code",
   "execution_count": 55,
   "metadata": {},
   "outputs": [],
   "source": [
    "strains['p1'],strains['p2'],strains['p3'],strains['p4'],strains['p5'] = strains['Line Description'].str.split('_').str"
   ]
  },
  {
   "cell_type": "markdown",
   "metadata": {},
   "source": [
    "Change all values into numeric and `NI` or `FA` to `NaN`"
   ]
  },
  {
   "cell_type": "code",
   "execution_count": 56,
   "metadata": {},
   "outputs": [
    {
     "data": {
      "text/html": [
       "<div>\n",
       "<style scoped>\n",
       "    .dataframe tbody tr th:only-of-type {\n",
       "        vertical-align: middle;\n",
       "    }\n",
       "\n",
       "    .dataframe tbody tr th {\n",
       "        vertical-align: top;\n",
       "    }\n",
       "\n",
       "    .dataframe thead th {\n",
       "        text-align: right;\n",
       "    }\n",
       "</style>\n",
       "<table border=\"1\" class=\"dataframe\">\n",
       "  <thead>\n",
       "    <tr style=\"text-align: right;\">\n",
       "      <th></th>\n",
       "      <th>p1</th>\n",
       "      <th>p2</th>\n",
       "      <th>p3</th>\n",
       "      <th>p4</th>\n",
       "      <th>p5</th>\n",
       "    </tr>\n",
       "  </thead>\n",
       "  <tbody>\n",
       "    <tr>\n",
       "      <th>0</th>\n",
       "      <td>4.0</td>\n",
       "      <td>8.0</td>\n",
       "      <td>17.0</td>\n",
       "      <td>20.0</td>\n",
       "      <td>NaN</td>\n",
       "    </tr>\n",
       "    <tr>\n",
       "      <th>1</th>\n",
       "      <td>4.0</td>\n",
       "      <td>8.0</td>\n",
       "      <td>17.0</td>\n",
       "      <td>20.0</td>\n",
       "      <td>NaN</td>\n",
       "    </tr>\n",
       "    <tr>\n",
       "      <th>2</th>\n",
       "      <td>4.0</td>\n",
       "      <td>8.0</td>\n",
       "      <td>17.0</td>\n",
       "      <td>20.0</td>\n",
       "      <td>NaN</td>\n",
       "    </tr>\n",
       "    <tr>\n",
       "      <th>3</th>\n",
       "      <td>4.0</td>\n",
       "      <td>NaN</td>\n",
       "      <td>13.0</td>\n",
       "      <td>19.0</td>\n",
       "      <td>26.0</td>\n",
       "    </tr>\n",
       "    <tr>\n",
       "      <th>4</th>\n",
       "      <td>4.0</td>\n",
       "      <td>NaN</td>\n",
       "      <td>13.0</td>\n",
       "      <td>19.0</td>\n",
       "      <td>26.0</td>\n",
       "    </tr>\n",
       "  </tbody>\n",
       "</table>\n",
       "</div>"
      ],
      "text/plain": [
       "    p1   p2    p3    p4    p5\n",
       "0  4.0  8.0  17.0  20.0   NaN\n",
       "1  4.0  8.0  17.0  20.0   NaN\n",
       "2  4.0  8.0  17.0  20.0   NaN\n",
       "3  4.0  NaN  13.0  19.0  26.0\n",
       "4  4.0  NaN  13.0  19.0  26.0"
      ]
     },
     "execution_count": 56,
     "metadata": {},
     "output_type": "execute_result"
    }
   ],
   "source": [
    "strains[['p1', 'p2', 'p3', 'p4', 'p5']] = strains[['p1', 'p2', 'p3', 'p4', 'p5']].apply(pd.to_numeric, errors='coerce')\n",
    "strains[['p1', 'p2', 'p3', 'p4', 'p5']].head()"
   ]
  },
  {
   "cell_type": "markdown",
   "metadata": {},
   "source": [
    "## Filter data"
   ]
  },
  {
   "cell_type": "markdown",
   "metadata": {},
   "source": [
    "Filter out strains that were:\n",
    "1. never inoculated ie. wells in yeast plate 29 (yp29)\n",
    "2. inoculated with to few cells and or grew to slow\n",
    "3. the genotype information was incomplete (`NI`)\n",
    "4. the assembly failed (`FA`)\n",
    "5. not cured of complementation plasmid\n",
    "6. not a single_population"
   ]
  },
  {
   "cell_type": "code",
   "execution_count": 57,
   "metadata": {},
   "outputs": [
    {
     "data": {
      "text/plain": [
       "(1920, 17)"
      ]
     },
     "execution_count": 57,
     "metadata": {},
     "output_type": "execute_result"
    }
   ],
   "source": [
    "strains.shape"
   ]
  },
  {
   "cell_type": "code",
   "execution_count": 58,
   "metadata": {},
   "outputs": [
    {
     "data": {
      "text/plain": [
       "(1728, 17)"
      ]
     },
     "execution_count": 58,
     "metadata": {},
     "output_type": "execute_result"
    }
   ],
   "source": [
    "strains[np.logical_or(strains.origin == 'lib',\n",
    "                      strains.origin == 'ctr')].shape"
   ]
  },
  {
   "cell_type": "code",
   "execution_count": 59,
   "metadata": {},
   "outputs": [],
   "source": [
    "NI_mask = (~strains['Line Description'].str.contains('NI'))\n",
    "FA_mask = (~strains['Line Description'].str.contains('FA'))"
   ]
  },
  {
   "cell_type": "markdown",
   "metadata": {},
   "source": [
    "Define count function"
   ]
  },
  {
   "cell_type": "code",
   "execution_count": 60,
   "metadata": {},
   "outputs": [],
   "source": [
    "def count_remaining(df):\n",
    "    lst = list([df['Line Name'],df['Line Name'].unique(),df['Line Description'].unique()])\n",
    "    counts = [len(x) for x in lst]\n",
    "    print('Experimental units: {}, Strains {}, Genotypes {}'.format(counts[0],counts[1],counts[2]))"
   ]
  },
  {
   "cell_type": "markdown",
   "metadata": {},
   "source": [
    "Count lib and ctr strains remaining after filtering. Related to Figure 4A"
   ]
  },
  {
   "cell_type": "code",
   "execution_count": 61,
   "metadata": {},
   "outputs": [
    {
     "name": "stdout",
     "output_type": "stream",
     "text": [
      "Experimental units: 1728, Strains 576, Genotypes 457\n",
      "Experimental units: 1521, Strains 507, Genotypes 455\n",
      "Experimental units: 1349, Strains 461, Genotypes 434\n",
      "Experimental units: 1054, Strains 358, Genotypes 335\n",
      "Experimental units: 858, Strains 288, Genotypes 268\n",
      "Experimental units: 795, Strains 267, Genotypes 250\n",
      "Experimental units: 792, Strains 266, Genotypes 250\n"
     ]
    }
   ],
   "source": [
    "# 0.\n",
    "strains1 = strains[np.logical_or(strains.origin == 'lib',\n",
    "                                  strains.origin == 'ctr')]\n",
    "count_remaining(strains1)\n",
    "\n",
    "# 1.\n",
    "strains2 = (strains1\n",
    "            .query('not (plate == \"yp29\" & row.isin([\"A\", \"B\"]))')\n",
    "            .query('not (plate == \"yp29\" & col.isin([\"07\", \"08\",\"09\",\"10\",\"11\",\"12\"]))')\n",
    "            .query('not (plate == \"yp29\" & well.isin([\"F04\", \"F05\",\"F06\",\"G03\", \"H01\",\"H02\",\"H04\",\"H05\",\"H06\"]))'))\n",
    "count_remaining(strains2)\n",
    "\n",
    "# 2.\n",
    "strains3 = strains2.query('growth_threshold == \"y\"')\n",
    "count_remaining(strains3)\n",
    "\n",
    "# 3.\n",
    "strains4 = strains3 .query('@NI_mask')\n",
    "count_remaining(strains4)\n",
    "\n",
    "# 4.\n",
    "strains5 = strains4.query('@FA_mask')\n",
    "count_remaining(strains5)\n",
    "\n",
    "# 5.\n",
    "strains6 = strains5.query('cured == \"y\"')\n",
    "count_remaining(strains6)\n",
    "\n",
    "# 6.\n",
    "strains7 = strains6.query('single_population == \"y\" | single_population == \"not_tested\"') # We assessed that only strains picked from densely populated plates e.g. our library plates were relevant to test for double populations.\n",
    "count_remaining(strains7)"
   ]
  },
  {
   "cell_type": "markdown",
   "metadata": {},
   "source": [
    "Perform filtering of all strains"
   ]
  },
  {
   "cell_type": "code",
   "execution_count": 62,
   "metadata": {},
   "outputs": [],
   "source": [
    "strains = (strains\n",
    " # 1.\n",
    " .query('not (plate == \"yp29\" & row.isin([\"A\", \"B\"]))')\n",
    " .query('not (plate == \"yp29\" & col.isin([\"07\", \"08\",\"09\",\"10\",\"11\",\"12\"]))')\n",
    " .query('not (plate == \"yp29\" & well.isin([\"F04\", \"F05\",\"F06\",\"G03\", \"H01\",\"H02\",\"H04\",\"H05\",\"H06\"]))')\n",
    " # 2.\n",
    " .query('growth_threshold == \"y\"')\n",
    " # 3.\n",
    " .query('@NI_mask')\n",
    " # 4.\n",
    " .query('@FA_mask')\n",
    " # 5.\n",
    " .query('cured == \"y\"')\n",
    " # 6.\n",
    " .query('single_population == \"y\" | single_population == \"not_tested\"') # We assessed that only strains picked from densely populated plates e.g. our library plates were relevant to test for double populations.\n",
    " .reset_index(drop = True)\n",
    " .drop(columns = ['plate','row','col','well','growth_threshold', 'cured', 'single_population'])       \n",
    ")"
   ]
  },
  {
   "cell_type": "code",
   "execution_count": 63,
   "metadata": {},
   "outputs": [
    {
     "data": {
      "text/plain": [
       "(953, 10)"
      ]
     },
     "execution_count": 63,
     "metadata": {},
     "output_type": "execute_result"
    }
   ],
   "source": [
    "strains.shape"
   ]
  },
  {
   "cell_type": "markdown",
   "metadata": {},
   "source": [
    "## Calculationg of library validation statistics"
   ]
  },
  {
   "cell_type": "markdown",
   "metadata": {},
   "source": [
    "Related to Figure 2B. For library strains:\n",
    "1. What fraction of genotypes are seen more than once?\n",
    "2. What fraction of strains has been been succesfully sequenced?\n",
    "3. What fraction of strains has assembled correctly?\n",
    "4. What fraction of strains has been cured?\n"
   ]
  },
  {
   "cell_type": "code",
   "execution_count": 64,
   "metadata": {},
   "outputs": [
    {
     "name": "stdout",
     "output_type": "stream",
     "text": [
      "Fraction of repeated colonies: 3.7 %\n"
     ]
    }
   ],
   "source": [
    "lib_strains = strains[strains['origin']=='lib']\n",
    "lib_strains_vc = lib_strains['Line Description'].value_counts()\n",
    "\n",
    "no_of_genotypes = len(lib_strains['Line Description'].unique())\n",
    "no_of_dup_genotypes = len(lib_strains['Line Name'].unique()) - len(lib_strains['Line Description'].unique())\n",
    "percent_dup_genotypes = round(no_of_dup_genotypes/ no_of_genotypes * 100,1)\n",
    "print(\"Fraction of repeated colonies: {} %\".format(percent_dup_genotypes))"
   ]
  },
  {
   "cell_type": "code",
   "execution_count": 65,
   "metadata": {},
   "outputs": [
    {
     "data": {
      "text/plain": [
       "(245, 9, 254)"
      ]
     },
     "execution_count": 65,
     "metadata": {},
     "output_type": "execute_result"
    }
   ],
   "source": [
    "no_of_genotypes = len(lib_strains['Line Description'].unique())\n",
    "no_of_dup_genotypes = len(lib_strains['Line Name'].unique()) - len(lib_strains['Line Description'].unique())\n",
    "no_of_genotypes, no_of_dup_genotypes, len(lib_strains['Line Name'].unique())"
   ]
  },
  {
   "cell_type": "code",
   "execution_count": 66,
   "metadata": {},
   "outputs": [
    {
     "name": "stdout",
     "output_type": "stream",
     "text": [
      "Fraction of succesfully sequenced: 77.7 %\n"
     ]
    }
   ],
   "source": [
    "no_of_growing_strains  = len(strains3['Line Name'].unique())\n",
    "no_of_complete_inf_strains = len(strains3.query('@NI_mask')['Line Name'].unique())\n",
    "percent_complete_inf_strains = round(no_of_complete_inf_strains/no_of_growing_strains * 100,1)\n",
    "print(\"Fraction of succesfully sequenced: {} %\".format(percent_complete_inf_strains))"
   ]
  },
  {
   "cell_type": "code",
   "execution_count": 190,
   "metadata": {},
   "outputs": [
    {
     "name": "stdout",
     "output_type": "stream",
     "text": [
      "Fraction of correct assemblies: 82.4 %\n"
     ]
    }
   ],
   "source": [
    "no_of_growing_strains  = len(strains3['Line Name'].unique())\n",
    "no_of_correct_assembly = len(strains3.query('@FA_mask')['Line Name'].unique())\n",
    "percent_cor_assemblies = round(no_of_correct_assembly/no_of_growing_strains * 100,1)\n",
    "print(\"Fraction of correct assemblies: {} %\".format(percent_cor_assemblies))"
   ]
  },
  {
   "cell_type": "code",
   "execution_count": 183,
   "metadata": {},
   "outputs": [
    {
     "data": {
      "text/plain": [
       "461"
      ]
     },
     "execution_count": 183,
     "metadata": {},
     "output_type": "execute_result"
    }
   ],
   "source": [
    "no_of_growing_strains"
   ]
  },
  {
   "cell_type": "code",
   "execution_count": 184,
   "metadata": {},
   "outputs": [
    {
     "data": {
      "text/plain": [
       "380"
      ]
     },
     "execution_count": 184,
     "metadata": {},
     "output_type": "execute_result"
    }
   ],
   "source": [
    "no_of_correct_assembly"
   ]
  },
  {
   "cell_type": "code",
   "execution_count": 68,
   "metadata": {},
   "outputs": [
    {
     "name": "stdout",
     "output_type": "stream",
     "text": [
      "Fraction of cured: 91.8 %\n"
     ]
    }
   ],
   "source": [
    "no_of_growing_strains  = len(strains3['Line Name'].unique())\n",
    "no_of_cured_strains = len(strains3.query('cured == \"y\"')['Line Name'].unique())\n",
    "percent_cured_strains = round(no_of_cured_strains/no_of_growing_strains * 100,1)\n",
    "print(\"Fraction of cured: {} %\".format(percent_cured_strains))"
   ]
  },
  {
   "cell_type": "code",
   "execution_count": 185,
   "metadata": {},
   "outputs": [
    {
     "data": {
      "text/plain": [
       "461"
      ]
     },
     "execution_count": 185,
     "metadata": {},
     "output_type": "execute_result"
    }
   ],
   "source": [
    "no_of_growing_strains"
   ]
  },
  {
   "cell_type": "code",
   "execution_count": 186,
   "metadata": {},
   "outputs": [
    {
     "data": {
      "text/plain": [
       "423"
      ]
     },
     "execution_count": 186,
     "metadata": {},
     "output_type": "execute_result"
    }
   ],
   "source": [
    "no_of_cured_strains"
   ]
  },
  {
   "cell_type": "markdown",
   "metadata": {},
   "source": [
    "### Calculating expected number of unique and repeated genotypes"
   ]
  },
  {
   "cell_type": "markdown",
   "metadata": {},
   "source": [
    "Monte Carlo simulation with 10,000 repeated samplings of 10,000 library colonies, and assuming percent correct assemblies and promoter distribution as determined for the library sample"
   ]
  },
  {
   "cell_type": "markdown",
   "metadata": {},
   "source": [
    "promoter distribution"
   ]
  },
  {
   "cell_type": "code",
   "execution_count": 178,
   "metadata": {},
   "outputs": [],
   "source": [
    "promoters_prob = np.zeros((5,6))\n",
    "promoters_prob[0] = np.array([12.2, 18.1, 12.2, 15.7, 14.6, 27.2])\n",
    "promoters_prob[1] = np.array([11, 18.1, 11.4, 23.6, 15, 20.9])\n",
    "promoters_prob[2] = np.array([4.3, 1.2, 29.5, 15, 15.4, 34.6])\n",
    "promoters_prob[3] = np.array([18.9, 17.3, 21.3, 7.5, 18.1, 16.9])\n",
    "promoters_prob[4] = np.array([15.7, 20.1, 23.2, 18.5, 3.5, 18.9])\n",
    "\n",
    "for i in range(5): \n",
    "    promoters_prob[i] = promoters_prob[i]/np.sum(promoters_prob[i])\n",
    "    promoters_prob[i] = np.cumsum(promoters_prob[i])\n",
    "    "
   ]
  },
  {
   "cell_type": "code",
   "execution_count": 12,
   "metadata": {},
   "outputs": [],
   "source": [
    "def generate_sample(size):\n",
    "    sample = []\n",
    "    for i in range(size):\n",
    "        r = np.random.rand(5, 1)\n",
    "        prom = []\n",
    "        for g in range(5):\n",
    "            prom.append(str(np.where(promoters_prob[g] > r[g])[0][0] + 1))\n",
    "        sample.append(''.join(prom))\n",
    "            \n",
    "    return sample\n",
    "        "
   ]
  },
  {
   "cell_type": "code",
   "execution_count": 13,
   "metadata": {},
   "outputs": [],
   "source": [
    "def exp_num_from_prob(n_colonies):\n",
    "    \n",
    "    num_repetitions = 10000\n",
    "    duplicates = np.zeros(num_repetitions)\n",
    "    for i in range(num_repetitions):\n",
    "        sample = generate_sample(size=n_colonies)    \n",
    "        duplicates[i] = n_colonies - len(set(sample))\n",
    "\n",
    "    mean_dupl = np.round(np.mean(duplicates))\n",
    "    mean_unique = n_colonies - mean_dupl\n",
    "    exp_dupl_percentage = np.round(100*mean_dupl/n_colonies)\n",
    "    print(f'Expected number of unique genotypes: {mean_unique}')\n",
    "    print(f'Expected number of duplicate genotypes: {mean_dupl} ({exp_dupl_percentage}%)')\n"
   ]
  },
  {
   "cell_type": "code",
   "execution_count": 15,
   "metadata": {},
   "outputs": [
    {
     "name": "stdout",
     "output_type": "stream",
     "text": [
      "Expected number of unique genotypes: 3759.0\n",
      "Expected number of duplicate genotypes: 4441.0 (54.0%)\n"
     ]
    }
   ],
   "source": [
    "n_colonies = 10000 * 0.82\n",
    "#exp_num_from_prob(n_colonies)"
   ]
  },
  {
   "cell_type": "markdown",
   "metadata": {
    "toc-hr-collapsed": true
   },
   "source": [
    "## Extraction of gfp titer and rate"
   ]
  },
  {
   "cell_type": "code",
   "execution_count": 69,
   "metadata": {},
   "outputs": [],
   "source": [
    "strains['index_gfp_min'] = 0  # [n_df.gfp_minus_bg.idxmin() for n_df in strains.time_series]\n",
    "strains['index_gfp_max'] = [_.gfp_minus_bg.idxmax() for _ in strains.time_series]"
   ]
  },
  {
   "cell_type": "markdown",
   "metadata": {},
   "source": [
    "Fit od, gfp, and gfp/od timeseries using splines"
   ]
  },
  {
   "cell_type": "code",
   "execution_count": 70,
   "metadata": {},
   "outputs": [],
   "source": [
    "splines_results = strains.apply(lambda row: utils_p.splines(row), axis=1)\n",
    "strains['spl_od']       = [spl_res[0] for spl_res in splines_results]\n",
    "strains['spl_gfp']      = [spl_res[1] for spl_res in splines_results]\n",
    "strains['spl_gfp_p_od'] = [spl_res[2] for spl_res in splines_results]\n",
    "strains['gfp_p_od_ts']  = [spl_res[3] for spl_res in splines_results]"
   ]
  },
  {
   "cell_type": "markdown",
   "metadata": {},
   "source": [
    "Use splines to find time points corresponding to: \n",
    "1. od = 0.075 \n",
    "2. od = 0.150\n",
    "3. the rate of gfp is maximum\n",
    "4. the rate of od is maximum "
   ]
  },
  {
   "cell_type": "code",
   "execution_count": 71,
   "metadata": {},
   "outputs": [],
   "source": [
    "find_times_res = strains.apply(lambda row: utils_p.find_times(row), axis=1)\n",
    "strains['t_od_t1']      = [time_res[0] for time_res in find_times_res]\n",
    "strains['t_od_t2']      = [time_res[1] for time_res in find_times_res]\n",
    "strains['t_r_od_max']   = [time_res[3] for time_res in find_times_res]"
   ]
  },
  {
   "cell_type": "markdown",
   "metadata": {},
   "source": [
    "Calculate predicted od, gfp, and gfp/od values corresponding to the found time points "
   ]
  },
  {
   "cell_type": "code",
   "execution_count": 72,
   "metadata": {},
   "outputs": [],
   "source": [
    "strains['od_t_od_t1']      = strains.apply(lambda row: row['spl_od'](row['t_od_t1']), axis=1)\n",
    "strains['od_t_od_t2']      = strains.apply(lambda row: row['spl_od'](row['t_od_t2']), axis=1)\n",
    "strains['od_t_r_od_max']   = strains.apply(lambda row: row['spl_od'](row['t_r_od_max']), axis=1)\n"
   ]
  },
  {
   "cell_type": "code",
   "execution_count": 73,
   "metadata": {},
   "outputs": [],
   "source": [
    "strains['gfp_t_od_t1']      = strains.apply(lambda row: row['spl_gfp'](row['t_od_t1']), axis=1)\n",
    "strains['gfp_t_od_t2']      = strains.apply(lambda row: row['spl_gfp'](row['t_od_t2']), axis=1)\n",
    "strains['gfp_t_r_od_max']   = strains.apply(lambda row: row['spl_gfp'](row['t_r_od_max']), axis=1)\n"
   ]
  },
  {
   "cell_type": "code",
   "execution_count": 74,
   "metadata": {},
   "outputs": [],
   "source": [
    "strains['gfp_p_od_t_od_t1']     = strains.apply(lambda row: row['spl_gfp_p_od'](row['t_od_t1']), axis=1)\n",
    "strains['gfp_p_od_t_od_t2']     = strains.apply(lambda row: row['spl_gfp_p_od'](row['t_od_t2']), axis=1)\n",
    "strains['gfp_p_od_t_r_od_max']  = strains.apply(lambda row: row['spl_gfp_p_od'](row['t_r_od_max']), axis=1)"
   ]
  },
  {
   "cell_type": "markdown",
   "metadata": {},
   "source": [
    "Calculate the difference in time, od, and gfp between t1 and t2. The difference in gfp is also called titer"
   ]
  },
  {
   "cell_type": "code",
   "execution_count": 75,
   "metadata": {},
   "outputs": [],
   "source": [
    "strains['delta_t']         = strains.apply(lambda row: row['t_od_t2']-row['t_od_t1'], axis=1)\n",
    "strains['delta_od']        = strains.apply(lambda row: row['od_t_od_t2']-row['od_t_od_t1'], axis=1)\n",
    "strains['delta_gfp']       = strains.apply(lambda row: row['gfp_t_od_t2']-row['gfp_t_od_t1'], axis=1)"
   ]
  },
  {
   "cell_type": "markdown",
   "metadata": {},
   "source": [
    "Calculate difference in gfp divided by the difference in time. This results is also called productivity"
   ]
  },
  {
   "cell_type": "code",
   "execution_count": 76,
   "metadata": {},
   "outputs": [],
   "source": [
    "strains['dgfp_dt'] = strains.apply(lambda row: row['delta_gfp']/row['delta_t'], axis=1)"
   ]
  },
  {
   "cell_type": "code",
   "execution_count": 77,
   "metadata": {},
   "outputs": [
    {
     "data": {
      "text/html": [
       "<div>\n",
       "<style scoped>\n",
       "    .dataframe tbody tr th:only-of-type {\n",
       "        vertical-align: middle;\n",
       "    }\n",
       "\n",
       "    .dataframe tbody tr th {\n",
       "        vertical-align: top;\n",
       "    }\n",
       "\n",
       "    .dataframe thead th {\n",
       "        text-align: right;\n",
       "    }\n",
       "</style>\n",
       "<table border=\"1\" class=\"dataframe\">\n",
       "  <thead>\n",
       "    <tr style=\"text-align: right;\">\n",
       "      <th></th>\n",
       "      <th>Line Name</th>\n",
       "      <th>replicate_count</th>\n",
       "      <th>Line Description</th>\n",
       "      <th>origin</th>\n",
       "      <th>time_series</th>\n",
       "      <th>p1</th>\n",
       "      <th>p2</th>\n",
       "      <th>p3</th>\n",
       "      <th>p4</th>\n",
       "      <th>p5</th>\n",
       "      <th>...</th>\n",
       "      <th>gfp_t_od_t1</th>\n",
       "      <th>gfp_t_od_t2</th>\n",
       "      <th>gfp_t_r_od_max</th>\n",
       "      <th>gfp_p_od_t_od_t1</th>\n",
       "      <th>gfp_p_od_t_od_t2</th>\n",
       "      <th>gfp_p_od_t_r_od_max</th>\n",
       "      <th>delta_t</th>\n",
       "      <th>delta_od</th>\n",
       "      <th>delta_gfp</th>\n",
       "      <th>dgfp_dt</th>\n",
       "    </tr>\n",
       "  </thead>\n",
       "  <tbody>\n",
       "    <tr>\n",
       "      <th>0</th>\n",
       "      <td>SP003</td>\n",
       "      <td>r1</td>\n",
       "      <td>02_11_13_24_29</td>\n",
       "      <td>lib</td>\n",
       "      <td>time     gfp     od  od_minus_bg  gfp...</td>\n",
       "      <td>2.0</td>\n",
       "      <td>11.0</td>\n",
       "      <td>13.0</td>\n",
       "      <td>24.0</td>\n",
       "      <td>29.0</td>\n",
       "      <td>...</td>\n",
       "      <td>350.31831262294634</td>\n",
       "      <td>719.4361441492541</td>\n",
       "      <td>1311.71591435308</td>\n",
       "      <td>4699.659395980494</td>\n",
       "      <td>4763.715841111394</td>\n",
       "      <td>1429.734827125743</td>\n",
       "      <td>3.72</td>\n",
       "      <td>0.074807</td>\n",
       "      <td>369.117832</td>\n",
       "      <td>99.225224</td>\n",
       "    </tr>\n",
       "    <tr>\n",
       "      <th>1</th>\n",
       "      <td>SP003</td>\n",
       "      <td>r2</td>\n",
       "      <td>02_11_13_24_29</td>\n",
       "      <td>lib</td>\n",
       "      <td>time     gfp     od  od_minus_bg  gfp...</td>\n",
       "      <td>2.0</td>\n",
       "      <td>11.0</td>\n",
       "      <td>13.0</td>\n",
       "      <td>24.0</td>\n",
       "      <td>29.0</td>\n",
       "      <td>...</td>\n",
       "      <td>378.31283872465747</td>\n",
       "      <td>717.5286327514972</td>\n",
       "      <td>1405.4869644164728</td>\n",
       "      <td>5034.872338696571</td>\n",
       "      <td>4816.526405891368</td>\n",
       "      <td>3016.7901853077365</td>\n",
       "      <td>3.16</td>\n",
       "      <td>0.075211</td>\n",
       "      <td>339.215794</td>\n",
       "      <td>107.346770</td>\n",
       "    </tr>\n",
       "    <tr>\n",
       "      <th>2</th>\n",
       "      <td>SP003</td>\n",
       "      <td>r3</td>\n",
       "      <td>02_11_13_24_29</td>\n",
       "      <td>lib</td>\n",
       "      <td>time     gfp      od  od_minus_bg  gf...</td>\n",
       "      <td>2.0</td>\n",
       "      <td>11.0</td>\n",
       "      <td>13.0</td>\n",
       "      <td>24.0</td>\n",
       "      <td>29.0</td>\n",
       "      <td>...</td>\n",
       "      <td>579.2522349354045</td>\n",
       "      <td>891.339112293065</td>\n",
       "      <td>1575.123819879755</td>\n",
       "      <td>7741.328071276553</td>\n",
       "      <td>5929.480569764345</td>\n",
       "      <td>2466.220469271193</td>\n",
       "      <td>2.85</td>\n",
       "      <td>0.075353</td>\n",
       "      <td>312.086877</td>\n",
       "      <td>109.504167</td>\n",
       "    </tr>\n",
       "    <tr>\n",
       "      <th>3</th>\n",
       "      <td>SP004</td>\n",
       "      <td>r1</td>\n",
       "      <td>02_11_13_19_25</td>\n",
       "      <td>lib</td>\n",
       "      <td>time     gfp     od  od_minus_bg  gfp...</td>\n",
       "      <td>2.0</td>\n",
       "      <td>11.0</td>\n",
       "      <td>13.0</td>\n",
       "      <td>19.0</td>\n",
       "      <td>25.0</td>\n",
       "      <td>...</td>\n",
       "      <td>391.401224209395</td>\n",
       "      <td>802.3893985325226</td>\n",
       "      <td>1710.197181761548</td>\n",
       "      <td>5225.70568448656</td>\n",
       "      <td>5313.995119067842</td>\n",
       "      <td>2184.660960653404</td>\n",
       "      <td>2.42</td>\n",
       "      <td>0.074935</td>\n",
       "      <td>410.988174</td>\n",
       "      <td>169.829824</td>\n",
       "    </tr>\n",
       "    <tr>\n",
       "      <th>4</th>\n",
       "      <td>SP004</td>\n",
       "      <td>r2</td>\n",
       "      <td>02_11_13_19_25</td>\n",
       "      <td>lib</td>\n",
       "      <td>time     gfp     od  od_minus_bg  gfp...</td>\n",
       "      <td>2.0</td>\n",
       "      <td>11.0</td>\n",
       "      <td>13.0</td>\n",
       "      <td>19.0</td>\n",
       "      <td>25.0</td>\n",
       "      <td>...</td>\n",
       "      <td>380.7317725101923</td>\n",
       "      <td>735.1029510228072</td>\n",
       "      <td>1668.7570441848184</td>\n",
       "      <td>5061.435288793469</td>\n",
       "      <td>4936.929300380902</td>\n",
       "      <td>2694.832956446529</td>\n",
       "      <td>2.28</td>\n",
       "      <td>0.075204</td>\n",
       "      <td>354.371179</td>\n",
       "      <td>155.425955</td>\n",
       "    </tr>\n",
       "  </tbody>\n",
       "</table>\n",
       "<p>5 rows × 32 columns</p>\n",
       "</div>"
      ],
      "text/plain": [
       "  Line Name replicate_count Line Description origin  \\\n",
       "0     SP003              r1   02_11_13_24_29    lib   \n",
       "1     SP003              r2   02_11_13_24_29    lib   \n",
       "2     SP003              r3   02_11_13_24_29    lib   \n",
       "3     SP004              r1   02_11_13_19_25    lib   \n",
       "4     SP004              r2   02_11_13_19_25    lib   \n",
       "\n",
       "                                         time_series   p1    p2    p3    p4  \\\n",
       "0           time     gfp     od  od_minus_bg  gfp...  2.0  11.0  13.0  24.0   \n",
       "1           time     gfp     od  od_minus_bg  gfp...  2.0  11.0  13.0  24.0   \n",
       "2           time     gfp      od  od_minus_bg  gf...  2.0  11.0  13.0  24.0   \n",
       "3           time     gfp     od  od_minus_bg  gfp...  2.0  11.0  13.0  19.0   \n",
       "4           time     gfp     od  od_minus_bg  gfp...  2.0  11.0  13.0  19.0   \n",
       "\n",
       "     p5     ...             gfp_t_od_t1        gfp_t_od_t2  \\\n",
       "0  29.0     ...      350.31831262294634  719.4361441492541   \n",
       "1  29.0     ...      378.31283872465747  717.5286327514972   \n",
       "2  29.0     ...       579.2522349354045   891.339112293065   \n",
       "3  25.0     ...        391.401224209395  802.3893985325226   \n",
       "4  25.0     ...       380.7317725101923  735.1029510228072   \n",
       "\n",
       "       gfp_t_r_od_max   gfp_p_od_t_od_t1   gfp_p_od_t_od_t2  \\\n",
       "0    1311.71591435308  4699.659395980494  4763.715841111394   \n",
       "1  1405.4869644164728  5034.872338696571  4816.526405891368   \n",
       "2   1575.123819879755  7741.328071276553  5929.480569764345   \n",
       "3   1710.197181761548   5225.70568448656  5313.995119067842   \n",
       "4  1668.7570441848184  5061.435288793469  4936.929300380902   \n",
       "\n",
       "  gfp_p_od_t_r_od_max  delta_t  delta_od   delta_gfp     dgfp_dt  \n",
       "0   1429.734827125743     3.72  0.074807  369.117832   99.225224  \n",
       "1  3016.7901853077365     3.16  0.075211  339.215794  107.346770  \n",
       "2   2466.220469271193     2.85  0.075353  312.086877  109.504167  \n",
       "3   2184.660960653404     2.42  0.074935  410.988174  169.829824  \n",
       "4   2694.832956446529     2.28  0.075204  354.371179  155.425955  \n",
       "\n",
       "[5 rows x 32 columns]"
      ]
     },
     "execution_count": 77,
     "metadata": {},
     "output_type": "execute_result"
    }
   ],
   "source": [
    "strains.head()"
   ]
  },
  {
   "cell_type": "markdown",
   "metadata": {},
   "source": [
    "### Plot individual timeseries"
   ]
  },
  {
   "cell_type": "markdown",
   "metadata": {},
   "source": [
    "Highlighted is times for which od = 0.075, od = 0.150, and the rate of od is maximum"
   ]
  },
  {
   "cell_type": "code",
   "execution_count": 78,
   "metadata": {},
   "outputs": [
    {
     "name": "stderr",
     "output_type": "stream",
     "text": [
      "/usr/local/share/jupyteruser/.pyenv/versions/ART_3.6/lib/python3.6/site-packages/matplotlib/font_manager.py:1241: UserWarning: findfont: Font family ['sans-serif'] not found. Falling back to DejaVu Sans.\n",
      "  (prop.get_family(), self.defaultFamily[fontext]))\n",
      "/usr/local/share/jupyteruser/.pyenv/versions/ART_3.6/lib/python3.6/site-packages/matplotlib/figure.py:2366: UserWarning: This figure includes Axes that are not compatible with tight_layout, so results might be incorrect.\n",
      "  warnings.warn(\"This figure includes Axes that are not compatible \"\n"
     ]
    },
    {
     "data": {
      "image/png": "[encoded data removed]",
      "text/plain": [
       "<Figure size 1080x1080 with 3 Axes>"
      ]
     },
     "metadata": {},
     "output_type": "display_data"
    }
   ],
   "source": [
    "utils_p.plot_strain_by_index(strains, [0])"
   ]
  },
  {
   "cell_type": "markdown",
   "metadata": {},
   "source": [
    "### Descriptive statistics "
   ]
  },
  {
   "cell_type": "code",
   "execution_count": 79,
   "metadata": {},
   "outputs": [
    {
     "data": {
      "text/html": [
       "<div>\n",
       "<style scoped>\n",
       "    .dataframe tbody tr th:only-of-type {\n",
       "        vertical-align: middle;\n",
       "    }\n",
       "\n",
       "    .dataframe tbody tr th {\n",
       "        vertical-align: top;\n",
       "    }\n",
       "\n",
       "    .dataframe thead th {\n",
       "        text-align: right;\n",
       "    }\n",
       "</style>\n",
       "<table border=\"1\" class=\"dataframe\">\n",
       "  <thead>\n",
       "    <tr style=\"text-align: right;\">\n",
       "      <th></th>\n",
       "      <th>origin</th>\n",
       "      <th>mean</th>\n",
       "      <th>sem</th>\n",
       "    </tr>\n",
       "    <tr>\n",
       "      <th>Line Name</th>\n",
       "      <th></th>\n",
       "      <th></th>\n",
       "      <th></th>\n",
       "    </tr>\n",
       "  </thead>\n",
       "  <tbody>\n",
       "    <tr>\n",
       "      <th>SP245</th>\n",
       "      <td>lib</td>\n",
       "      <td>43.726855</td>\n",
       "      <td>4.925119</td>\n",
       "    </tr>\n",
       "    <tr>\n",
       "      <th>SP451</th>\n",
       "      <td>lib</td>\n",
       "      <td>55.253202</td>\n",
       "      <td>1.933611</td>\n",
       "    </tr>\n",
       "    <tr>\n",
       "      <th>SP367</th>\n",
       "      <td>lib</td>\n",
       "      <td>60.749836</td>\n",
       "      <td>3.995229</td>\n",
       "    </tr>\n",
       "    <tr>\n",
       "      <th>SP364</th>\n",
       "      <td>lib</td>\n",
       "      <td>63.328597</td>\n",
       "      <td>7.110656</td>\n",
       "    </tr>\n",
       "    <tr>\n",
       "      <th>SP554</th>\n",
       "      <td>ctr</td>\n",
       "      <td>64.431587</td>\n",
       "      <td>6.487192</td>\n",
       "    </tr>\n",
       "  </tbody>\n",
       "</table>\n",
       "</div>"
      ],
      "text/plain": [
       "          origin       mean       sem\n",
       "Line Name                            \n",
       "SP245        lib  43.726855  4.925119\n",
       "SP451        lib  55.253202  1.933611\n",
       "SP367        lib  60.749836  3.995229\n",
       "SP364        lib  63.328597  7.110656\n",
       "SP554        ctr  64.431587  6.487192"
      ]
     },
     "execution_count": 79,
     "metadata": {},
     "output_type": "execute_result"
    }
   ],
   "source": [
    "productivity = (strains.groupby(['Line Name', 'origin'])\n",
    "                       .agg({'dgfp_dt': ['mean', 'sem']})\n",
    "                       .loc[:,'dgfp_dt']\n",
    "                       .sort_values(by=['mean'])\n",
    "                       .reset_index(level='origin'))\n",
    "productivity.head()"
   ]
  },
  {
   "cell_type": "markdown",
   "metadata": {},
   "source": [
    "**For library strains**"
   ]
  },
  {
   "cell_type": "code",
   "execution_count": 80,
   "metadata": {},
   "outputs": [
    {
     "name": "stdout",
     "output_type": "stream",
     "text": [
      "The maximum productivity is: 256.0\n"
     ]
    }
   ],
   "source": [
    "max_lib = productivity[productivity['origin']=='lib']['mean'].max()\n",
    "print('The maximum productivity is: {}'.format(round(max_lib)))"
   ]
  },
  {
   "cell_type": "code",
   "execution_count": 81,
   "metadata": {},
   "outputs": [
    {
     "name": "stdout",
     "output_type": "stream",
     "text": [
      "The minimum productivity is: 44.0\n"
     ]
    }
   ],
   "source": [
    "min_lib = productivity[productivity['origin']=='lib']['mean'].min()\n",
    "print('The minimum productivity is: {}'.format(round(min_lib)))"
   ]
  },
  {
   "cell_type": "code",
   "execution_count": 82,
   "metadata": {},
   "outputs": [
    {
     "name": "stdout",
     "output_type": "stream",
     "text": [
      "The mean productivity of the platform strain is: 144.8\n"
     ]
    }
   ],
   "source": [
    "platform = productivity['mean']['SP507']\n",
    "print('The mean productivity of the platform strain is: {}'.format(round(platform,1)))"
   ]
  },
  {
   "cell_type": "code",
   "execution_count": 83,
   "metadata": {},
   "outputs": [
    {
     "name": "stdout",
     "output_type": "stream",
     "text": [
      "The fold change difference between min and max productivity i.e. design having 5 native promoters is: 5.8\n"
     ]
    }
   ],
   "source": [
    "print('The fold change difference between min and max productivity i.e. design having 5 native promoters is: {}'.format(round(max_lib / min_lib,1)))"
   ]
  },
  {
   "cell_type": "code",
   "execution_count": 84,
   "metadata": {},
   "outputs": [
    {
     "name": "stdout",
     "output_type": "stream",
     "text": [
      "The mean Standard Error of the Mean (SEM) is: 6.6\n"
     ]
    }
   ],
   "source": [
    "sem_mean = productivity[productivity['origin']=='lib']['sem'].mean()\n",
    "print('The mean Standard Error of the Mean (SEM) is: {}'.format(round(sem_mean,1)))"
   ]
  },
  {
   "cell_type": "markdown",
   "metadata": {},
   "source": [
    "**For recommendend strains**"
   ]
  },
  {
   "cell_type": "code",
   "execution_count": 85,
   "metadata": {},
   "outputs": [
    {
     "name": "stdout",
     "output_type": "stream",
     "text": [
      "The maximum productivity is: 299.0\n"
     ]
    }
   ],
   "source": [
    "max_rec = productivity[productivity['origin'].isin(['Tes','JBEI','both'])]['mean'].max()\n",
    "print('The maximum productivity is: {}'.format(round(max_rec)))"
   ]
  },
  {
   "cell_type": "code",
   "execution_count": 86,
   "metadata": {},
   "outputs": [
    {
     "name": "stdout",
     "output_type": "stream",
     "text": [
      "The fold difference in JBEI recommended productivity is: 1.8\n"
     ]
    }
   ],
   "source": [
    "min_JBEI = productivity[productivity['origin']=='JBEI']['mean'].min()\n",
    "max_JBEI = productivity[productivity['origin']=='JBEI']['mean'].max()\n",
    "print('The fold difference in JBEI recommended productivity is: {}'.format(round(max_JBEI/min_JBEI,1)))"
   ]
  },
  {
   "cell_type": "code",
   "execution_count": 87,
   "metadata": {},
   "outputs": [
    {
     "name": "stdout",
     "output_type": "stream",
     "text": [
      "The fold difference in Teselagen recommended productivity is: 3.4\n"
     ]
    }
   ],
   "source": [
    "min_Tes = productivity[productivity['origin']=='Tes']['mean'].min()\n",
    "max_Tes = productivity[productivity['origin']=='Tes']['mean'].max()\n",
    "print('The fold difference in Teselagen recommended productivity is: {}'.format(round(max_Tes/min_Tes,1)))"
   ]
  },
  {
   "cell_type": "code",
   "execution_count": 88,
   "metadata": {},
   "outputs": [
    {
     "name": "stdout",
     "output_type": "stream",
     "text": [
      "The fold difference in fold differences of productivity is: 1.9\n"
     ]
    }
   ],
   "source": [
    "print('The fold difference in fold differences of productivity is: {}'.format(round((max_Tes/min_Tes)/(max_JBEI/min_JBEI),1)))"
   ]
  },
  {
   "cell_type": "markdown",
   "metadata": {},
   "source": [
    "**For library and control strains**"
   ]
  },
  {
   "cell_type": "code",
   "execution_count": 89,
   "metadata": {},
   "outputs": [],
   "source": [
    "productivity_lib_ctr = productivity[np.logical_or(productivity['origin']=='lib',\n",
    "                           productivity['origin']=='ctr')].reset_index()"
   ]
  },
  {
   "cell_type": "markdown",
   "metadata": {},
   "source": [
    "Plot productivity (mean and standard error) by strain"
   ]
  },
  {
   "cell_type": "code",
   "execution_count": 90,
   "metadata": {},
   "outputs": [
    {
     "name": "stderr",
     "output_type": "stream",
     "text": [
      "/usr/local/share/jupyteruser/.pyenv/versions/ART_3.6/lib/python3.6/site-packages/matplotlib/font_manager.py:1241: UserWarning: findfont: Font family ['sans-serif'] not found. Falling back to DejaVu Sans.\n",
      "  (prop.get_family(), self.defaultFamily[fontext]))\n",
      "/usr/local/share/jupyteruser/.pyenv/versions/ART_3.6/lib/python3.6/site-packages/matplotlib/figure.py:2366: UserWarning: This figure includes Axes that are not compatible with tight_layout, so results might be incorrect.\n",
      "  warnings.warn(\"This figure includes Axes that are not compatible \"\n"
     ]
    },
    {
     "data": {
      "image/png": "[encoded data removed]",
      "text/plain": [
       "<Figure size 1008x360 with 1 Axes>"
      ]
     },
     "metadata": {},
     "output_type": "display_data"
    }
   ],
   "source": [
    "fig, axes = plt.subplots(figsize = (14, 5))\n",
    "fig.set_tight_layout(True)\n",
    "\n",
    "productivity_lib_ctr.plot(kind = 'bar', y='mean', yerr = 'sem', alpha = 0.3, width = 0.5, legend=False, ax=axes); #\n",
    "\n",
    "# Highlight platform strains \n",
    "for bar in axes.patches:\n",
    "    bar.set_facecolor('#888888')\n",
    "highlight = 'SP507'\n",
    "pos = productivity.index.get_loc(highlight)\n",
    "axes.patches[pos].set_facecolor('green')\n",
    "axes.patches[pos].set_alpha(1)\n",
    "\n",
    "#fontsize = 24\n",
    "axes.set_xlabel('Individual strain')\n",
    "axes.set_ylabel('GFP synthesis rate, MFI/h');\n",
    "axes.tick_params(\n",
    "    axis='x',          # changes apply to the x-axis\n",
    "    which='both',      # both major and minor ticks are affected\n",
    "    bottom=False,      # ticks along the bottom edge are off\n",
    "    labelbottom=False) # labels along the bottom edge are off\n",
    "fig.savefig(\"./figures/Figure 3F.pdf\") #, bbox_inches='tight'"
   ]
  },
  {
   "cell_type": "code",
   "execution_count": 91,
   "metadata": {},
   "outputs": [
    {
     "name": "stdout",
     "output_type": "stream",
     "text": [
      "The average coefficient of variation for the mean values is: 4.3%\n"
     ]
    }
   ],
   "source": [
    "print('The average coefficient of variation for the mean values is: {}%'.format(round(productivity_lib_ctr['sem'].mean()/productivity_lib_ctr['mean'].mean() * 100,1)))"
   ]
  },
  {
   "cell_type": "markdown",
   "metadata": {},
   "source": [
    "**For library and recommended strains**"
   ]
  },
  {
   "cell_type": "code",
   "execution_count": 92,
   "metadata": {},
   "outputs": [
    {
     "name": "stdout",
     "output_type": "stream",
     "text": [
      "The percent difference in productivit y between max recommended and platform strain is: 206.0%\n"
     ]
    }
   ],
   "source": [
    "print('The percent difference in productivit y between max recommended and platform strain is: {}%'.format(round(max_rec / platform * 100)))"
   ]
  },
  {
   "cell_type": "code",
   "execution_count": 93,
   "metadata": {},
   "outputs": [
    {
     "name": "stdout",
     "output_type": "stream",
     "text": [
      "The percent difference in productivity between max recommended and max library is: 117.0%\n"
     ]
    }
   ],
   "source": [
    "print('The percent difference in productivity between max recommended and max library is: {}%'.format(round(max_rec/max_lib * 100)))"
   ]
  },
  {
   "cell_type": "markdown",
   "metadata": {
    "toc-hr-collapsed": false
   },
   "source": [
    "# Modeling"
   ]
  },
  {
   "cell_type": "markdown",
   "metadata": {
    "toc-hr-collapsed": true
   },
   "source": [
    "## Reformat for ART"
   ]
  },
  {
   "cell_type": "markdown",
   "metadata": {},
   "source": [
    "Filter library and control strains, combine the `Line Name` and `replicate_count` columns, and finally select  relevant columns  "
   ]
  },
  {
   "cell_type": "code",
   "execution_count": 94,
   "metadata": {},
   "outputs": [
    {
     "data": {
      "text/html": [
       "<div>\n",
       "<style scoped>\n",
       "    .dataframe tbody tr th:only-of-type {\n",
       "        vertical-align: middle;\n",
       "    }\n",
       "\n",
       "    .dataframe tbody tr th {\n",
       "        vertical-align: top;\n",
       "    }\n",
       "\n",
       "    .dataframe thead th {\n",
       "        text-align: right;\n",
       "    }\n",
       "</style>\n",
       "<table border=\"1\" class=\"dataframe\">\n",
       "  <thead>\n",
       "    <tr style=\"text-align: right;\">\n",
       "      <th></th>\n",
       "      <th>Line Name</th>\n",
       "      <th>dgfp_dt</th>\n",
       "      <th>p1</th>\n",
       "      <th>p2</th>\n",
       "      <th>p3</th>\n",
       "      <th>p4</th>\n",
       "      <th>p5</th>\n",
       "    </tr>\n",
       "  </thead>\n",
       "  <tbody>\n",
       "    <tr>\n",
       "      <th>0</th>\n",
       "      <td>SP003-r1</td>\n",
       "      <td>99.225224</td>\n",
       "      <td>2.0</td>\n",
       "      <td>11.0</td>\n",
       "      <td>13.0</td>\n",
       "      <td>24.0</td>\n",
       "      <td>29.0</td>\n",
       "    </tr>\n",
       "    <tr>\n",
       "      <th>1</th>\n",
       "      <td>SP003-r2</td>\n",
       "      <td>107.346770</td>\n",
       "      <td>2.0</td>\n",
       "      <td>11.0</td>\n",
       "      <td>13.0</td>\n",
       "      <td>24.0</td>\n",
       "      <td>29.0</td>\n",
       "    </tr>\n",
       "    <tr>\n",
       "      <th>2</th>\n",
       "      <td>SP003-r3</td>\n",
       "      <td>109.504167</td>\n",
       "      <td>2.0</td>\n",
       "      <td>11.0</td>\n",
       "      <td>13.0</td>\n",
       "      <td>24.0</td>\n",
       "      <td>29.0</td>\n",
       "    </tr>\n",
       "    <tr>\n",
       "      <th>3</th>\n",
       "      <td>SP004-r1</td>\n",
       "      <td>169.829824</td>\n",
       "      <td>2.0</td>\n",
       "      <td>11.0</td>\n",
       "      <td>13.0</td>\n",
       "      <td>19.0</td>\n",
       "      <td>25.0</td>\n",
       "    </tr>\n",
       "    <tr>\n",
       "      <th>4</th>\n",
       "      <td>SP004-r2</td>\n",
       "      <td>155.425955</td>\n",
       "      <td>2.0</td>\n",
       "      <td>11.0</td>\n",
       "      <td>13.0</td>\n",
       "      <td>19.0</td>\n",
       "      <td>25.0</td>\n",
       "    </tr>\n",
       "  </tbody>\n",
       "</table>\n",
       "</div>"
      ],
      "text/plain": [
       "  Line Name     dgfp_dt   p1    p2    p3    p4    p5\n",
       "0  SP003-r1   99.225224  2.0  11.0  13.0  24.0  29.0\n",
       "1  SP003-r2  107.346770  2.0  11.0  13.0  24.0  29.0\n",
       "2  SP003-r3  109.504167  2.0  11.0  13.0  24.0  29.0\n",
       "3  SP004-r1  169.829824  2.0  11.0  13.0  19.0  25.0\n",
       "4  SP004-r2  155.425955  2.0  11.0  13.0  19.0  25.0"
      ]
     },
     "execution_count": 94,
     "metadata": {},
     "output_type": "execute_result"
    }
   ],
   "source": [
    "strains_art_oneh = strains.copy().loc[np.logical_or(strains['origin'] == 'lib',\n",
    "                                                   strains['origin'] == 'ctr')]\n",
    "\n",
    "strains_art_oneh[\"Line Name\"] = strains_art_oneh[\"Line Name\"] + \"-\" + strains_art_oneh[\"replicate_count\"]\n",
    "\n",
    "strains_art_oneh = strains_art_oneh.loc[:,['Line Name','dgfp_dt','p1', 'p2', 'p3', 'p4', 'p5']]\n",
    "strains_art_oneh.head()"
   ]
  },
  {
   "cell_type": "markdown",
   "metadata": {},
   "source": [
    "### One hot encode variables"
   ]
  },
  {
   "cell_type": "code",
   "execution_count": 95,
   "metadata": {},
   "outputs": [
    {
     "data": {
      "text/html": [
       "<div>\n",
       "<style scoped>\n",
       "    .dataframe tbody tr th:only-of-type {\n",
       "        vertical-align: middle;\n",
       "    }\n",
       "\n",
       "    .dataframe tbody tr th {\n",
       "        vertical-align: top;\n",
       "    }\n",
       "\n",
       "    .dataframe thead th {\n",
       "        text-align: right;\n",
       "    }\n",
       "</style>\n",
       "<table border=\"1\" class=\"dataframe\">\n",
       "  <thead>\n",
       "    <tr style=\"text-align: right;\">\n",
       "      <th></th>\n",
       "      <th>Line Name</th>\n",
       "      <th>dgfp_dt</th>\n",
       "      <th>p1_1.0</th>\n",
       "      <th>p1_2.0</th>\n",
       "      <th>p1_3.0</th>\n",
       "      <th>p1_4.0</th>\n",
       "      <th>p1_5.0</th>\n",
       "      <th>p1_6.0</th>\n",
       "      <th>p2_7.0</th>\n",
       "      <th>p2_8.0</th>\n",
       "      <th>...</th>\n",
       "      <th>p4_21.0</th>\n",
       "      <th>p4_22.0</th>\n",
       "      <th>p4_23.0</th>\n",
       "      <th>p4_24.0</th>\n",
       "      <th>p5_25.0</th>\n",
       "      <th>p5_26.0</th>\n",
       "      <th>p5_27.0</th>\n",
       "      <th>p5_28.0</th>\n",
       "      <th>p5_29.0</th>\n",
       "      <th>p5_30.0</th>\n",
       "    </tr>\n",
       "  </thead>\n",
       "  <tbody>\n",
       "    <tr>\n",
       "      <th>0</th>\n",
       "      <td>SP003-r1</td>\n",
       "      <td>99.225224</td>\n",
       "      <td>0</td>\n",
       "      <td>1</td>\n",
       "      <td>0</td>\n",
       "      <td>0</td>\n",
       "      <td>0</td>\n",
       "      <td>0</td>\n",
       "      <td>0</td>\n",
       "      <td>0</td>\n",
       "      <td>...</td>\n",
       "      <td>0</td>\n",
       "      <td>0</td>\n",
       "      <td>0</td>\n",
       "      <td>1</td>\n",
       "      <td>0</td>\n",
       "      <td>0</td>\n",
       "      <td>0</td>\n",
       "      <td>0</td>\n",
       "      <td>1</td>\n",
       "      <td>0</td>\n",
       "    </tr>\n",
       "    <tr>\n",
       "      <th>1</th>\n",
       "      <td>SP003-r2</td>\n",
       "      <td>107.346770</td>\n",
       "      <td>0</td>\n",
       "      <td>1</td>\n",
       "      <td>0</td>\n",
       "      <td>0</td>\n",
       "      <td>0</td>\n",
       "      <td>0</td>\n",
       "      <td>0</td>\n",
       "      <td>0</td>\n",
       "      <td>...</td>\n",
       "      <td>0</td>\n",
       "      <td>0</td>\n",
       "      <td>0</td>\n",
       "      <td>1</td>\n",
       "      <td>0</td>\n",
       "      <td>0</td>\n",
       "      <td>0</td>\n",
       "      <td>0</td>\n",
       "      <td>1</td>\n",
       "      <td>0</td>\n",
       "    </tr>\n",
       "    <tr>\n",
       "      <th>2</th>\n",
       "      <td>SP003-r3</td>\n",
       "      <td>109.504167</td>\n",
       "      <td>0</td>\n",
       "      <td>1</td>\n",
       "      <td>0</td>\n",
       "      <td>0</td>\n",
       "      <td>0</td>\n",
       "      <td>0</td>\n",
       "      <td>0</td>\n",
       "      <td>0</td>\n",
       "      <td>...</td>\n",
       "      <td>0</td>\n",
       "      <td>0</td>\n",
       "      <td>0</td>\n",
       "      <td>1</td>\n",
       "      <td>0</td>\n",
       "      <td>0</td>\n",
       "      <td>0</td>\n",
       "      <td>0</td>\n",
       "      <td>1</td>\n",
       "      <td>0</td>\n",
       "    </tr>\n",
       "    <tr>\n",
       "      <th>3</th>\n",
       "      <td>SP004-r1</td>\n",
       "      <td>169.829824</td>\n",
       "      <td>0</td>\n",
       "      <td>1</td>\n",
       "      <td>0</td>\n",
       "      <td>0</td>\n",
       "      <td>0</td>\n",
       "      <td>0</td>\n",
       "      <td>0</td>\n",
       "      <td>0</td>\n",
       "      <td>...</td>\n",
       "      <td>0</td>\n",
       "      <td>0</td>\n",
       "      <td>0</td>\n",
       "      <td>0</td>\n",
       "      <td>1</td>\n",
       "      <td>0</td>\n",
       "      <td>0</td>\n",
       "      <td>0</td>\n",
       "      <td>0</td>\n",
       "      <td>0</td>\n",
       "    </tr>\n",
       "    <tr>\n",
       "      <th>4</th>\n",
       "      <td>SP004-r2</td>\n",
       "      <td>155.425955</td>\n",
       "      <td>0</td>\n",
       "      <td>1</td>\n",
       "      <td>0</td>\n",
       "      <td>0</td>\n",
       "      <td>0</td>\n",
       "      <td>0</td>\n",
       "      <td>0</td>\n",
       "      <td>0</td>\n",
       "      <td>...</td>\n",
       "      <td>0</td>\n",
       "      <td>0</td>\n",
       "      <td>0</td>\n",
       "      <td>0</td>\n",
       "      <td>1</td>\n",
       "      <td>0</td>\n",
       "      <td>0</td>\n",
       "      <td>0</td>\n",
       "      <td>0</td>\n",
       "      <td>0</td>\n",
       "    </tr>\n",
       "  </tbody>\n",
       "</table>\n",
       "<p>5 rows × 32 columns</p>\n",
       "</div>"
      ],
      "text/plain": [
       "  Line Name     dgfp_dt  p1_1.0  p1_2.0  p1_3.0  p1_4.0  p1_5.0  p1_6.0  \\\n",
       "0  SP003-r1   99.225224       0       1       0       0       0       0   \n",
       "1  SP003-r2  107.346770       0       1       0       0       0       0   \n",
       "2  SP003-r3  109.504167       0       1       0       0       0       0   \n",
       "3  SP004-r1  169.829824       0       1       0       0       0       0   \n",
       "4  SP004-r2  155.425955       0       1       0       0       0       0   \n",
       "\n",
       "   p2_7.0  p2_8.0   ...     p4_21.0  p4_22.0  p4_23.0  p4_24.0  p5_25.0  \\\n",
       "0       0       0   ...           0        0        0        1        0   \n",
       "1       0       0   ...           0        0        0        1        0   \n",
       "2       0       0   ...           0        0        0        1        0   \n",
       "3       0       0   ...           0        0        0        0        1   \n",
       "4       0       0   ...           0        0        0        0        1   \n",
       "\n",
       "   p5_26.0  p5_27.0  p5_28.0  p5_29.0  p5_30.0  \n",
       "0        0        0        0        1        0  \n",
       "1        0        0        0        1        0  \n",
       "2        0        0        0        1        0  \n",
       "3        0        0        0        0        0  \n",
       "4        0        0        0        0        0  \n",
       "\n",
       "[5 rows x 32 columns]"
      ]
     },
     "execution_count": 95,
     "metadata": {},
     "output_type": "execute_result"
    }
   ],
   "source": [
    "strains_art_oneh = pd.get_dummies(data=strains_art_oneh, columns=['p1', 'p2', 'p3', 'p4','p5'])\n",
    "strains_art_oneh.head()"
   ]
  },
  {
   "cell_type": "markdown",
   "metadata": {},
   "source": [
    "Store colnames as parameter setting for ART"
   ]
  },
  {
   "cell_type": "code",
   "execution_count": 96,
   "metadata": {},
   "outputs": [],
   "source": [
    "colnames = strains_art_oneh.columns[3:].tolist()"
   ]
  },
  {
   "cell_type": "markdown",
   "metadata": {},
   "source": [
    "Pivot dataframe and change column names"
   ]
  },
  {
   "cell_type": "code",
   "execution_count": 97,
   "metadata": {},
   "outputs": [
    {
     "data": {
      "text/html": [
       "<div>\n",
       "<style scoped>\n",
       "    .dataframe tbody tr th:only-of-type {\n",
       "        vertical-align: middle;\n",
       "    }\n",
       "\n",
       "    .dataframe tbody tr th {\n",
       "        vertical-align: top;\n",
       "    }\n",
       "\n",
       "    .dataframe thead th {\n",
       "        text-align: right;\n",
       "    }\n",
       "</style>\n",
       "<table border=\"1\" class=\"dataframe\">\n",
       "  <thead>\n",
       "    <tr style=\"text-align: right;\">\n",
       "      <th></th>\n",
       "      <th>Line Name</th>\n",
       "      <th>Measurement Type</th>\n",
       "      <th>Value</th>\n",
       "    </tr>\n",
       "  </thead>\n",
       "  <tbody>\n",
       "    <tr>\n",
       "      <th>0</th>\n",
       "      <td>SP003-r1</td>\n",
       "      <td>dgfp_dt</td>\n",
       "      <td>99.225224</td>\n",
       "    </tr>\n",
       "    <tr>\n",
       "      <th>1</th>\n",
       "      <td>SP003-r1</td>\n",
       "      <td>p1_1.0</td>\n",
       "      <td>0.000000</td>\n",
       "    </tr>\n",
       "    <tr>\n",
       "      <th>2</th>\n",
       "      <td>SP003-r1</td>\n",
       "      <td>p1_2.0</td>\n",
       "      <td>1.000000</td>\n",
       "    </tr>\n",
       "    <tr>\n",
       "      <th>3</th>\n",
       "      <td>SP003-r1</td>\n",
       "      <td>p1_3.0</td>\n",
       "      <td>0.000000</td>\n",
       "    </tr>\n",
       "    <tr>\n",
       "      <th>4</th>\n",
       "      <td>SP003-r1</td>\n",
       "      <td>p1_4.0</td>\n",
       "      <td>0.000000</td>\n",
       "    </tr>\n",
       "  </tbody>\n",
       "</table>\n",
       "</div>"
      ],
      "text/plain": [
       "  Line Name Measurement Type      Value\n",
       "0  SP003-r1          dgfp_dt  99.225224\n",
       "1  SP003-r1           p1_1.0   0.000000\n",
       "2  SP003-r1           p1_2.0   1.000000\n",
       "3  SP003-r1           p1_3.0   0.000000\n",
       "4  SP003-r1           p1_4.0   0.000000"
      ]
     },
     "execution_count": 97,
     "metadata": {},
     "output_type": "execute_result"
    }
   ],
   "source": [
    "strains_art_oneh = strains_art_oneh.set_index('Line Name').stack().reset_index()\n",
    "strains_art_oneh.columns = ['Line Name', 'Measurement Type', 'Value']\n",
    "strains_art_oneh.head()"
   ]
  },
  {
   "cell_type": "markdown",
   "metadata": {
    "toc-hr-collapsed": false
   },
   "source": [
    "## JBEI ART"
   ]
  },
  {
   "cell_type": "markdown",
   "metadata": {},
   "source": [
    "### Filtering of outliers"
   ]
  },
  {
   "cell_type": "code",
   "execution_count": 98,
   "metadata": {},
   "outputs": [],
   "source": [
    "measurement = ['dgfp_dt']"
   ]
  },
  {
   "cell_type": "code",
   "execution_count": 99,
   "metadata": {},
   "outputs": [
    {
     "data": {
      "text/html": [
       "dgfp_dt"
      ],
      "text/plain": [
       "<IPython.core.display.HTML object>"
      ]
     },
     "metadata": {},
     "output_type": "display_data"
    },
    {
     "data": {
      "text/html": [
       "8 individual replicates from 5 strains found with absolute error higher than 35.88 (data with errors higher than 99% of all data)."
      ],
      "text/plain": [
       "<IPython.core.display.HTML object>"
      ]
     },
     "metadata": {},
     "output_type": "display_data"
    },
    {
     "data": {
      "text/html": [
       "<div>\n",
       "<style scoped>\n",
       "    .dataframe tbody tr th:only-of-type {\n",
       "        vertical-align: middle;\n",
       "    }\n",
       "\n",
       "    .dataframe tbody tr th {\n",
       "        vertical-align: top;\n",
       "    }\n",
       "\n",
       "    .dataframe thead th {\n",
       "        text-align: right;\n",
       "    }\n",
       "</style>\n",
       "<table border=\"1\" class=\"dataframe\">\n",
       "  <thead>\n",
       "    <tr style=\"text-align: right;\">\n",
       "      <th></th>\n",
       "      <th>Value</th>\n",
       "      <th>Measurement Type</th>\n",
       "      <th>Replicate Mean</th>\n",
       "      <th>Replicate Error</th>\n",
       "    </tr>\n",
       "    <tr>\n",
       "      <th>Line Name</th>\n",
       "      <th></th>\n",
       "      <th></th>\n",
       "      <th></th>\n",
       "      <th></th>\n",
       "    </tr>\n",
       "  </thead>\n",
       "  <tbody>\n",
       "    <tr>\n",
       "      <th>SP224-r1</th>\n",
       "      <td>79.990664</td>\n",
       "      <td>dgfp_dt</td>\n",
       "      <td>123.932894</td>\n",
       "      <td>-43.942229</td>\n",
       "    </tr>\n",
       "    <tr>\n",
       "      <th>SP224-r3</th>\n",
       "      <td>174.085502</td>\n",
       "      <td>dgfp_dt</td>\n",
       "      <td>123.932894</td>\n",
       "      <td>50.152609</td>\n",
       "    </tr>\n",
       "    <tr>\n",
       "      <th>SP350-r1</th>\n",
       "      <td>278.266173</td>\n",
       "      <td>dgfp_dt</td>\n",
       "      <td>161.715406</td>\n",
       "      <td>116.550767</td>\n",
       "    </tr>\n",
       "    <tr>\n",
       "      <th>SP350-r3</th>\n",
       "      <td>51.049123</td>\n",
       "      <td>dgfp_dt</td>\n",
       "      <td>161.715406</td>\n",
       "      <td>-110.666283</td>\n",
       "    </tr>\n",
       "    <tr>\n",
       "      <th>SP354-r1</th>\n",
       "      <td>69.047804</td>\n",
       "      <td>dgfp_dt</td>\n",
       "      <td>120.296245</td>\n",
       "      <td>-51.248441</td>\n",
       "    </tr>\n",
       "    <tr>\n",
       "      <th>SP354-r3</th>\n",
       "      <td>171.159184</td>\n",
       "      <td>dgfp_dt</td>\n",
       "      <td>120.296245</td>\n",
       "      <td>50.862939</td>\n",
       "    </tr>\n",
       "    <tr>\n",
       "      <th>SP365-r2</th>\n",
       "      <td>227.141780</td>\n",
       "      <td>dgfp_dt</td>\n",
       "      <td>180.436352</td>\n",
       "      <td>46.705428</td>\n",
       "    </tr>\n",
       "    <tr>\n",
       "      <th>SP380-r1</th>\n",
       "      <td>193.137657</td>\n",
       "      <td>dgfp_dt</td>\n",
       "      <td>144.095323</td>\n",
       "      <td>49.042334</td>\n",
       "    </tr>\n",
       "  </tbody>\n",
       "</table>\n",
       "</div>"
      ],
      "text/plain": [
       "                Value Measurement Type  Replicate Mean  Replicate Error\n",
       "Line Name                                                              \n",
       "SP224-r1    79.990664          dgfp_dt      123.932894       -43.942229\n",
       "SP224-r3   174.085502          dgfp_dt      123.932894        50.152609\n",
       "SP350-r1   278.266173          dgfp_dt      161.715406       116.550767\n",
       "SP350-r3    51.049123          dgfp_dt      161.715406      -110.666283\n",
       "SP354-r1    69.047804          dgfp_dt      120.296245       -51.248441\n",
       "SP354-r3   171.159184          dgfp_dt      120.296245        50.862939\n",
       "SP365-r2   227.141780          dgfp_dt      180.436352        46.705428\n",
       "SP380-r1   193.137657          dgfp_dt      144.095323        49.042334"
      ]
     },
     "metadata": {},
     "output_type": "display_data"
    }
   ],
   "source": [
    "noisy_line_name = utils.find_noisy_data(strains_art_oneh, measurement, percentile=99,plot_flag=False)"
   ]
  },
  {
   "cell_type": "code",
   "execution_count": 100,
   "metadata": {},
   "outputs": [
    {
     "data": {
      "text/html": [
       "\n",
       "Excluded 15 individual replicates from 5 strains:"
      ],
      "text/plain": [
       "<IPython.core.display.HTML object>"
      ]
     },
     "metadata": {},
     "output_type": "display_data"
    },
    {
     "data": {
      "text/html": [
       "<div>\n",
       "<style scoped>\n",
       "    .dataframe tbody tr th:only-of-type {\n",
       "        vertical-align: middle;\n",
       "    }\n",
       "\n",
       "    .dataframe tbody tr th {\n",
       "        vertical-align: top;\n",
       "    }\n",
       "\n",
       "    .dataframe thead th {\n",
       "        text-align: right;\n",
       "    }\n",
       "</style>\n",
       "<table border=\"1\" class=\"dataframe\">\n",
       "  <thead>\n",
       "    <tr style=\"text-align: right;\">\n",
       "      <th></th>\n",
       "      <th>Line Name</th>\n",
       "      <th>Measurement Type</th>\n",
       "      <th>Value</th>\n",
       "    </tr>\n",
       "  </thead>\n",
       "  <tbody>\n",
       "    <tr>\n",
       "      <th>10447</th>\n",
       "      <td>SP224-r1</td>\n",
       "      <td>dgfp_dt</td>\n",
       "      <td>79.990664</td>\n",
       "    </tr>\n",
       "    <tr>\n",
       "      <th>10478</th>\n",
       "      <td>SP224-r2</td>\n",
       "      <td>dgfp_dt</td>\n",
       "      <td>117.722515</td>\n",
       "    </tr>\n",
       "    <tr>\n",
       "      <th>10509</th>\n",
       "      <td>SP224-r3</td>\n",
       "      <td>dgfp_dt</td>\n",
       "      <td>174.085502</td>\n",
       "    </tr>\n",
       "    <tr>\n",
       "      <th>16275</th>\n",
       "      <td>SP350-r1</td>\n",
       "      <td>dgfp_dt</td>\n",
       "      <td>278.266173</td>\n",
       "    </tr>\n",
       "    <tr>\n",
       "      <th>16306</th>\n",
       "      <td>SP350-r2</td>\n",
       "      <td>dgfp_dt</td>\n",
       "      <td>155.830922</td>\n",
       "    </tr>\n",
       "    <tr>\n",
       "      <th>16337</th>\n",
       "      <td>SP350-r3</td>\n",
       "      <td>dgfp_dt</td>\n",
       "      <td>51.049123</td>\n",
       "    </tr>\n",
       "    <tr>\n",
       "      <th>16368</th>\n",
       "      <td>SP354-r1</td>\n",
       "      <td>dgfp_dt</td>\n",
       "      <td>69.047804</td>\n",
       "    </tr>\n",
       "    <tr>\n",
       "      <th>16399</th>\n",
       "      <td>SP354-r2</td>\n",
       "      <td>dgfp_dt</td>\n",
       "      <td>120.681747</td>\n",
       "    </tr>\n",
       "    <tr>\n",
       "      <th>16430</th>\n",
       "      <td>SP354-r3</td>\n",
       "      <td>dgfp_dt</td>\n",
       "      <td>171.159184</td>\n",
       "    </tr>\n",
       "    <tr>\n",
       "      <th>17112</th>\n",
       "      <td>SP365-r1</td>\n",
       "      <td>dgfp_dt</td>\n",
       "      <td>147.364666</td>\n",
       "    </tr>\n",
       "    <tr>\n",
       "      <th>17143</th>\n",
       "      <td>SP365-r2</td>\n",
       "      <td>dgfp_dt</td>\n",
       "      <td>227.141780</td>\n",
       "    </tr>\n",
       "    <tr>\n",
       "      <th>17174</th>\n",
       "      <td>SP365-r3</td>\n",
       "      <td>dgfp_dt</td>\n",
       "      <td>166.802611</td>\n",
       "    </tr>\n",
       "    <tr>\n",
       "      <th>18042</th>\n",
       "      <td>SP380-r1</td>\n",
       "      <td>dgfp_dt</td>\n",
       "      <td>193.137657</td>\n",
       "    </tr>\n",
       "    <tr>\n",
       "      <th>18073</th>\n",
       "      <td>SP380-r2</td>\n",
       "      <td>dgfp_dt</td>\n",
       "      <td>116.412802</td>\n",
       "    </tr>\n",
       "    <tr>\n",
       "      <th>18104</th>\n",
       "      <td>SP380-r3</td>\n",
       "      <td>dgfp_dt</td>\n",
       "      <td>122.735510</td>\n",
       "    </tr>\n",
       "  </tbody>\n",
       "</table>\n",
       "</div>"
      ],
      "text/plain": [
       "      Line Name Measurement Type       Value\n",
       "10447  SP224-r1          dgfp_dt   79.990664\n",
       "10478  SP224-r2          dgfp_dt  117.722515\n",
       "10509  SP224-r3          dgfp_dt  174.085502\n",
       "16275  SP350-r1          dgfp_dt  278.266173\n",
       "16306  SP350-r2          dgfp_dt  155.830922\n",
       "16337  SP350-r3          dgfp_dt   51.049123\n",
       "16368  SP354-r1          dgfp_dt   69.047804\n",
       "16399  SP354-r2          dgfp_dt  120.681747\n",
       "16430  SP354-r3          dgfp_dt  171.159184\n",
       "17112  SP365-r1          dgfp_dt  147.364666\n",
       "17143  SP365-r2          dgfp_dt  227.141780\n",
       "17174  SP365-r3          dgfp_dt  166.802611\n",
       "18042  SP380-r1          dgfp_dt  193.137657\n",
       "18073  SP380-r2          dgfp_dt  116.412802\n",
       "18104  SP380-r3          dgfp_dt  122.735510"
      ]
     },
     "metadata": {},
     "output_type": "display_data"
    }
   ],
   "source": [
    "strains_art_oneh_filtered = utils.filter_noisy_data(strains_art_oneh, noisy_line_name, measurement, filter_all_replicates=True,plot_flag=False)"
   ]
  },
  {
   "cell_type": "code",
   "execution_count": 101,
   "metadata": {},
   "outputs": [
    {
     "name": "stdout",
     "output_type": "stream",
     "text": [
      "The value that delimites the one percent most extreme errors is: 35.88\n"
     ]
    }
   ],
   "source": [
    "errors = utils.add_replicate_mean_and_error(strains_art_oneh, ['dgfp_dt'])['Replicate Error']\n",
    "limit = round(np.percentile(abs(errors), 99),2)\n",
    "print(\"The value that delimites the one percent most extreme errors is: {}\".format(limit))"
   ]
  },
  {
   "cell_type": "code",
   "execution_count": 102,
   "metadata": {},
   "outputs": [
    {
     "data": {
      "text/plain": [
       "20.956988877637936"
      ]
     },
     "execution_count": 102,
     "metadata": {},
     "output_type": "execute_result"
    }
   ],
   "source": [
    "errors.abs().mean()*2.5"
   ]
  },
  {
   "cell_type": "code",
   "execution_count": 103,
   "metadata": {},
   "outputs": [],
   "source": [
    "sns.set_context(\"talk\")\n",
    "sns.set_style(\"white\")"
   ]
  },
  {
   "cell_type": "code",
   "execution_count": 104,
   "metadata": {},
   "outputs": [
    {
     "name": "stderr",
     "output_type": "stream",
     "text": [
      "/usr/local/share/jupyteruser/.pyenv/versions/ART_3.6/lib/python3.6/site-packages/matplotlib/axes/_axes.py:6521: MatplotlibDeprecationWarning: \n",
      "The 'normed' kwarg was deprecated in Matplotlib 2.1 and will be removed in 3.1. Use 'density' instead.\n",
      "  alternative=\"'density'\", removal=\"3.1\")\n",
      "/usr/local/share/jupyteruser/.pyenv/versions/ART_3.6/lib/python3.6/site-packages/matplotlib/figure.py:2366: UserWarning: This figure includes Axes that are not compatible with tight_layout, so results might be incorrect.\n",
      "  warnings.warn(\"This figure includes Axes that are not compatible \"\n"
     ]
    },
    {
     "data": {
      "image/png": "[encoded data removed]",
      "text/plain": [
       "<Figure size 360x360 with 1 Axes>"
      ]
     },
     "metadata": {},
     "output_type": "display_data"
    }
   ],
   "source": [
    "fig, ax = plt.subplots(figsize=(5, 5))\n",
    "fig.set_tight_layout(True)\n",
    "sns.distplot(errors, ax=ax);\n",
    "ax.set_ylim(0, 0.05)\n",
    "ax.set_xlim(-130, 130)\n",
    "ax.set_ylabel('Frequency')\n",
    "ax.set_xlabel('Absolute difference')\n",
    "fig.savefig('./figures/Figure 4B.pdf')"
   ]
  },
  {
   "cell_type": "code",
   "execution_count": 105,
   "metadata": {},
   "outputs": [
    {
     "name": "stderr",
     "output_type": "stream",
     "text": [
      "/usr/local/share/jupyteruser/.pyenv/versions/ART_3.6/lib/python3.6/site-packages/matplotlib/axes/_axes.py:6521: MatplotlibDeprecationWarning: \n",
      "The 'normed' kwarg was deprecated in Matplotlib 2.1 and will be removed in 3.1. Use 'density' instead.\n",
      "  alternative=\"'density'\", removal=\"3.1\")\n",
      "/usr/local/share/jupyteruser/.pyenv/versions/ART_3.6/lib/python3.6/site-packages/matplotlib/font_manager.py:1241: UserWarning: findfont: Font family ['sans-serif'] not found. Falling back to DejaVu Sans.\n",
      "  (prop.get_family(), self.defaultFamily[fontext]))\n",
      "/usr/local/share/jupyteruser/.pyenv/versions/ART_3.6/lib/python3.6/site-packages/matplotlib/figure.py:2366: UserWarning: This figure includes Axes that are not compatible with tight_layout, so results might be incorrect.\n",
      "  warnings.warn(\"This figure includes Axes that are not compatible \"\n"
     ]
    },
    {
     "data": {
      "image/png": "[encoded data removed]",
      "text/plain": [
       "<Figure size 360x360 with 1 Axes>"
      ]
     },
     "metadata": {},
     "output_type": "display_data"
    }
   ],
   "source": [
    "fig, ax = plt.subplots(figsize=(5, 5))\n",
    "fig.set_tight_layout(True)\n",
    "sns.distplot(errors, ax=ax)\n",
    "ax.set_ylim(0, 0.005)\n",
    "ax.set_xlim(-130, 130)\n",
    "ax.axvline(x=limit, ymin=0, color='r', ls='--')\n",
    "ax.axvline(x=-limit, ymin=0, color='r', ls='--')\n",
    "ax.annotate(str(round(-limit, 2)), xy=(-limit-50, 0), xytext=(-limit-50, 0.002), color='r')\n",
    "ax.annotate(str(round(limit, 2)), xy=(limit+5, 0), xytext=(limit+5, 0.002), color='r')\n",
    "ax.set_xlabel('Absolute difference')\n",
    "fig.savefig('./figures/Figure 4C.pdf')"
   ]
  },
  {
   "cell_type": "code",
   "execution_count": 106,
   "metadata": {},
   "outputs": [],
   "source": [
    "### Running ART"
   ]
  },
  {
   "cell_type": "markdown",
   "metadata": {},
   "source": [
    "Assign ART parameters:"
   ]
  },
  {
   "cell_type": "code",
   "execution_count": 107,
   "metadata": {},
   "outputs": [],
   "source": [
    "art_params = {}\n",
    "art_params['response_var'] = measurement\n",
    "art_params['seed'] = 1234  # default: None\n",
    "art_params['num_models'] = 8\n",
    "art_params['num_recommendations'] = 30   \n",
    "art_params['cross_val'] = True\n",
    "art_params['input_var'] = colnames\n",
    "art_params['output_directory'] = 'results_onehot/'"
   ]
  },
  {
   "cell_type": "markdown",
   "metadata": {},
   "source": [
    "Run ART with seed or load previously run model."
   ]
  },
  {
   "cell_type": "code",
   "execution_count": 108,
   "metadata": {},
   "outputs": [],
   "source": [
    "run_art = False"
   ]
  },
  {
   "cell_type": "code",
   "execution_count": 109,
   "metadata": {},
   "outputs": [
    {
     "name": "stdout",
     "output_type": "stream",
     "text": [
      "CPU times: user 204 ms, sys: 204 ms, total: 408 ms\n",
      "Wall time: 15.6 s\n"
     ]
    }
   ],
   "source": [
    "%%time\n",
    "if run_art:\n",
    "    art = RecommendationEngine(strains_art_oneh_filtered, **art_params)\n",
    "else:\n",
    "    with open('results_onehot/art.pkl', 'rb') as output:\n",
    "        art = pickle.load(output)"
   ]
  },
  {
   "cell_type": "code",
   "execution_count": 110,
   "metadata": {},
   "outputs": [],
   "source": [
    "# art.input_var = art.independent_var\n",
    "# art.response_var = art.dependent_var\n",
    "# art.num_input_var = art.num_indep_var\n",
    "# art.num_response_var = art.num_dep_var\n",
    "# art.df = art.df.rename(columns={'Independent Variables': 'Input Variables',\n",
    "#                              'Dependent Variables': 'Response Variables'})\n"
   ]
  },
  {
   "cell_type": "markdown",
   "metadata": {},
   "source": [
    "Evaluate individual ensemble models"
   ]
  },
  {
   "cell_type": "code",
   "execution_count": 111,
   "metadata": {},
   "outputs": [
    {
     "data": {
      "text/html": [
       "<div>\n",
       "<style scoped>\n",
       "    .dataframe tbody tr th:only-of-type {\n",
       "        vertical-align: middle;\n",
       "    }\n",
       "\n",
       "    .dataframe tbody tr th {\n",
       "        vertical-align: top;\n",
       "    }\n",
       "\n",
       "    .dataframe thead th {\n",
       "        text-align: right;\n",
       "    }\n",
       "</style>\n",
       "<table border=\"1\" class=\"dataframe\">\n",
       "  <thead>\n",
       "    <tr style=\"text-align: right;\">\n",
       "      <th></th>\n",
       "      <th>MAE</th>\n",
       "      <th>MRAE(%)</th>\n",
       "      <th>StdAE</th>\n",
       "      <th>MSE</th>\n",
       "      <th>$R^2$</th>\n",
       "    </tr>\n",
       "    <tr>\n",
       "      <th>Name</th>\n",
       "      <th></th>\n",
       "      <th></th>\n",
       "      <th></th>\n",
       "      <th></th>\n",
       "      <th></th>\n",
       "    </tr>\n",
       "  </thead>\n",
       "  <tbody>\n",
       "    <tr>\n",
       "      <th>Neural Regressor</th>\n",
       "      <td>28.138447</td>\n",
       "      <td>20.361717</td>\n",
       "      <td>23.362420</td>\n",
       "      <td>1337.574858</td>\n",
       "      <td>0.280271</td>\n",
       "    </tr>\n",
       "    <tr>\n",
       "      <th>Random Forest Regressor</th>\n",
       "      <td>22.179447</td>\n",
       "      <td>16.572849</td>\n",
       "      <td>20.586204</td>\n",
       "      <td>915.719671</td>\n",
       "      <td>0.507265</td>\n",
       "    </tr>\n",
       "    <tr>\n",
       "      <th>TPOT Regressor</th>\n",
       "      <td>22.129173</td>\n",
       "      <td>16.830512</td>\n",
       "      <td>18.869021</td>\n",
       "      <td>845.740245</td>\n",
       "      <td>0.544920</td>\n",
       "    </tr>\n",
       "    <tr>\n",
       "      <th>Support Vector Regressor</th>\n",
       "      <td>31.538757</td>\n",
       "      <td>25.082998</td>\n",
       "      <td>23.121450</td>\n",
       "      <td>1529.294651</td>\n",
       "      <td>0.177109</td>\n",
       "    </tr>\n",
       "    <tr>\n",
       "      <th>Kernel Ridge Regressor</th>\n",
       "      <td>67.255258</td>\n",
       "      <td>40.803989</td>\n",
       "      <td>48.364739</td>\n",
       "      <td>6862.417693</td>\n",
       "      <td>-2.692567</td>\n",
       "    </tr>\n",
       "    <tr>\n",
       "      <th>K-NN Regressor</th>\n",
       "      <td>30.869251</td>\n",
       "      <td>22.341597</td>\n",
       "      <td>24.013975</td>\n",
       "      <td>1529.581659</td>\n",
       "      <td>0.176954</td>\n",
       "    </tr>\n",
       "    <tr>\n",
       "      <th>Gaussian Process Regressor</th>\n",
       "      <td>24.741041</td>\n",
       "      <td>18.732631</td>\n",
       "      <td>20.313311</td>\n",
       "      <td>1024.749716</td>\n",
       "      <td>0.448597</td>\n",
       "    </tr>\n",
       "    <tr>\n",
       "      <th>Gradient Boosting Regressor</th>\n",
       "      <td>23.318813</td>\n",
       "      <td>17.875105</td>\n",
       "      <td>20.019813</td>\n",
       "      <td>944.559977</td>\n",
       "      <td>0.491746</td>\n",
       "    </tr>\n",
       "    <tr>\n",
       "      <th>Ensemble Model</th>\n",
       "      <td>21.375663</td>\n",
       "      <td>16.256596</td>\n",
       "      <td>18.653554</td>\n",
       "      <td>804.874046</td>\n",
       "      <td>0.566909</td>\n",
       "    </tr>\n",
       "  </tbody>\n",
       "</table>\n",
       "</div>"
      ],
      "text/plain": [
       "                                   MAE    MRAE(%)      StdAE          MSE  \\\n",
       "Name                                                                        \n",
       "Neural Regressor             28.138447  20.361717  23.362420  1337.574858   \n",
       "Random Forest Regressor      22.179447  16.572849  20.586204   915.719671   \n",
       "TPOT Regressor               22.129173  16.830512  18.869021   845.740245   \n",
       "Support Vector Regressor     31.538757  25.082998  23.121450  1529.294651   \n",
       "Kernel Ridge Regressor       67.255258  40.803989  48.364739  6862.417693   \n",
       "K-NN Regressor               30.869251  22.341597  24.013975  1529.581659   \n",
       "Gaussian Process Regressor   24.741041  18.732631  20.313311  1024.749716   \n",
       "Gradient Boosting Regressor  23.318813  17.875105  20.019813   944.559977   \n",
       "Ensemble Model               21.375663  16.256596  18.653554   804.874046   \n",
       "\n",
       "                                $R^2$  \n",
       "Name                                   \n",
       "Neural Regressor             0.280271  \n",
       "Random Forest Regressor      0.507265  \n",
       "TPOT Regressor               0.544920  \n",
       "Support Vector Regressor     0.177109  \n",
       "Kernel Ridge Regressor      -2.692567  \n",
       "K-NN Regressor               0.176954  \n",
       "Gaussian Process Regressor   0.448597  \n",
       "Gradient Boosting Regressor  0.491746  \n",
       "Ensemble Model               0.566909  "
      ]
     },
     "metadata": {},
     "output_type": "display_data"
    }
   ],
   "source": [
    "art.evaluate_models_cv()"
   ]
  },
  {
   "cell_type": "markdown",
   "metadata": {},
   "source": [
    "The crossvalidated MAE and R2 values for the ensemble model is 21.4 and 0.57, respectively"
   ]
  },
  {
   "cell_type": "markdown",
   "metadata": {},
   "source": [
    "Crossvalidated ensemble prediction compared to observations of mean productivity of library and control strains "
   ]
  },
  {
   "cell_type": "code",
   "execution_count": 112,
   "metadata": {},
   "outputs": [
    {
     "data": {
      "image/png": "[encoded data removed]",
      "text/plain": [
       "<Figure size 504x504 with 1 Axes>"
      ]
     },
     "metadata": {},
     "output_type": "display_data"
    }
   ],
   "source": [
    "plot.predictions_vs_observations(art, cv_flag=True, errorbars_flag=False, xlim=[[0, 300]], ylim=[[0, 300]], log=False)"
   ]
  },
  {
   "cell_type": "markdown",
   "metadata": {},
   "source": [
    "Ensemble prediction compared to observations of mean productivity of library and control strains "
   ]
  },
  {
   "cell_type": "code",
   "execution_count": 113,
   "metadata": {},
   "outputs": [
    {
     "data": {
      "image/png": "[encoded data removed]",
      "text/plain": [
       "<Figure size 504x504 with 1 Axes>"
      ]
     },
     "metadata": {},
     "output_type": "display_data"
    }
   ],
   "source": [
    "plot.predictions_vs_observations(art, cv_flag=False, errorbars_flag=False, xlim=[[0, 300]], ylim=[[0, 300]], log=False)"
   ]
  },
  {
   "cell_type": "markdown",
   "metadata": {},
   "source": [
    "### Learning curves"
   ]
  },
  {
   "cell_type": "markdown",
   "metadata": {},
   "source": [
    "10 cross-validation runs were performed in parallel running the script `learning_curves_per_set_size.py` with arguments `run_number` and `set_index` (between 0 and 14 for a total of 15 cases). The results were stored in"
   ]
  },
  {
   "cell_type": "code",
   "execution_count": 114,
   "metadata": {},
   "outputs": [],
   "source": [
    "output_directory = './results_onehot/learning_curves/'"
   ]
  },
  {
   "cell_type": "markdown",
   "metadata": {
    "toc-hr-collapsed": true
   },
   "source": [
    "Importing results"
   ]
  },
  {
   "cell_type": "code",
   "execution_count": 115,
   "metadata": {},
   "outputs": [],
   "source": [
    "num_runs = 10\n",
    "metrics_all = {}\n",
    "for run in range(num_runs):\n",
    "    filename = f'{output_directory}/metrics_train_test_{run+1}.pkl'\n",
    "    with open(filename, 'rb') as f:\n",
    "        metrics_all[run] = pickle.load(f)  "
   ]
  },
  {
   "cell_type": "markdown",
   "metadata": {},
   "source": [
    "Define plot function"
   ]
  },
  {
   "cell_type": "code",
   "execution_count": 116,
   "metadata": {},
   "outputs": [],
   "source": [
    "def plot_learning_curves(metrics_all, metric_str, xlim=None, ylim=None):\n",
    "    \n",
    "    set_sizes = np.array([10,  28,  46,  64,  82, 100, 118, 136, 154, 172, 190, 208, 226, 244, 261])\n",
    "    num_cases = len(set_sizes)\n",
    "    \n",
    "    metric = np.array([metrics_all[run]['Train'][metric_str][0] \n",
    "                       for run in range(num_runs)]).reshape(-1,num_cases)  # reshape (num_runs, num_folds, num_cases) to (num_runs*num_folds, num_cases) \n",
    "    metric_train_mean = np.mean(metric,0)\n",
    "    metric_train_std = np.std(metric,0)\n",
    "    \n",
    "    metric = np.array([metrics_all[run]['Test'][metric_str][0] \n",
    "                       for run in range(num_runs)]).reshape(-1,num_cases)\n",
    "    metric_test_mean = np.mean(metric,0)\n",
    "    metric_test_std = np.std(metric,0)\n",
    "    \n",
    "    conf_int_factor = 1.96\n",
    "    \n",
    "    fig, ax = plt.subplots(figsize=(5, 5))\n",
    "    fig.set_tight_layout(True)\n",
    "    plt.plot(set_sizes, metric_test_mean, '.-', color='r',label='Test')\n",
    "    plt.fill_between(set_sizes, metric_test_mean-conf_int_factor*metric_test_std, \n",
    "                     metric_test_mean+conf_int_factor*metric_test_std, alpha=0.1, facecolor='r')\n",
    "    plt.plot(set_sizes, metric_train_mean, '.-', color='b',label='Train')\n",
    "    plt.fill_between(set_sizes, metric_train_mean-conf_int_factor*metric_train_std, \n",
    "                     metric_train_mean+conf_int_factor*metric_train_std, alpha=0.1, facecolor='b')\n",
    "    \n",
    "    plt.legend(loc='best', shadow=True)\n",
    "\n",
    "    plt.xlabel(\"Number of genotypes in the data set\")\n",
    "    plt.ylabel(metric_str + ', MFI/h')\n",
    "    if xlim is not None:\n",
    "        plt.xlim(xlim)\n",
    "    if ylim is not None:\n",
    "        plt.ylim(ylim)\n",
    "    \n",
    "    fig.savefig(output_directory + '/learning_curves_' + metric_str + '.png')\n",
    "    if metric_str == 'MAE':\n",
    "        fig.savefig('./figures/Figure 5A.pdf')"
   ]
  },
  {
   "cell_type": "markdown",
   "metadata": {},
   "source": [
    "Plot"
   ]
  },
  {
   "cell_type": "code",
   "execution_count": 117,
   "metadata": {},
   "outputs": [
    {
     "name": "stderr",
     "output_type": "stream",
     "text": [
      "/usr/local/share/jupyteruser/.pyenv/versions/ART_3.6/lib/python3.6/site-packages/matplotlib/figure.py:2366: UserWarning: This figure includes Axes that are not compatible with tight_layout, so results might be incorrect.\n",
      "  warnings.warn(\"This figure includes Axes that are not compatible \"\n"
     ]
    },
    {
     "data": {
      "image/png": "[encoded data removed]",
      "text/plain": [
       "<Figure size 360x360 with 1 Axes>"
      ]
     },
     "metadata": {},
     "output_type": "display_data"
    }
   ],
   "source": [
    "sns.set_context(\"talk\")\n",
    "sns.set_style(\"white\")\n",
    "plot_learning_curves(metrics_all, 'MAE', [0,250],[-10,90])"
   ]
  },
  {
   "cell_type": "markdown",
   "metadata": {},
   "source": [
    "### Add predictions to main datastructure"
   ]
  },
  {
   "cell_type": "code",
   "execution_count": 118,
   "metadata": {},
   "outputs": [
    {
     "data": {
      "text/html": [
       "<div>\n",
       "<style scoped>\n",
       "    .dataframe tbody tr th:only-of-type {\n",
       "        vertical-align: middle;\n",
       "    }\n",
       "\n",
       "    .dataframe tbody tr th {\n",
       "        vertical-align: top;\n",
       "    }\n",
       "\n",
       "    .dataframe thead th {\n",
       "        text-align: right;\n",
       "    }\n",
       "</style>\n",
       "<table border=\"1\" class=\"dataframe\">\n",
       "  <thead>\n",
       "    <tr style=\"text-align: right;\">\n",
       "      <th></th>\n",
       "      <th>Line Name</th>\n",
       "      <th>prediction_JBEI</th>\n",
       "      <th>cv_prediction_JBEI</th>\n",
       "      <th>replicate_count</th>\n",
       "    </tr>\n",
       "  </thead>\n",
       "  <tbody>\n",
       "    <tr>\n",
       "      <th>0</th>\n",
       "      <td>SP003</td>\n",
       "      <td>115.822737</td>\n",
       "      <td>123.064033</td>\n",
       "      <td>r1</td>\n",
       "    </tr>\n",
       "    <tr>\n",
       "      <th>1</th>\n",
       "      <td>SP003</td>\n",
       "      <td>115.822737</td>\n",
       "      <td>123.064033</td>\n",
       "      <td>r2</td>\n",
       "    </tr>\n",
       "    <tr>\n",
       "      <th>2</th>\n",
       "      <td>SP003</td>\n",
       "      <td>115.822737</td>\n",
       "      <td>123.064033</td>\n",
       "      <td>r3</td>\n",
       "    </tr>\n",
       "    <tr>\n",
       "      <th>3</th>\n",
       "      <td>SP004</td>\n",
       "      <td>151.020196</td>\n",
       "      <td>152.445841</td>\n",
       "      <td>r1</td>\n",
       "    </tr>\n",
       "    <tr>\n",
       "      <th>4</th>\n",
       "      <td>SP004</td>\n",
       "      <td>151.020196</td>\n",
       "      <td>152.445841</td>\n",
       "      <td>r2</td>\n",
       "    </tr>\n",
       "  </tbody>\n",
       "</table>\n",
       "</div>"
      ],
      "text/plain": [
       "  Line Name  prediction_JBEI  cv_prediction_JBEI replicate_count\n",
       "0     SP003       115.822737          123.064033              r1\n",
       "1     SP003       115.822737          123.064033              r2\n",
       "2     SP003       115.822737          123.064033              r3\n",
       "3     SP004       151.020196          152.445841              r1\n",
       "4     SP004       151.020196          152.445841              r2"
      ]
     },
     "execution_count": 118,
     "metadata": {},
     "output_type": "execute_result"
    }
   ],
   "source": [
    "cv_prediction      = np.array(art.model_df_cv[0]['Predictions']['Ensemble Model'])\n",
    "predicted_mean, predicted_std = art.post_pred_stats(art.load_input_data(scale=False))\n",
    "jbei_library_pred_df    = pd.DataFrame({'Line Name' : strains_art_oneh_filtered['Line Name'].unique(),'prediction_JBEI' : predicted_mean.squeeze(), 'cv_prediction_JBEI' : cv_prediction})\n",
    "jbei_library_pred_df['Line Name'], jbei_library_pred_df['replicate_count'] = jbei_library_pred_df['Line Name'].str.split('-', 1).str\n",
    "jbei_library_pred_df.head()"
   ]
  },
  {
   "cell_type": "code",
   "execution_count": 119,
   "metadata": {},
   "outputs": [
    {
     "data": {
      "text/html": [
       "<div>\n",
       "<style scoped>\n",
       "    .dataframe tbody tr th:only-of-type {\n",
       "        vertical-align: middle;\n",
       "    }\n",
       "\n",
       "    .dataframe tbody tr th {\n",
       "        vertical-align: top;\n",
       "    }\n",
       "\n",
       "    .dataframe thead th {\n",
       "        text-align: right;\n",
       "    }\n",
       "</style>\n",
       "<table border=\"1\" class=\"dataframe\">\n",
       "  <thead>\n",
       "    <tr style=\"text-align: right;\">\n",
       "      <th></th>\n",
       "      <th>Line Name</th>\n",
       "      <th>replicate_count</th>\n",
       "      <th>Line Description</th>\n",
       "      <th>origin</th>\n",
       "      <th>time_series</th>\n",
       "      <th>p1</th>\n",
       "      <th>p2</th>\n",
       "      <th>p3</th>\n",
       "      <th>p4</th>\n",
       "      <th>p5</th>\n",
       "      <th>...</th>\n",
       "      <th>gfp_t_r_od_max</th>\n",
       "      <th>gfp_p_od_t_od_t1</th>\n",
       "      <th>gfp_p_od_t_od_t2</th>\n",
       "      <th>gfp_p_od_t_r_od_max</th>\n",
       "      <th>delta_t</th>\n",
       "      <th>delta_od</th>\n",
       "      <th>delta_gfp</th>\n",
       "      <th>dgfp_dt</th>\n",
       "      <th>prediction_JBEI</th>\n",
       "      <th>cv_prediction_JBEI</th>\n",
       "    </tr>\n",
       "  </thead>\n",
       "  <tbody>\n",
       "    <tr>\n",
       "      <th>0</th>\n",
       "      <td>SP003</td>\n",
       "      <td>r1</td>\n",
       "      <td>02_11_13_24_29</td>\n",
       "      <td>lib</td>\n",
       "      <td>time     gfp     od  od_minus_bg  gfp...</td>\n",
       "      <td>2.0</td>\n",
       "      <td>11.0</td>\n",
       "      <td>13.0</td>\n",
       "      <td>24.0</td>\n",
       "      <td>29.0</td>\n",
       "      <td>...</td>\n",
       "      <td>1311.71591435308</td>\n",
       "      <td>4699.659395980494</td>\n",
       "      <td>4763.715841111394</td>\n",
       "      <td>1429.734827125743</td>\n",
       "      <td>3.72</td>\n",
       "      <td>0.074807</td>\n",
       "      <td>369.117832</td>\n",
       "      <td>99.225224</td>\n",
       "      <td>115.822737</td>\n",
       "      <td>123.064033</td>\n",
       "    </tr>\n",
       "    <tr>\n",
       "      <th>1</th>\n",
       "      <td>SP003</td>\n",
       "      <td>r2</td>\n",
       "      <td>02_11_13_24_29</td>\n",
       "      <td>lib</td>\n",
       "      <td>time     gfp     od  od_minus_bg  gfp...</td>\n",
       "      <td>2.0</td>\n",
       "      <td>11.0</td>\n",
       "      <td>13.0</td>\n",
       "      <td>24.0</td>\n",
       "      <td>29.0</td>\n",
       "      <td>...</td>\n",
       "      <td>1405.4869644164728</td>\n",
       "      <td>5034.872338696571</td>\n",
       "      <td>4816.526405891368</td>\n",
       "      <td>3016.7901853077365</td>\n",
       "      <td>3.16</td>\n",
       "      <td>0.075211</td>\n",
       "      <td>339.215794</td>\n",
       "      <td>107.346770</td>\n",
       "      <td>115.822737</td>\n",
       "      <td>123.064033</td>\n",
       "    </tr>\n",
       "    <tr>\n",
       "      <th>2</th>\n",
       "      <td>SP003</td>\n",
       "      <td>r3</td>\n",
       "      <td>02_11_13_24_29</td>\n",
       "      <td>lib</td>\n",
       "      <td>time     gfp      od  od_minus_bg  gf...</td>\n",
       "      <td>2.0</td>\n",
       "      <td>11.0</td>\n",
       "      <td>13.0</td>\n",
       "      <td>24.0</td>\n",
       "      <td>29.0</td>\n",
       "      <td>...</td>\n",
       "      <td>1575.123819879755</td>\n",
       "      <td>7741.328071276553</td>\n",
       "      <td>5929.480569764345</td>\n",
       "      <td>2466.220469271193</td>\n",
       "      <td>2.85</td>\n",
       "      <td>0.075353</td>\n",
       "      <td>312.086877</td>\n",
       "      <td>109.504167</td>\n",
       "      <td>115.822737</td>\n",
       "      <td>123.064033</td>\n",
       "    </tr>\n",
       "    <tr>\n",
       "      <th>3</th>\n",
       "      <td>SP004</td>\n",
       "      <td>r1</td>\n",
       "      <td>02_11_13_19_25</td>\n",
       "      <td>lib</td>\n",
       "      <td>time     gfp     od  od_minus_bg  gfp...</td>\n",
       "      <td>2.0</td>\n",
       "      <td>11.0</td>\n",
       "      <td>13.0</td>\n",
       "      <td>19.0</td>\n",
       "      <td>25.0</td>\n",
       "      <td>...</td>\n",
       "      <td>1710.197181761548</td>\n",
       "      <td>5225.70568448656</td>\n",
       "      <td>5313.995119067842</td>\n",
       "      <td>2184.660960653404</td>\n",
       "      <td>2.42</td>\n",
       "      <td>0.074935</td>\n",
       "      <td>410.988174</td>\n",
       "      <td>169.829824</td>\n",
       "      <td>151.020196</td>\n",
       "      <td>152.445841</td>\n",
       "    </tr>\n",
       "    <tr>\n",
       "      <th>4</th>\n",
       "      <td>SP004</td>\n",
       "      <td>r2</td>\n",
       "      <td>02_11_13_19_25</td>\n",
       "      <td>lib</td>\n",
       "      <td>time     gfp     od  od_minus_bg  gfp...</td>\n",
       "      <td>2.0</td>\n",
       "      <td>11.0</td>\n",
       "      <td>13.0</td>\n",
       "      <td>19.0</td>\n",
       "      <td>25.0</td>\n",
       "      <td>...</td>\n",
       "      <td>1668.7570441848184</td>\n",
       "      <td>5061.435288793469</td>\n",
       "      <td>4936.929300380902</td>\n",
       "      <td>2694.832956446529</td>\n",
       "      <td>2.28</td>\n",
       "      <td>0.075204</td>\n",
       "      <td>354.371179</td>\n",
       "      <td>155.425955</td>\n",
       "      <td>151.020196</td>\n",
       "      <td>152.445841</td>\n",
       "    </tr>\n",
       "  </tbody>\n",
       "</table>\n",
       "<p>5 rows × 34 columns</p>\n",
       "</div>"
      ],
      "text/plain": [
       "  Line Name replicate_count Line Description origin  \\\n",
       "0     SP003              r1   02_11_13_24_29    lib   \n",
       "1     SP003              r2   02_11_13_24_29    lib   \n",
       "2     SP003              r3   02_11_13_24_29    lib   \n",
       "3     SP004              r1   02_11_13_19_25    lib   \n",
       "4     SP004              r2   02_11_13_19_25    lib   \n",
       "\n",
       "                                         time_series   p1    p2    p3    p4  \\\n",
       "0           time     gfp     od  od_minus_bg  gfp...  2.0  11.0  13.0  24.0   \n",
       "1           time     gfp     od  od_minus_bg  gfp...  2.0  11.0  13.0  24.0   \n",
       "2           time     gfp      od  od_minus_bg  gf...  2.0  11.0  13.0  24.0   \n",
       "3           time     gfp     od  od_minus_bg  gfp...  2.0  11.0  13.0  19.0   \n",
       "4           time     gfp     od  od_minus_bg  gfp...  2.0  11.0  13.0  19.0   \n",
       "\n",
       "     p5        ...              gfp_t_r_od_max   gfp_p_od_t_od_t1  \\\n",
       "0  29.0        ...            1311.71591435308  4699.659395980494   \n",
       "1  29.0        ...          1405.4869644164728  5034.872338696571   \n",
       "2  29.0        ...           1575.123819879755  7741.328071276553   \n",
       "3  25.0        ...           1710.197181761548   5225.70568448656   \n",
       "4  25.0        ...          1668.7570441848184  5061.435288793469   \n",
       "\n",
       "    gfp_p_od_t_od_t2 gfp_p_od_t_r_od_max delta_t  delta_od   delta_gfp  \\\n",
       "0  4763.715841111394   1429.734827125743    3.72  0.074807  369.117832   \n",
       "1  4816.526405891368  3016.7901853077365    3.16  0.075211  339.215794   \n",
       "2  5929.480569764345   2466.220469271193    2.85  0.075353  312.086877   \n",
       "3  5313.995119067842   2184.660960653404    2.42  0.074935  410.988174   \n",
       "4  4936.929300380902   2694.832956446529    2.28  0.075204  354.371179   \n",
       "\n",
       "      dgfp_dt  prediction_JBEI cv_prediction_JBEI  \n",
       "0   99.225224       115.822737         123.064033  \n",
       "1  107.346770       115.822737         123.064033  \n",
       "2  109.504167       115.822737         123.064033  \n",
       "3  169.829824       151.020196         152.445841  \n",
       "4  155.425955       151.020196         152.445841  \n",
       "\n",
       "[5 rows x 34 columns]"
      ]
     },
     "execution_count": 119,
     "metadata": {},
     "output_type": "execute_result"
    }
   ],
   "source": [
    "strains = pd.merge(strains, jbei_library_pred_df,  how='left', left_on=['Line Name', 'replicate_count'], right_on = ['Line Name', 'replicate_count'])\n",
    "strains.head()"
   ]
  },
  {
   "cell_type": "markdown",
   "metadata": {},
   "source": [
    "### Recommend new designs"
   ]
  },
  {
   "cell_type": "markdown",
   "metadata": {},
   "source": [
    "Create the set of all possible designs:"
   ]
  },
  {
   "cell_type": "code",
   "execution_count": 120,
   "metadata": {},
   "outputs": [
    {
     "data": {
      "text/plain": [
       "7776"
      ]
     },
     "execution_count": 120,
     "metadata": {},
     "output_type": "execute_result"
    }
   ],
   "source": [
    "num_of_promoters = 6\n",
    "num_of_genes = 5\n",
    "num_of_designs = num_of_promoters**num_of_genes\n",
    "num_of_promoters_onehot = art.num_input_var\n",
    "designs = np.zeros((num_of_designs, num_of_promoters_onehot))\n",
    "num_of_designs"
   ]
  },
  {
   "cell_type": "code",
   "execution_count": 121,
   "metadata": {},
   "outputs": [
    {
     "data": {
      "text/plain": [
       "array([[1., 0., 0., 0., 0., 0., 1., 0., 0., 0., 0., 0., 1., 0., 0., 0.,\n",
       "        0., 0., 1., 0., 0., 0., 0., 0., 1., 0., 0., 0., 0., 0.],\n",
       "       [1., 0., 0., 0., 0., 0., 1., 0., 0., 0., 0., 0., 1., 0., 0., 0.,\n",
       "        0., 0., 1., 0., 0., 0., 0., 0., 0., 1., 0., 0., 0., 0.],\n",
       "       [1., 0., 0., 0., 0., 0., 1., 0., 0., 0., 0., 0., 1., 0., 0., 0.,\n",
       "        0., 0., 1., 0., 0., 0., 0., 0., 0., 0., 1., 0., 0., 0.],\n",
       "       [1., 0., 0., 0., 0., 0., 1., 0., 0., 0., 0., 0., 1., 0., 0., 0.,\n",
       "        0., 0., 1., 0., 0., 0., 0., 0., 0., 0., 0., 1., 0., 0.],\n",
       "       [1., 0., 0., 0., 0., 0., 1., 0., 0., 0., 0., 0., 1., 0., 0., 0.,\n",
       "        0., 0., 1., 0., 0., 0., 0., 0., 0., 0., 0., 0., 1., 0.]])"
      ]
     },
     "execution_count": 121,
     "metadata": {},
     "output_type": "execute_result"
    }
   ],
   "source": [
    "i = 0\n",
    "promoters = np.eye(6)\n",
    "\n",
    "for p1 in promoters:\n",
    "    for p2 in promoters:\n",
    "        for p3 in promoters:\n",
    "            for p4 in promoters:\n",
    "                for p5 in promoters:\n",
    "                    designs[i,:] = np.hstack((p1,p2,p3,p4,p5)).astype(int)\n",
    "                    i+=1\n",
    "                    \n",
    "designs[0:5,:]"
   ]
  },
  {
   "cell_type": "markdown",
   "metadata": {},
   "source": [
    "Calculate mean predicted production for all designs"
   ]
  },
  {
   "cell_type": "code",
   "execution_count": 122,
   "metadata": {},
   "outputs": [],
   "source": [
    "pp_mean, pp_std = art.post_pred_stats(designs)\n",
    "data = np.hstack((designs,pp_mean,pp_mean))"
   ]
  },
  {
   "cell_type": "markdown",
   "metadata": {},
   "source": [
    "Objective function is defined as the mean predicted production ie exploitation. The parameter for exploration is set to $\\alpha=0$. The relative engineering accuracy is set to one percent to make sure recommendations are different from the input data."
   ]
  },
  {
   "cell_type": "code",
   "execution_count": 123,
   "metadata": {},
   "outputs": [
    {
     "name": "stdout",
     "output_type": "stream",
     "text": [
      "Mean and standard deviation of the recommendation with the highest predicted production are: 242.42, 29.22\n"
     ]
    }
   ],
   "source": [
    "art.rel_eng_accuracy = 0.01\n",
    "art.recommend(data=data)\n",
    "ind_max = np.argmax(art.recommendations.values[:,-1])\n",
    "mean, std = art.post_pred_stats(art.recommendations.values[ind_max,:-1])\n",
    "print(f'Mean and standard deviation of the recommendation with the highest predicted production are: {mean[0][0]:.2f}, {std[0][0]:.2f}')"
   ]
  },
  {
   "cell_type": "markdown",
   "metadata": {},
   "source": [
    "Convert one-hot formatted variables back into categorical gene positions"
   ]
  },
  {
   "cell_type": "code",
   "execution_count": 124,
   "metadata": {},
   "outputs": [
    {
     "data": {
      "text/html": [
       "<div>\n",
       "<style scoped>\n",
       "    .dataframe tbody tr th:only-of-type {\n",
       "        vertical-align: middle;\n",
       "    }\n",
       "\n",
       "    .dataframe tbody tr th {\n",
       "        vertical-align: top;\n",
       "    }\n",
       "\n",
       "    .dataframe thead th {\n",
       "        text-align: right;\n",
       "    }\n",
       "</style>\n",
       "<table border=\"1\" class=\"dataframe\">\n",
       "  <thead>\n",
       "    <tr style=\"text-align: right;\">\n",
       "      <th></th>\n",
       "      <th>p1</th>\n",
       "      <th>p2</th>\n",
       "      <th>p3</th>\n",
       "      <th>p4</th>\n",
       "      <th>p5</th>\n",
       "      <th>dgfp_dt</th>\n",
       "    </tr>\n",
       "  </thead>\n",
       "  <tbody>\n",
       "    <tr>\n",
       "      <th>0</th>\n",
       "      <td>3</td>\n",
       "      <td>8</td>\n",
       "      <td>16</td>\n",
       "      <td>22</td>\n",
       "      <td>28</td>\n",
       "      <td>242.419</td>\n",
       "    </tr>\n",
       "    <tr>\n",
       "      <th>1</th>\n",
       "      <td>3</td>\n",
       "      <td>8</td>\n",
       "      <td>16</td>\n",
       "      <td>19</td>\n",
       "      <td>28</td>\n",
       "      <td>240.314</td>\n",
       "    </tr>\n",
       "    <tr>\n",
       "      <th>2</th>\n",
       "      <td>3</td>\n",
       "      <td>8</td>\n",
       "      <td>16</td>\n",
       "      <td>22</td>\n",
       "      <td>29</td>\n",
       "      <td>240.233</td>\n",
       "    </tr>\n",
       "    <tr>\n",
       "      <th>3</th>\n",
       "      <td>3</td>\n",
       "      <td>8</td>\n",
       "      <td>16</td>\n",
       "      <td>19</td>\n",
       "      <td>29</td>\n",
       "      <td>238.07</td>\n",
       "    </tr>\n",
       "    <tr>\n",
       "      <th>4</th>\n",
       "      <td>3</td>\n",
       "      <td>8</td>\n",
       "      <td>16</td>\n",
       "      <td>22</td>\n",
       "      <td>25</td>\n",
       "      <td>237.457</td>\n",
       "    </tr>\n",
       "  </tbody>\n",
       "</table>\n",
       "</div>"
      ],
      "text/plain": [
       "  p1 p2  p3  p4  p5  dgfp_dt\n",
       "0  3  8  16  22  28  242.419\n",
       "1  3  8  16  19  28  240.314\n",
       "2  3  8  16  22  29  240.233\n",
       "3  3  8  16  19  29   238.07\n",
       "4  3  8  16  22  25  237.457"
      ]
     },
     "execution_count": 124,
     "metadata": {},
     "output_type": "execute_result"
    }
   ],
   "source": [
    "df_rec_categ = pd.DataFrame(index=art.recommendations.index, columns=['p1','p2','p3','p4','p5',measurement[0]])\n",
    "for i in range(art.num_recommendations):\n",
    "    rec = art.recommendations.iloc[i][art.recommendations.values[i,:] > 0]\n",
    "    df_rec_categ.iloc[i]['p1':'p5'] = [int(float(p.split('_')[1])) for p in rec.index[:-1]]\n",
    "    df_rec_categ.iloc[i][measurement] = rec[measurement]\n",
    "df_rec_categ.head()"
   ]
  },
  {
   "cell_type": "markdown",
   "metadata": {
    "toc-hr-collapsed": false
   },
   "source": [
    "## Teselagen"
   ]
  },
  {
   "cell_type": "markdown",
   "metadata": {},
   "source": [
    "### Learning curves"
   ]
  },
  {
   "cell_type": "markdown",
   "metadata": {
    "toc-hr-collapsed": true
   },
   "source": [
    "Importing results"
   ]
  },
  {
   "cell_type": "code",
   "execution_count": 125,
   "metadata": {},
   "outputs": [
    {
     "data": {
      "text/html": [
       "<div>\n",
       "<style scoped>\n",
       "    .dataframe tbody tr th:only-of-type {\n",
       "        vertical-align: middle;\n",
       "    }\n",
       "\n",
       "    .dataframe tbody tr th {\n",
       "        vertical-align: top;\n",
       "    }\n",
       "\n",
       "    .dataframe thead th {\n",
       "        text-align: right;\n",
       "    }\n",
       "</style>\n",
       "<table border=\"1\" class=\"dataframe\">\n",
       "  <thead>\n",
       "    <tr style=\"text-align: right;\">\n",
       "      <th></th>\n",
       "      <th>exp</th>\n",
       "      <th>test_mae_avg</th>\n",
       "      <th>test_mae_std</th>\n",
       "      <th>test_r2_avg</th>\n",
       "      <th>test_r2_std</th>\n",
       "      <th>train_mae_avg</th>\n",
       "      <th>train_mae_std</th>\n",
       "      <th>train_r2_avg</th>\n",
       "      <th>train_r2_std</th>\n",
       "    </tr>\n",
       "  </thead>\n",
       "  <tbody>\n",
       "    <tr>\n",
       "      <th>9</th>\n",
       "      <td>172</td>\n",
       "      <td>22.973734</td>\n",
       "      <td>4.397415</td>\n",
       "      <td>0.394311</td>\n",
       "      <td>0.269267</td>\n",
       "      <td>10.022031</td>\n",
       "      <td>0.958162</td>\n",
       "      <td>0.905999</td>\n",
       "      <td>0.019202</td>\n",
       "    </tr>\n",
       "    <tr>\n",
       "      <th>10</th>\n",
       "      <td>190</td>\n",
       "      <td>23.131315</td>\n",
       "      <td>4.495760</td>\n",
       "      <td>0.434195</td>\n",
       "      <td>0.230873</td>\n",
       "      <td>10.712708</td>\n",
       "      <td>0.743214</td>\n",
       "      <td>0.894330</td>\n",
       "      <td>0.017340</td>\n",
       "    </tr>\n",
       "    <tr>\n",
       "      <th>11</th>\n",
       "      <td>208</td>\n",
       "      <td>22.742736</td>\n",
       "      <td>4.259884</td>\n",
       "      <td>0.416309</td>\n",
       "      <td>0.289164</td>\n",
       "      <td>10.097509</td>\n",
       "      <td>0.438831</td>\n",
       "      <td>0.905050</td>\n",
       "      <td>0.008457</td>\n",
       "    </tr>\n",
       "    <tr>\n",
       "      <th>12</th>\n",
       "      <td>227</td>\n",
       "      <td>22.738374</td>\n",
       "      <td>4.264699</td>\n",
       "      <td>0.449007</td>\n",
       "      <td>0.188481</td>\n",
       "      <td>10.614835</td>\n",
       "      <td>0.571654</td>\n",
       "      <td>0.896277</td>\n",
       "      <td>0.011916</td>\n",
       "    </tr>\n",
       "    <tr>\n",
       "      <th>13</th>\n",
       "      <td>246</td>\n",
       "      <td>22.372488</td>\n",
       "      <td>3.707472</td>\n",
       "      <td>0.440812</td>\n",
       "      <td>0.162934</td>\n",
       "      <td>10.615515</td>\n",
       "      <td>0.415947</td>\n",
       "      <td>0.896794</td>\n",
       "      <td>0.007010</td>\n",
       "    </tr>\n",
       "  </tbody>\n",
       "</table>\n",
       "</div>"
      ],
      "text/plain": [
       "    exp  test_mae_avg  test_mae_std  test_r2_avg  test_r2_std  train_mae_avg  \\\n",
       "9   172     22.973734      4.397415     0.394311     0.269267      10.022031   \n",
       "10  190     23.131315      4.495760     0.434195     0.230873      10.712708   \n",
       "11  208     22.742736      4.259884     0.416309     0.289164      10.097509   \n",
       "12  227     22.738374      4.264699     0.449007     0.188481      10.614835   \n",
       "13  246     22.372488      3.707472     0.440812     0.162934      10.615515   \n",
       "\n",
       "    train_mae_std  train_r2_avg  train_r2_std  \n",
       "9        0.958162      0.905999      0.019202  \n",
       "10       0.743214      0.894330      0.017340  \n",
       "11       0.438831      0.905050      0.008457  \n",
       "12       0.571654      0.896277      0.011916  \n",
       "13       0.415947      0.896794      0.007010  "
      ]
     },
     "execution_count": 125,
     "metadata": {},
     "output_type": "execute_result"
    }
   ],
   "source": [
    "metrics_all = pd.read_csv('teselagen_learning_curve_data.csv')\n",
    "metrics_all.tail()"
   ]
  },
  {
   "cell_type": "markdown",
   "metadata": {},
   "source": [
    "Define plot function"
   ]
  },
  {
   "cell_type": "code",
   "execution_count": 126,
   "metadata": {},
   "outputs": [],
   "source": [
    "def plot_learning_curves_tes(metric_all, metric_str, xlim=None, ylim=None):\n",
    "    \n",
    "    col_str_test_avg  = 'test_' + metric_str.lower()+'_avg'\n",
    "    col_str_test_std  = 'test_' + metric_str.lower()+'_std'\n",
    "    col_str_train_avg = 'train_' + metric_str.lower()+'_avg'\n",
    "    col_str_train_std = 'train_' + metric_str.lower()+'_std'\n",
    "    \n",
    "    set_sizes = metric_all.exp.values\n",
    "    metric_train_mean = metrics_all[col_str_train_avg].values\n",
    "    metric_train_std  = metrics_all[col_str_train_std].values\n",
    "    metric_test_mean  = metrics_all[col_str_test_avg].values\n",
    "    metric_test_std   = metrics_all[col_str_test_std].values\n",
    "    \n",
    "    conf_int_factor = 1.96\n",
    "    \n",
    "    fig, ax = plt.subplots(figsize=(5, 5))\n",
    "    fig.set_tight_layout(True)\n",
    "    plt.plot(set_sizes, metric_test_mean, '.-', color='r',label='Test')\n",
    "    plt.fill_between(set_sizes, metric_test_mean-conf_int_factor*metric_test_std, \n",
    "                     metric_test_mean+conf_int_factor*metric_test_std, alpha=0.1, facecolor='r')\n",
    "    plt.plot(set_sizes, metric_train_mean, '.-', color='b',label='Train')\n",
    "    plt.fill_between(set_sizes, metric_train_mean-conf_int_factor*metric_train_std, \n",
    "                     metric_train_mean+conf_int_factor*metric_train_std, alpha=0.1, facecolor='b')\n",
    "    \n",
    "    plt.legend(loc='best', shadow=True)\n",
    "    \n",
    "    #plt.title('Learning curves', fontsize=fontsize+2)\n",
    "    plt.xlabel(\"Number of genotypes in the data set\")\n",
    "    plt.ylabel(metric_str + ', MFI/h')\n",
    "    if xlim is not None:\n",
    "        plt.xlim(xlim)\n",
    "    if ylim is not None:\n",
    "        plt.ylim(ylim)\n",
    "    \n",
    "    fig.savefig(output_directory + '/learning_curves_' + metric_str + '_tes' + '.png')\n",
    "    if metric_str == 'MAE':\n",
    "        fig.savefig('./figures/Figure 5B.pdf')"
   ]
  },
  {
   "cell_type": "markdown",
   "metadata": {},
   "source": [
    "Plot"
   ]
  },
  {
   "cell_type": "code",
   "execution_count": 127,
   "metadata": {},
   "outputs": [
    {
     "name": "stderr",
     "output_type": "stream",
     "text": [
      "/usr/local/share/jupyteruser/.pyenv/versions/ART_3.6/lib/python3.6/site-packages/matplotlib/figure.py:2366: UserWarning: This figure includes Axes that are not compatible with tight_layout, so results might be incorrect.\n",
      "  warnings.warn(\"This figure includes Axes that are not compatible \"\n"
     ]
    },
    {
     "data": {
      "image/png": "[encoded data removed]",
      "text/plain": [
       "<Figure size 360x360 with 1 Axes>"
      ]
     },
     "metadata": {},
     "output_type": "display_data"
    }
   ],
   "source": [
    "sns.set_context(\"talk\")\n",
    "sns.set_style(\"white\")\n",
    "plot_learning_curves_tes(metrics_all,'MAE', [0,250], [-10,90])"
   ]
  },
  {
   "cell_type": "markdown",
   "metadata": {},
   "source": [
    "### Add predictions to main datastructure"
   ]
  },
  {
   "cell_type": "code",
   "execution_count": 128,
   "metadata": {},
   "outputs": [
    {
     "data": {
      "text/html": [
       "<div>\n",
       "<style scoped>\n",
       "    .dataframe tbody tr th:only-of-type {\n",
       "        vertical-align: middle;\n",
       "    }\n",
       "\n",
       "    .dataframe tbody tr th {\n",
       "        vertical-align: top;\n",
       "    }\n",
       "\n",
       "    .dataframe thead th {\n",
       "        text-align: right;\n",
       "    }\n",
       "</style>\n",
       "<table border=\"1\" class=\"dataframe\">\n",
       "  <thead>\n",
       "    <tr style=\"text-align: right;\">\n",
       "      <th></th>\n",
       "      <th>Line Name</th>\n",
       "      <th>cv_prediction_Tes</th>\n",
       "      <th>replicate_count</th>\n",
       "      <th>prediction_Tes</th>\n",
       "    </tr>\n",
       "  </thead>\n",
       "  <tbody>\n",
       "    <tr>\n",
       "      <th>0</th>\n",
       "      <td>SP003</td>\n",
       "      <td>131.711594</td>\n",
       "      <td>r1</td>\n",
       "      <td>NaN</td>\n",
       "    </tr>\n",
       "    <tr>\n",
       "      <th>1</th>\n",
       "      <td>SP003</td>\n",
       "      <td>131.711594</td>\n",
       "      <td>r2</td>\n",
       "      <td>NaN</td>\n",
       "    </tr>\n",
       "    <tr>\n",
       "      <th>2</th>\n",
       "      <td>SP003</td>\n",
       "      <td>131.711594</td>\n",
       "      <td>r3</td>\n",
       "      <td>NaN</td>\n",
       "    </tr>\n",
       "    <tr>\n",
       "      <th>3</th>\n",
       "      <td>SP004</td>\n",
       "      <td>164.302960</td>\n",
       "      <td>r1</td>\n",
       "      <td>NaN</td>\n",
       "    </tr>\n",
       "    <tr>\n",
       "      <th>4</th>\n",
       "      <td>SP004</td>\n",
       "      <td>164.302960</td>\n",
       "      <td>r2</td>\n",
       "      <td>NaN</td>\n",
       "    </tr>\n",
       "  </tbody>\n",
       "</table>\n",
       "</div>"
      ],
      "text/plain": [
       "  Line Name  cv_prediction_Tes replicate_count  prediction_Tes\n",
       "0     SP003         131.711594              r1             NaN\n",
       "1     SP003         131.711594              r2             NaN\n",
       "2     SP003         131.711594              r3             NaN\n",
       "3     SP004         164.302960              r1             NaN\n",
       "4     SP004         164.302960              r2             NaN"
      ]
     },
     "execution_count": 128,
     "metadata": {},
     "output_type": "execute_result"
    }
   ],
   "source": [
    "tes_library_pred_df = pd.read_csv('cv_predictions_tes.csv', usecols = ['Line Name', 'cv_prediction_Tes'])\n",
    "tes_library_pred_df['Line Name'], tes_library_pred_df['replicate_count'] = tes_library_pred_df['Line Name'].str.split('-', 1).str\n",
    "tes_library_pred_df['prediction_Tes'] = np.nan\n",
    "tes_library_pred_df.head()"
   ]
  },
  {
   "cell_type": "markdown",
   "metadata": {},
   "source": [
    "Join library_pred_df to strains"
   ]
  },
  {
   "cell_type": "code",
   "execution_count": 129,
   "metadata": {},
   "outputs": [],
   "source": [
    "strains = pd.merge(strains, tes_library_pred_df,  how='left', left_on=['Line Name', 'replicate_count'], right_on = ['Line Name', 'replicate_count'])"
   ]
  },
  {
   "cell_type": "markdown",
   "metadata": {
    "toc-hr-collapsed": true
   },
   "source": [
    "## Joining recommendation predictions data to main dataframe"
   ]
  },
  {
   "cell_type": "markdown",
   "metadata": {},
   "source": [
    "Import recommendations metadata incl. predicted values"
   ]
  },
  {
   "cell_type": "code",
   "execution_count": 130,
   "metadata": {},
   "outputs": [
    {
     "data": {
      "text/html": [
       "<div>\n",
       "<style scoped>\n",
       "    .dataframe tbody tr th:only-of-type {\n",
       "        vertical-align: middle;\n",
       "    }\n",
       "\n",
       "    .dataframe tbody tr th {\n",
       "        vertical-align: top;\n",
       "    }\n",
       "\n",
       "    .dataframe thead th {\n",
       "        text-align: right;\n",
       "    }\n",
       "</style>\n",
       "<table border=\"1\" class=\"dataframe\">\n",
       "  <thead>\n",
       "    <tr style=\"text-align: right;\">\n",
       "      <th></th>\n",
       "      <th>Line Name</th>\n",
       "      <th>prediction_JBEI</th>\n",
       "      <th>cv_prediction_JBEI</th>\n",
       "      <th>prediction_Tes</th>\n",
       "      <th>cv_prediction_Tes</th>\n",
       "      <th>From</th>\n",
       "    </tr>\n",
       "  </thead>\n",
       "  <tbody>\n",
       "    <tr>\n",
       "      <th>0</th>\n",
       "      <td>SP577</td>\n",
       "      <td>NaN</td>\n",
       "      <td>NaN</td>\n",
       "      <td>206.6</td>\n",
       "      <td>206.6</td>\n",
       "      <td>Tes</td>\n",
       "    </tr>\n",
       "    <tr>\n",
       "      <th>1</th>\n",
       "      <td>SP580</td>\n",
       "      <td>NaN</td>\n",
       "      <td>NaN</td>\n",
       "      <td>228.3</td>\n",
       "      <td>228.3</td>\n",
       "      <td>Tes</td>\n",
       "    </tr>\n",
       "    <tr>\n",
       "      <th>2</th>\n",
       "      <td>SP581</td>\n",
       "      <td>NaN</td>\n",
       "      <td>NaN</td>\n",
       "      <td>198.8</td>\n",
       "      <td>198.8</td>\n",
       "      <td>Tes</td>\n",
       "    </tr>\n",
       "    <tr>\n",
       "      <th>3</th>\n",
       "      <td>SP582</td>\n",
       "      <td>NaN</td>\n",
       "      <td>NaN</td>\n",
       "      <td>199.3</td>\n",
       "      <td>199.3</td>\n",
       "      <td>Tes</td>\n",
       "    </tr>\n",
       "    <tr>\n",
       "      <th>4</th>\n",
       "      <td>SP586</td>\n",
       "      <td>235.2</td>\n",
       "      <td>235.2</td>\n",
       "      <td>NaN</td>\n",
       "      <td>NaN</td>\n",
       "      <td>JBEI</td>\n",
       "    </tr>\n",
       "  </tbody>\n",
       "</table>\n",
       "</div>"
      ],
      "text/plain": [
       "  Line Name  prediction_JBEI  cv_prediction_JBEI  prediction_Tes  \\\n",
       "0     SP577              NaN                 NaN           206.6   \n",
       "1     SP580              NaN                 NaN           228.3   \n",
       "2     SP581              NaN                 NaN           198.8   \n",
       "3     SP582              NaN                 NaN           199.3   \n",
       "4     SP586            235.2               235.2             NaN   \n",
       "\n",
       "   cv_prediction_Tes  From  \n",
       "0              206.6   Tes  \n",
       "1              228.3   Tes  \n",
       "2              198.8   Tes  \n",
       "3              199.3   Tes  \n",
       "4                NaN  JBEI  "
      ]
     },
     "execution_count": 130,
     "metadata": {},
     "output_type": "execute_result"
    }
   ],
   "source": [
    "rec_lookup = pd.read_csv('./rec_lookup.csv', usecols=['Line Name', 'prediction_JBEI', 'cv_prediction_JBEI','prediction_Tes','cv_prediction_Tes','From'])\n",
    "rec_lookup.head()"
   ]
  },
  {
   "cell_type": "markdown",
   "metadata": {},
   "source": [
    "Combine with main dataframe"
   ]
  },
  {
   "cell_type": "code",
   "execution_count": 131,
   "metadata": {},
   "outputs": [],
   "source": [
    "cols = strains.columns\n",
    "strains = strains.set_index('Line Name').combine_first(rec_lookup.set_index('Line Name')).reset_index()\n",
    "strains = strains[cols]"
   ]
  },
  {
   "cell_type": "markdown",
   "metadata": {},
   "source": [
    "## Plot cross validated predictions compared with mean observations"
   ]
  },
  {
   "cell_type": "markdown",
   "metadata": {},
   "source": [
    "Create color scheme according to origin in main dataframe"
   ]
  },
  {
   "cell_type": "code",
   "execution_count": 132,
   "metadata": {},
   "outputs": [],
   "source": [
    "strains['coloring'] = strains['origin']\n",
    "di = {\"lib\": \"lightgrey\",\"ctr\": \"lightgrey\", \"JBEI\": \"blue\", \"Tes\": \"blue\", \"both\":'orange'}\n",
    "strains = strains.replace({\"coloring\": di})"
   ]
  },
  {
   "cell_type": "markdown",
   "metadata": {},
   "source": [
    "Include platform strain"
   ]
  },
  {
   "cell_type": "code",
   "execution_count": 133,
   "metadata": {},
   "outputs": [],
   "source": [
    "strains.loc[strains['Line Name'] == \"SP507\", ['coloring']] = 'green'"
   ]
  },
  {
   "cell_type": "markdown",
   "metadata": {},
   "source": [
    "Calculate mean productivity"
   ]
  },
  {
   "cell_type": "code",
   "execution_count": 134,
   "metadata": {},
   "outputs": [
    {
     "data": {
      "text/html": [
       "<div>\n",
       "<style scoped>\n",
       "    .dataframe tbody tr th:only-of-type {\n",
       "        vertical-align: middle;\n",
       "    }\n",
       "\n",
       "    .dataframe tbody tr th {\n",
       "        vertical-align: top;\n",
       "    }\n",
       "\n",
       "    .dataframe thead th {\n",
       "        text-align: right;\n",
       "    }\n",
       "</style>\n",
       "<table border=\"1\" class=\"dataframe\">\n",
       "  <thead>\n",
       "    <tr style=\"text-align: right;\">\n",
       "      <th></th>\n",
       "      <th>Line Name</th>\n",
       "      <th>dgfp_dt</th>\n",
       "      <th>Line Description</th>\n",
       "      <th>cv_prediction_JBEI</th>\n",
       "      <th>cv_prediction_Tes</th>\n",
       "      <th>coloring</th>\n",
       "    </tr>\n",
       "  </thead>\n",
       "  <tbody>\n",
       "    <tr>\n",
       "      <th>0</th>\n",
       "      <td>SP003</td>\n",
       "      <td>105.358720</td>\n",
       "      <td>02_11_13_24_29</td>\n",
       "      <td>123.064033</td>\n",
       "      <td>131.711594</td>\n",
       "      <td>lightgrey</td>\n",
       "    </tr>\n",
       "    <tr>\n",
       "      <th>1</th>\n",
       "      <td>SP004</td>\n",
       "      <td>159.715748</td>\n",
       "      <td>02_11_13_19_25</td>\n",
       "      <td>152.445841</td>\n",
       "      <td>164.302960</td>\n",
       "      <td>lightgrey</td>\n",
       "    </tr>\n",
       "    <tr>\n",
       "      <th>2</th>\n",
       "      <td>SP008</td>\n",
       "      <td>112.879576</td>\n",
       "      <td>02_11_15_22_25</td>\n",
       "      <td>119.881651</td>\n",
       "      <td>126.778616</td>\n",
       "      <td>lightgrey</td>\n",
       "    </tr>\n",
       "    <tr>\n",
       "      <th>3</th>\n",
       "      <td>SP011</td>\n",
       "      <td>160.998056</td>\n",
       "      <td>01_09_13_22_25</td>\n",
       "      <td>160.042845</td>\n",
       "      <td>174.021430</td>\n",
       "      <td>lightgrey</td>\n",
       "    </tr>\n",
       "    <tr>\n",
       "      <th>4</th>\n",
       "      <td>SP014</td>\n",
       "      <td>198.804384</td>\n",
       "      <td>05_09_13_22_25</td>\n",
       "      <td>181.815563</td>\n",
       "      <td>197.877406</td>\n",
       "      <td>lightgrey</td>\n",
       "    </tr>\n",
       "  </tbody>\n",
       "</table>\n",
       "</div>"
      ],
      "text/plain": [
       "  Line Name     dgfp_dt Line Description  cv_prediction_JBEI  \\\n",
       "0     SP003  105.358720   02_11_13_24_29          123.064033   \n",
       "1     SP004  159.715748   02_11_13_19_25          152.445841   \n",
       "2     SP008  112.879576   02_11_15_22_25          119.881651   \n",
       "3     SP011  160.998056   01_09_13_22_25          160.042845   \n",
       "4     SP014  198.804384   05_09_13_22_25          181.815563   \n",
       "\n",
       "   cv_prediction_Tes   coloring  \n",
       "0         131.711594  lightgrey  \n",
       "1         164.302960  lightgrey  \n",
       "2         126.778616  lightgrey  \n",
       "3         174.021430  lightgrey  \n",
       "4         197.877406  lightgrey  "
      ]
     },
     "execution_count": 134,
     "metadata": {},
     "output_type": "execute_result"
    }
   ],
   "source": [
    "strains_agg = (strains.groupby('Line Name',as_index=False)\n",
    "                       .agg({'dgfp_dt':'mean', 'Line Description':'first', 'cv_prediction_JBEI':'mean', 'cv_prediction_Tes':'mean', 'coloring':'first'}))\n",
    "strains_agg.head()"
   ]
  },
  {
   "cell_type": "markdown",
   "metadata": {
    "toc-hr-collapsed": true
   },
   "source": [
    "Plot cross validated predictions compared to mean observations"
   ]
  },
  {
   "cell_type": "code",
   "execution_count": 135,
   "metadata": {},
   "outputs": [],
   "source": [
    "sns.set_context(\"talk\")\n",
    "sns.set_style(\"white\")"
   ]
  },
  {
   "cell_type": "markdown",
   "metadata": {},
   "source": [
    "For JBEI"
   ]
  },
  {
   "cell_type": "code",
   "execution_count": 191,
   "metadata": {},
   "outputs": [
    {
     "name": "stderr",
     "output_type": "stream",
     "text": [
      "/usr/local/share/jupyteruser/.pyenv/versions/ART_3.6/lib/python3.6/site-packages/matplotlib/figure.py:2366: UserWarning: This figure includes Axes that are not compatible with tight_layout, so results might be incorrect.\n",
      "  warnings.warn(\"This figure includes Axes that are not compatible \"\n"
     ]
    },
    {
     "data": {
      "image/png": "[encoded data removed]",
      "text/plain": [
       "<Figure size 360x360 with 1 Axes>"
      ]
     },
     "metadata": {},
     "output_type": "display_data"
    }
   ],
   "source": [
    "fig, ax = plt.subplots(figsize=(5, 5))\n",
    "fig.set_tight_layout(True)\n",
    "strains_agg.plot(kind = 'scatter', x='dgfp_dt', y = 'cv_prediction_JBEI', color=strains_agg.coloring, s=35, ax=ax)\n",
    "\n",
    "pred_art = np.array(strains_agg['cv_prediction_JBEI'])\n",
    "obs = np.array(strains_agg['dgfp_dt'])\n",
    "ind_nan = np.isnan(pred_art)\n",
    "r2 = np.round(r2_score(obs[~ind_nan], pred_art[~ind_nan]),2)\n",
    "\n",
    "ax.set_xlabel('Average GFP synthesis rate, MFI/h')\n",
    "ax.set_ylabel('Cross validated predictions, MFI/h')\n",
    "ax.text(10, 280,f'$R^2$={r2}',fontsize=14)\n",
    "\n",
    "ax.set_xlim(0, 300)\n",
    "ax.set_ylim(0, 300)\n",
    "\n",
    "# Plot Diagonal Dashed Line\n",
    "lims = [np.min([ax.get_xlim(), ax.get_ylim()]),  # min of both axes\n",
    "        np.max([ax.get_xlim(), ax.get_ylim()])]  # max of both axes\n",
    "ax.plot(lims, lims, ls='--', color='.8', zorder=0)\n",
    "fig.savefig(\"./figures/Figure 5E.pdf\")"
   ]
  },
  {
   "cell_type": "markdown",
   "metadata": {},
   "source": [
    "For Teselagen"
   ]
  },
  {
   "cell_type": "code",
   "execution_count": 192,
   "metadata": {},
   "outputs": [
    {
     "name": "stderr",
     "output_type": "stream",
     "text": [
      "/usr/local/share/jupyteruser/.pyenv/versions/ART_3.6/lib/python3.6/site-packages/matplotlib/figure.py:2366: UserWarning: This figure includes Axes that are not compatible with tight_layout, so results might be incorrect.\n",
      "  warnings.warn(\"This figure includes Axes that are not compatible \"\n"
     ]
    },
    {
     "data": {
      "image/png": "[encoded data removed]",
      "text/plain": [
       "<Figure size 360x360 with 1 Axes>"
      ]
     },
     "metadata": {},
     "output_type": "display_data"
    }
   ],
   "source": [
    "fig, ax = plt.subplots(figsize=(5, 5))\n",
    "fig.set_tight_layout(True)\n",
    "strains_agg.plot(kind = 'scatter', x='dgfp_dt', y = 'cv_prediction_Tes', color=strains_agg.coloring, s=35, ax=ax)\n",
    "\n",
    "pred_tes = np.array(strains_agg['cv_prediction_Tes'])\n",
    "obs = np.array(strains_agg['dgfp_dt'])\n",
    "ind_nan = np.isnan(pred_tes)\n",
    "r2 = np.round(r2_score(obs[~ind_nan], pred_tes[~ind_nan]),2)\n",
    "\n",
    "ax.set_xlabel('Average GFP synthesis rate, MFI/h')\n",
    "ax.set_ylabel('Cross validated predictions, MFI/h')\n",
    "ax.text(10, 280,f'$R^2$={r2}',fontsize=14)\n",
    "\n",
    "ax.set_xlim(0, 300)\n",
    "ax.set_ylim(0, 300)\n",
    "\n",
    "# Plot Diagonal Dashed Line\n",
    "lims = [np.min([ax.get_xlim(), ax.get_ylim()]),  # min of both axes\n",
    "        np.max([ax.get_xlim(), ax.get_ylim()])]  # max of both axes\n",
    "ax.plot(lims, lims, ls='--', color='.8', zorder=0)\n",
    "fig.savefig(\"./figures/Figure 5F.pdf\")"
   ]
  },
  {
   "cell_type": "markdown",
   "metadata": {},
   "source": [
    "# Figure 3D"
   ]
  },
  {
   "cell_type": "code",
   "execution_count": 138,
   "metadata": {},
   "outputs": [
    {
     "data": {
      "text/html": [
       "<div>\n",
       "<style scoped>\n",
       "    .dataframe tbody tr th:only-of-type {\n",
       "        vertical-align: middle;\n",
       "    }\n",
       "\n",
       "    .dataframe tbody tr th {\n",
       "        vertical-align: top;\n",
       "    }\n",
       "\n",
       "    .dataframe thead th {\n",
       "        text-align: right;\n",
       "    }\n",
       "</style>\n",
       "<table border=\"1\" class=\"dataframe\">\n",
       "  <thead>\n",
       "    <tr style=\"text-align: right;\">\n",
       "      <th></th>\n",
       "      <th>bios_mean</th>\n",
       "      <th>bios_se</th>\n",
       "      <th>hplc_mean</th>\n",
       "      <th>hplc_se</th>\n",
       "    </tr>\n",
       "  </thead>\n",
       "  <tbody>\n",
       "    <tr>\n",
       "      <th>0</th>\n",
       "      <td>3280.596226</td>\n",
       "      <td>206.019624</td>\n",
       "      <td>3.485611</td>\n",
       "      <td>0.079723</td>\n",
       "    </tr>\n",
       "    <tr>\n",
       "      <th>1</th>\n",
       "      <td>5123.172153</td>\n",
       "      <td>275.288558</td>\n",
       "      <td>5.334417</td>\n",
       "      <td>0.144421</td>\n",
       "    </tr>\n",
       "    <tr>\n",
       "      <th>2</th>\n",
       "      <td>6985.272887</td>\n",
       "      <td>200.730468</td>\n",
       "      <td>4.863333</td>\n",
       "      <td>0.289681</td>\n",
       "    </tr>\n",
       "    <tr>\n",
       "      <th>3</th>\n",
       "      <td>7425.070589</td>\n",
       "      <td>376.875999</td>\n",
       "      <td>5.856779</td>\n",
       "      <td>0.104144</td>\n",
       "    </tr>\n",
       "    <tr>\n",
       "      <th>4</th>\n",
       "      <td>3876.809365</td>\n",
       "      <td>267.557269</td>\n",
       "      <td>4.274195</td>\n",
       "      <td>0.254407</td>\n",
       "    </tr>\n",
       "    <tr>\n",
       "      <th>5</th>\n",
       "      <td>3588.420317</td>\n",
       "      <td>100.931333</td>\n",
       "      <td>3.656587</td>\n",
       "      <td>0.181026</td>\n",
       "    </tr>\n",
       "  </tbody>\n",
       "</table>\n",
       "</div>"
      ],
      "text/plain": [
       "     bios_mean     bios_se  hplc_mean   hplc_se\n",
       "0  3280.596226  206.019624   3.485611  0.079723\n",
       "1  5123.172153  275.288558   5.334417  0.144421\n",
       "2  6985.272887  200.730468   4.863333  0.289681\n",
       "3  7425.070589  376.875999   5.856779  0.104144\n",
       "4  3876.809365  267.557269   4.274195  0.254407\n",
       "5  3588.420317  100.931333   3.656587  0.181026"
      ]
     },
     "execution_count": 138,
     "metadata": {},
     "output_type": "execute_result"
    }
   ],
   "source": [
    "val = pd.read_csv('biosensor_val.csv')\n",
    "val"
   ]
  },
  {
   "cell_type": "code",
   "execution_count": 139,
   "metadata": {},
   "outputs": [],
   "source": [
    "gradient, intercept, r_value, p_value, std_err = stats.linregress(val.bios_mean,val.hplc_mean)\n",
    "#print(\"Gradient and intercept\", round(gradient,3), round(intercept,3))\n",
    "#print(\"R-squared\", round(r_value**2,3))\n",
    "#print(\"p-value\", round(p_value,3))"
   ]
  },
  {
   "cell_type": "code",
   "execution_count": 140,
   "metadata": {},
   "outputs": [
    {
     "name": "stderr",
     "output_type": "stream",
     "text": [
      "'c' argument looks like a single numeric RGB or RGBA sequence, which should be avoided as value-mapping will have precedence in case its length matches with 'x' & 'y'.  Please use a 2-D array with a single row if you really want to specify the same RGB or RGBA value for all points.\n",
      "/usr/local/share/jupyteruser/.pyenv/versions/ART_3.6/lib/python3.6/site-packages/matplotlib/figure.py:2366: UserWarning: This figure includes Axes that are not compatible with tight_layout, so results might be incorrect.\n",
      "  warnings.warn(\"This figure includes Axes that are not compatible \"\n"
     ]
    },
    {
     "data": {
      "image/png": "[encoded data removed]",
      "text/plain": [
       "<Figure size 360x360 with 1 Axes>"
      ]
     },
     "metadata": {},
     "output_type": "display_data"
    }
   ],
   "source": [
    "fig, ax = plt.subplots(figsize=(5, 5))\n",
    "fig.set_tight_layout(True)\n",
    "val.plot(kind='scatter',x='bios_mean',y='hplc_mean', ax=ax);\n",
    "ax.errorbar('bios_mean', 'hplc_mean',xerr='bios_se' ,yerr='hplc_se', ls='none', ecolor='black', data=val);\n",
    "\n",
    "xmin, xmax = val.bios_mean.min(),val.bios_mean.max()\n",
    "ymin, ymax = val.hplc_mean.min(),val.hplc_mean.max()\n",
    "\n",
    "ax.text(xmin, ymax, s=\"R-squared: \" + str(round(r_value**2,2)))\n",
    "ax.text(xmin, ymax-ymax/30, s=\"p-value: \" + str(round(p_value,3)))\n",
    "\n",
    "x_val = np.linspace(xmin,xmax,100)\n",
    "ax.plot(x_val, x_val*gradient + intercept, ls = '--', color = 'k');\n",
    "ax.set_xlim(3000, 8000)\n",
    "#ax.set_xticks(ax.get_xticks()[::2])\n",
    "\n",
    "ax.set_xlabel('Fluorescence / Optical density, MFI/OD600')\n",
    "ax.set_ylabel('Extracellular tryptophan / Optical density,\\n mg/OD600/L')\n",
    "\n",
    "fig.savefig(\"./figures/Figure 3D.pdf\")"
   ]
  },
  {
   "cell_type": "markdown",
   "metadata": {},
   "source": [
    "# Figure 3E"
   ]
  },
  {
   "cell_type": "markdown",
   "metadata": {},
   "source": [
    "Unnest the time series data that is nested within the main dataframe `strains`"
   ]
  },
  {
   "cell_type": "code",
   "execution_count": 141,
   "metadata": {},
   "outputs": [],
   "source": [
    "lst = []\n",
    "for i in range(len(strains)):\n",
    "    df = strains.iloc[i]['time_series']\n",
    "    df['Line Name'] = strains.iloc[i]['Line Name']\n",
    "    df['replicate_count'] = strains.iloc[i]['replicate_count']\n",
    "    df['origin'] = strains.iloc[i]['origin']\n",
    "    cols = df.columns.tolist()\n",
    "    cols = cols[-3:] + cols[:-3]\n",
    "    df = df[cols]\n",
    "    lst.append(df)\n",
    "strains_unnested_second = pd.concat(lst)"
   ]
  },
  {
   "cell_type": "markdown",
   "metadata": {},
   "source": [
    "Extract the library and control strains from `strains_unnested_second`"
   ]
  },
  {
   "cell_type": "code",
   "execution_count": 142,
   "metadata": {},
   "outputs": [],
   "source": [
    "strains_unnested_second_lib = strains_unnested_second[np.logical_or(strains_unnested_second['origin']=='lib',strains_unnested_second['origin']=='ctr')]                               "
   ]
  },
  {
   "cell_type": "markdown",
   "metadata": {},
   "source": [
    "Calculate gfp per od and add it to `strains_unnested_second`"
   ]
  },
  {
   "cell_type": "code",
   "execution_count": 143,
   "metadata": {},
   "outputs": [
    {
     "name": "stderr",
     "output_type": "stream",
     "text": [
      "/usr/local/share/jupyteruser/.pyenv/versions/ART_3.6/lib/python3.6/site-packages/ipykernel_launcher.py:1: SettingWithCopyWarning: \n",
      "A value is trying to be set on a copy of a slice from a DataFrame.\n",
      "Try using .loc[row_indexer,col_indexer] = value instead\n",
      "\n",
      "See the caveats in the documentation: http://pandas.pydata.org/pandas-docs/stable/indexing.html#indexing-view-versus-copy\n",
      "  \"\"\"Entry point for launching an IPython kernel.\n"
     ]
    }
   ],
   "source": [
    "strains_unnested_second_lib['gfp_p_od'] = strains_unnested_second_lib.apply(lambda row: row['gfp_minus_bg']/row['od_minus_bg'], axis=1).copy()"
   ]
  },
  {
   "cell_type": "markdown",
   "metadata": {},
   "source": [
    "Fluorescence divided by OD related to OD for library and control strains"
   ]
  },
  {
   "cell_type": "code",
   "execution_count": 144,
   "metadata": {},
   "outputs": [
    {
     "name": "stderr",
     "output_type": "stream",
     "text": [
      "/usr/local/share/jupyteruser/.pyenv/versions/ART_3.6/lib/python3.6/site-packages/matplotlib/figure.py:2366: UserWarning: This figure includes Axes that are not compatible with tight_layout, so results might be incorrect.\n",
      "  warnings.warn(\"This figure includes Axes that are not compatible \"\n"
     ]
    },
    {
     "data": {
      "image/png": "[encoded data removed]",
      "text/plain": [
       "<Figure size 360x360 with 1 Axes>"
      ]
     },
     "metadata": {},
     "output_type": "display_data"
    }
   ],
   "source": [
    "fig, ax = plt.subplots(figsize=(5, 5))\n",
    "fig.set_tight_layout(True)\n",
    "\n",
    "strains_unnested_second_lib.plot(kind = 'scatter', x='od_minus_bg', y = 'gfp_p_od', alpha = 0.1, color = 'k', s=10, ax=ax)\n",
    "ax.axvline(x=0.075, ls = '--', color = 'k')\n",
    "ax.axvline(x=0.15, ls = '--', color = 'k')\n",
    "\n",
    "ax.set_xlim(0, 0.5)\n",
    "ax.set_ylim(-1000, 10000)\n",
    "\n",
    "ax.set_xlabel('Optical density, OD600')\n",
    "ax.set_ylabel('Fluorescense / Optical density, MFI/OD600')\n",
    "\n",
    "fig.savefig(\"./figures/Figure 3E.pdf\")"
   ]
  },
  {
   "cell_type": "code",
   "execution_count": null,
   "metadata": {},
   "outputs": [],
   "source": []
  }
 ],
 "metadata": {
  "kernelspec": {
   "display_name": "ART_v3.6",
   "language": "python",
   "name": "art_v3.6"
  },
  "language_info": {
   "codemirror_mode": {
    "name": "ipython",
    "version": 3
   },
   "file_extension": ".py",
   "mimetype": "text/x-python",
   "name": "python",
   "nbconvert_exporter": "python",
   "pygments_lexer": "ipython3",
   "version": "3.6.5"
  },
  "toc-autonumbering": true,
  "toc-showcode": false,
  "toc-showmarkdowntxt": false
 },
 "nbformat": 4,
 "nbformat_minor": 4
}
